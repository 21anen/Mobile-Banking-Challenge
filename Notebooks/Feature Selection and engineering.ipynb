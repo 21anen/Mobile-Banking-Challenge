{
 "cells": [
  {
   "cell_type": "markdown",
   "source": [
    "## Group 2: Mobile Banking Prdiction Challenge\n",
    "#### Group Members\n",
    "- Anen Isaac\n",
    "-Godson Ntungi\n",
    "-Habiba Machela"
   ],
   "metadata": {
    "id": "SCfql7uwTlN5",
    "pycharm": {
     "name": "#%% md\n"
    }
   }
  },
  {
   "cell_type": "markdown",
   "source": [
    "### Feature Selection and Engineering"
   ],
   "metadata": {
    "id": "P9vflfayUd9J",
    "pycharm": {
     "name": "#%% md\n"
    }
   }
  },
  {
   "cell_type": "code",
   "execution_count": 1,
   "metadata": {
    "id": "EDyyNA-Co-U0",
    "executionInfo": {
     "status": "ok",
     "timestamp": 1661171230811,
     "user_tz": -180,
     "elapsed": 898,
     "user": {
      "displayName": "Godson Ntungi",
      "userId": "12314533037084644278"
     }
    },
    "pycharm": {
     "name": "#%%\n"
    }
   },
   "outputs": [],
   "source": [
    "# import important modules \n",
    "\n",
    "import pandas as pd\n",
    "import numpy as np\n",
    "import matplotlib.pyplot as plt\n",
    "import seaborn as sns  \n",
    "plt.rcParams[\"axes.labelsize\"] = 18\n",
    "import warnings\n",
    "warnings.filterwarnings('ignore')\n",
    "%matplotlib inline \n",
    "from sklearn.model_selection import train_test_split"
   ]
  },
  {
   "cell_type": "code",
   "execution_count": 2,
   "metadata": {
    "id": "bTqHRKlEv5Tg",
    "executionInfo": {
     "status": "ok",
     "timestamp": 1661171232044,
     "user_tz": -180,
     "elapsed": 1237,
     "user": {
      "displayName": "Godson Ntungi",
      "userId": "12314533037084644278"
     }
    },
    "pycharm": {
     "name": "#%%\n"
    }
   },
   "outputs": [],
   "source": [
    "url = 'https://raw.githubusercontent.com/21anen/Data-Science/main/Train.csv'\n",
    "data = pd.read_csv(url)"
   ]
  },
  {
   "cell_type": "code",
   "execution_count": 3,
   "metadata": {
    "colab": {
     "base_uri": "https://localhost:8080/",
     "height": 300
    },
    "executionInfo": {
     "elapsed": 12,
     "status": "ok",
     "timestamp": 1661171232045,
     "user": {
      "displayName": "Godson Ntungi",
      "userId": "12314533037084644278"
     },
     "user_tz": -180
    },
    "id": "PEcL0kPnyqsP",
    "outputId": "8c435799-607f-49ac-e0de-a5435e051d8c",
    "pycharm": {
     "name": "#%%\n"
    }
   },
   "outputs": [
    {
     "output_type": "execute_result",
     "data": {
      "text/plain": [
       "            ID  country_code  region   age  FQ1  FQ2  FQ3  FQ4  FQ5  FQ6  ...  \\\n",
       "0  ID_000J8GTZ             1       6  35.0    2  NaN  NaN    2  NaN  NaN  ...   \n",
       "1  ID_000QLXZM            32       7  70.0    2  NaN  NaN    2  NaN  NaN  ...   \n",
       "2  ID_001728I2            71       7  22.0    2  1.0  NaN    2  NaN  NaN  ...   \n",
       "3  ID_001R7IDN            48       3  27.0    1  NaN  NaN    2  NaN  2.0  ...   \n",
       "4  ID_0029QKF8            25       0  79.0    2  NaN  NaN    2  NaN  NaN  ...   \n",
       "\n",
       "   FQ27  FQ28  FQ29  FQ30  FQ31  FQ32  FQ33  FQ34  FQ37  Target  \n",
       "0   NaN   NaN   1.0   NaN   NaN   NaN   1.0   1.0     0       0  \n",
       "1   NaN   NaN   2.0   NaN   NaN   NaN   1.0   2.0     0       0  \n",
       "2   NaN   NaN   2.0   NaN   NaN   NaN   2.0   1.0     1       0  \n",
       "3   NaN   NaN   NaN   NaN   NaN   2.0   1.0   1.0     1       0  \n",
       "4   NaN   NaN   2.0   NaN   NaN   2.0   1.0   1.0     1       0  \n",
       "\n",
       "[5 rows x 42 columns]"
      ],
      "text/html": [
       "\n",
       "  <div id=\"df-763b68dd-2115-44ae-9e70-e8bece9b33f4\">\n",
       "    <div class=\"colab-df-container\">\n",
       "      <div>\n",
       "<style scoped>\n",
       "    .dataframe tbody tr th:only-of-type {\n",
       "        vertical-align: middle;\n",
       "    }\n",
       "\n",
       "    .dataframe tbody tr th {\n",
       "        vertical-align: top;\n",
       "    }\n",
       "\n",
       "    .dataframe thead th {\n",
       "        text-align: right;\n",
       "    }\n",
       "</style>\n",
       "<table border=\"1\" class=\"dataframe\">\n",
       "  <thead>\n",
       "    <tr style=\"text-align: right;\">\n",
       "      <th></th>\n",
       "      <th>ID</th>\n",
       "      <th>country_code</th>\n",
       "      <th>region</th>\n",
       "      <th>age</th>\n",
       "      <th>FQ1</th>\n",
       "      <th>FQ2</th>\n",
       "      <th>FQ3</th>\n",
       "      <th>FQ4</th>\n",
       "      <th>FQ5</th>\n",
       "      <th>FQ6</th>\n",
       "      <th>...</th>\n",
       "      <th>FQ27</th>\n",
       "      <th>FQ28</th>\n",
       "      <th>FQ29</th>\n",
       "      <th>FQ30</th>\n",
       "      <th>FQ31</th>\n",
       "      <th>FQ32</th>\n",
       "      <th>FQ33</th>\n",
       "      <th>FQ34</th>\n",
       "      <th>FQ37</th>\n",
       "      <th>Target</th>\n",
       "    </tr>\n",
       "  </thead>\n",
       "  <tbody>\n",
       "    <tr>\n",
       "      <th>0</th>\n",
       "      <td>ID_000J8GTZ</td>\n",
       "      <td>1</td>\n",
       "      <td>6</td>\n",
       "      <td>35.0</td>\n",
       "      <td>2</td>\n",
       "      <td>NaN</td>\n",
       "      <td>NaN</td>\n",
       "      <td>2</td>\n",
       "      <td>NaN</td>\n",
       "      <td>NaN</td>\n",
       "      <td>...</td>\n",
       "      <td>NaN</td>\n",
       "      <td>NaN</td>\n",
       "      <td>1.0</td>\n",
       "      <td>NaN</td>\n",
       "      <td>NaN</td>\n",
       "      <td>NaN</td>\n",
       "      <td>1.0</td>\n",
       "      <td>1.0</td>\n",
       "      <td>0</td>\n",
       "      <td>0</td>\n",
       "    </tr>\n",
       "    <tr>\n",
       "      <th>1</th>\n",
       "      <td>ID_000QLXZM</td>\n",
       "      <td>32</td>\n",
       "      <td>7</td>\n",
       "      <td>70.0</td>\n",
       "      <td>2</td>\n",
       "      <td>NaN</td>\n",
       "      <td>NaN</td>\n",
       "      <td>2</td>\n",
       "      <td>NaN</td>\n",
       "      <td>NaN</td>\n",
       "      <td>...</td>\n",
       "      <td>NaN</td>\n",
       "      <td>NaN</td>\n",
       "      <td>2.0</td>\n",
       "      <td>NaN</td>\n",
       "      <td>NaN</td>\n",
       "      <td>NaN</td>\n",
       "      <td>1.0</td>\n",
       "      <td>2.0</td>\n",
       "      <td>0</td>\n",
       "      <td>0</td>\n",
       "    </tr>\n",
       "    <tr>\n",
       "      <th>2</th>\n",
       "      <td>ID_001728I2</td>\n",
       "      <td>71</td>\n",
       "      <td>7</td>\n",
       "      <td>22.0</td>\n",
       "      <td>2</td>\n",
       "      <td>1.0</td>\n",
       "      <td>NaN</td>\n",
       "      <td>2</td>\n",
       "      <td>NaN</td>\n",
       "      <td>NaN</td>\n",
       "      <td>...</td>\n",
       "      <td>NaN</td>\n",
       "      <td>NaN</td>\n",
       "      <td>2.0</td>\n",
       "      <td>NaN</td>\n",
       "      <td>NaN</td>\n",
       "      <td>NaN</td>\n",
       "      <td>2.0</td>\n",
       "      <td>1.0</td>\n",
       "      <td>1</td>\n",
       "      <td>0</td>\n",
       "    </tr>\n",
       "    <tr>\n",
       "      <th>3</th>\n",
       "      <td>ID_001R7IDN</td>\n",
       "      <td>48</td>\n",
       "      <td>3</td>\n",
       "      <td>27.0</td>\n",
       "      <td>1</td>\n",
       "      <td>NaN</td>\n",
       "      <td>NaN</td>\n",
       "      <td>2</td>\n",
       "      <td>NaN</td>\n",
       "      <td>2.0</td>\n",
       "      <td>...</td>\n",
       "      <td>NaN</td>\n",
       "      <td>NaN</td>\n",
       "      <td>NaN</td>\n",
       "      <td>NaN</td>\n",
       "      <td>NaN</td>\n",
       "      <td>2.0</td>\n",
       "      <td>1.0</td>\n",
       "      <td>1.0</td>\n",
       "      <td>1</td>\n",
       "      <td>0</td>\n",
       "    </tr>\n",
       "    <tr>\n",
       "      <th>4</th>\n",
       "      <td>ID_0029QKF8</td>\n",
       "      <td>25</td>\n",
       "      <td>0</td>\n",
       "      <td>79.0</td>\n",
       "      <td>2</td>\n",
       "      <td>NaN</td>\n",
       "      <td>NaN</td>\n",
       "      <td>2</td>\n",
       "      <td>NaN</td>\n",
       "      <td>NaN</td>\n",
       "      <td>...</td>\n",
       "      <td>NaN</td>\n",
       "      <td>NaN</td>\n",
       "      <td>2.0</td>\n",
       "      <td>NaN</td>\n",
       "      <td>NaN</td>\n",
       "      <td>2.0</td>\n",
       "      <td>1.0</td>\n",
       "      <td>1.0</td>\n",
       "      <td>1</td>\n",
       "      <td>0</td>\n",
       "    </tr>\n",
       "  </tbody>\n",
       "</table>\n",
       "<p>5 rows × 42 columns</p>\n",
       "</div>\n",
       "      <button class=\"colab-df-convert\" onclick=\"convertToInteractive('df-763b68dd-2115-44ae-9e70-e8bece9b33f4')\"\n",
       "              title=\"Convert this dataframe to an interactive table.\"\n",
       "              style=\"display:none;\">\n",
       "        \n",
       "  <svg xmlns=\"http://www.w3.org/2000/svg\" height=\"24px\"viewBox=\"0 0 24 24\"\n",
       "       width=\"24px\">\n",
       "    <path d=\"M0 0h24v24H0V0z\" fill=\"none\"/>\n",
       "    <path d=\"M18.56 5.44l.94 2.06.94-2.06 2.06-.94-2.06-.94-.94-2.06-.94 2.06-2.06.94zm-11 1L8.5 8.5l.94-2.06 2.06-.94-2.06-.94L8.5 2.5l-.94 2.06-2.06.94zm10 10l.94 2.06.94-2.06 2.06-.94-2.06-.94-.94-2.06-.94 2.06-2.06.94z\"/><path d=\"M17.41 7.96l-1.37-1.37c-.4-.4-.92-.59-1.43-.59-.52 0-1.04.2-1.43.59L10.3 9.45l-7.72 7.72c-.78.78-.78 2.05 0 2.83L4 21.41c.39.39.9.59 1.41.59.51 0 1.02-.2 1.41-.59l7.78-7.78 2.81-2.81c.8-.78.8-2.07 0-2.86zM5.41 20L4 18.59l7.72-7.72 1.47 1.35L5.41 20z\"/>\n",
       "  </svg>\n",
       "      </button>\n",
       "      \n",
       "  <style>\n",
       "    .colab-df-container {\n",
       "      display:flex;\n",
       "      flex-wrap:wrap;\n",
       "      gap: 12px;\n",
       "    }\n",
       "\n",
       "    .colab-df-convert {\n",
       "      background-color: #E8F0FE;\n",
       "      border: none;\n",
       "      border-radius: 50%;\n",
       "      cursor: pointer;\n",
       "      display: none;\n",
       "      fill: #1967D2;\n",
       "      height: 32px;\n",
       "      padding: 0 0 0 0;\n",
       "      width: 32px;\n",
       "    }\n",
       "\n",
       "    .colab-df-convert:hover {\n",
       "      background-color: #E2EBFA;\n",
       "      box-shadow: 0px 1px 2px rgba(60, 64, 67, 0.3), 0px 1px 3px 1px rgba(60, 64, 67, 0.15);\n",
       "      fill: #174EA6;\n",
       "    }\n",
       "\n",
       "    [theme=dark] .colab-df-convert {\n",
       "      background-color: #3B4455;\n",
       "      fill: #D2E3FC;\n",
       "    }\n",
       "\n",
       "    [theme=dark] .colab-df-convert:hover {\n",
       "      background-color: #434B5C;\n",
       "      box-shadow: 0px 1px 3px 1px rgba(0, 0, 0, 0.15);\n",
       "      filter: drop-shadow(0px 1px 2px rgba(0, 0, 0, 0.3));\n",
       "      fill: #FFFFFF;\n",
       "    }\n",
       "  </style>\n",
       "\n",
       "      <script>\n",
       "        const buttonEl =\n",
       "          document.querySelector('#df-763b68dd-2115-44ae-9e70-e8bece9b33f4 button.colab-df-convert');\n",
       "        buttonEl.style.display =\n",
       "          google.colab.kernel.accessAllowed ? 'block' : 'none';\n",
       "\n",
       "        async function convertToInteractive(key) {\n",
       "          const element = document.querySelector('#df-763b68dd-2115-44ae-9e70-e8bece9b33f4');\n",
       "          const dataTable =\n",
       "            await google.colab.kernel.invokeFunction('convertToInteractive',\n",
       "                                                     [key], {});\n",
       "          if (!dataTable) return;\n",
       "\n",
       "          const docLinkHtml = 'Like what you see? Visit the ' +\n",
       "            '<a target=\"_blank\" href=https://colab.research.google.com/notebooks/data_table.ipynb>data table notebook</a>'\n",
       "            + ' to learn more about interactive tables.';\n",
       "          element.innerHTML = '';\n",
       "          dataTable['output_type'] = 'display_data';\n",
       "          await google.colab.output.renderOutput(dataTable, element);\n",
       "          const docLink = document.createElement('div');\n",
       "          docLink.innerHTML = docLinkHtml;\n",
       "          element.appendChild(docLink);\n",
       "        }\n",
       "      </script>\n",
       "    </div>\n",
       "  </div>\n",
       "  "
      ]
     },
     "metadata": {},
     "execution_count": 3
    }
   ],
   "source": [
    "data.head()"
   ]
  },
  {
   "cell_type": "code",
   "execution_count": 4,
   "metadata": {
    "colab": {
     "base_uri": "https://localhost:8080/"
    },
    "executionInfo": {
     "elapsed": 468,
     "status": "ok",
     "timestamp": 1661171306907,
     "user": {
      "displayName": "Godson Ntungi",
      "userId": "12314533037084644278"
     },
     "user_tz": -180
    },
    "id": "eHUJZHwxrlQK",
    "outputId": "7984c2b5-bc31-4db1-c41f-56e4e66423ab",
    "pycharm": {
     "name": "#%%\n"
    }
   },
   "outputs": [
    {
     "output_type": "stream",
     "name": "stdout",
     "text": [
      "train data shape : (108446, 42)\n"
     ]
    }
   ],
   "source": [
    "# print shape \n",
    "print('train data shape :', data.shape)"
   ]
  },
  {
   "cell_type": "code",
   "execution_count": 5,
   "metadata": {
    "colab": {
     "base_uri": "https://localhost:8080/"
    },
    "executionInfo": {
     "elapsed": 4,
     "status": "ok",
     "timestamp": 1661171307383,
     "user": {
      "displayName": "Godson Ntungi",
      "userId": "12314533037084644278"
     },
     "user_tz": -180
    },
    "id": "1yphJsC4rlxj",
    "outputId": "0beb315c-4fe3-481e-ae66-4999189883e5",
    "pycharm": {
     "name": "#%%\n"
    }
   },
   "outputs": [
    {
     "output_type": "execute_result",
     "data": {
      "text/plain": [
       "['ID',\n",
       " 'country_code',\n",
       " 'region',\n",
       " 'age',\n",
       " 'FQ1',\n",
       " 'FQ2',\n",
       " 'FQ3',\n",
       " 'FQ4',\n",
       " 'FQ5',\n",
       " 'FQ6',\n",
       " 'FQ7',\n",
       " 'FQ8',\n",
       " 'FQ9',\n",
       " 'FQ10',\n",
       " 'FQ11',\n",
       " 'FQ12',\n",
       " 'FQ13',\n",
       " 'FQ14',\n",
       " 'FQ15',\n",
       " 'FQ16',\n",
       " 'FQ17',\n",
       " 'FQ18',\n",
       " 'FQ19',\n",
       " 'FQ20',\n",
       " 'FQ21',\n",
       " 'FQ22',\n",
       " 'FQ23',\n",
       " 'FQ24',\n",
       " 'FQ35',\n",
       " 'FQ36',\n",
       " 'FQ25',\n",
       " 'FQ26',\n",
       " 'FQ27',\n",
       " 'FQ28',\n",
       " 'FQ29',\n",
       " 'FQ30',\n",
       " 'FQ31',\n",
       " 'FQ32',\n",
       " 'FQ33',\n",
       " 'FQ34',\n",
       " 'FQ37',\n",
       " 'Target']"
      ]
     },
     "metadata": {},
     "execution_count": 5
    }
   ],
   "source": [
    "#show list of columns \n",
    "list(data.columns)  "
   ]
  },
  {
   "cell_type": "code",
   "execution_count": 6,
   "metadata": {
    "colab": {
     "base_uri": "https://localhost:8080/"
    },
    "executionInfo": {
     "elapsed": 3,
     "status": "ok",
     "timestamp": 1661171307796,
     "user": {
      "displayName": "Godson Ntungi",
      "userId": "12314533037084644278"
     },
     "user_tz": -180
    },
    "id": "29Gcbw3urmGQ",
    "outputId": "19279d81-5159-4632-82c8-4aa35801a2e8",
    "pycharm": {
     "name": "#%%\n"
    }
   },
   "outputs": [
    {
     "output_type": "stream",
     "name": "stdout",
     "text": [
      "<class 'pandas.core.frame.DataFrame'>\n",
      "RangeIndex: 108446 entries, 0 to 108445\n",
      "Data columns (total 42 columns):\n",
      " #   Column        Non-Null Count   Dtype  \n",
      "---  ------        --------------   -----  \n",
      " 0   ID            108446 non-null  object \n",
      " 1   country_code  108446 non-null  int64  \n",
      " 2   region        108446 non-null  int64  \n",
      " 3   age           108124 non-null  float64\n",
      " 4   FQ1           108446 non-null  int64  \n",
      " 5   FQ2           49124 non-null   float64\n",
      " 6   FQ3           46218 non-null   float64\n",
      " 7   FQ4           108446 non-null  int64  \n",
      " 8   FQ5           21185 non-null   float64\n",
      " 9   FQ6           60659 non-null   float64\n",
      " 10  FQ7           60620 non-null   float64\n",
      " 11  FQ8           108446 non-null  int64  \n",
      " 12  FQ9           108446 non-null  int64  \n",
      " 13  FQ10          108446 non-null  int64  \n",
      " 14  FQ11          83876 non-null   float64\n",
      " 15  FQ12          108446 non-null  int64  \n",
      " 16  FQ13          108446 non-null  int64  \n",
      " 17  FQ14          108446 non-null  int64  \n",
      " 18  FQ15          108446 non-null  int64  \n",
      " 19  FQ16          108446 non-null  int64  \n",
      " 20  FQ17          11347 non-null   float64\n",
      " 21  FQ18          108446 non-null  int64  \n",
      " 22  FQ19          61039 non-null   float64\n",
      " 23  FQ20          83767 non-null   float64\n",
      " 24  FQ21          83811 non-null   float64\n",
      " 25  FQ22          108446 non-null  int64  \n",
      " 26  FQ23          108446 non-null  int64  \n",
      " 27  FQ24          38432 non-null   float64\n",
      " 28  FQ35          25889 non-null   float64\n",
      " 29  FQ36          11483 non-null   float64\n",
      " 30  FQ25          108446 non-null  int64  \n",
      " 31  FQ26          108446 non-null  int64  \n",
      " 32  FQ27          3200 non-null    float64\n",
      " 33  FQ28          1506 non-null    float64\n",
      " 34  FQ29          83912 non-null   float64\n",
      " 35  FQ30          2115 non-null    float64\n",
      " 36  FQ31          869 non-null     float64\n",
      " 37  FQ32          60796 non-null   float64\n",
      " 38  FQ33          108444 non-null  float64\n",
      " 39  FQ34          76652 non-null   float64\n",
      " 40  FQ37          108446 non-null  int64  \n",
      " 41  Target        108446 non-null  int64  \n",
      "dtypes: float64(22), int64(19), object(1)\n",
      "memory usage: 34.7+ MB\n",
      "None\n"
     ]
    }
   ],
   "source": [
    "## show Some information about the dataset \n",
    "print(data.info())"
   ]
  },
  {
   "cell_type": "markdown",
   "source": [
    "**Checking for Missing Values**"
   ],
   "metadata": {
    "id": "fJIzwqDLU4Xr",
    "pycharm": {
     "name": "#%% md\n"
    }
   }
  },
  {
   "cell_type": "code",
   "execution_count": 7,
   "metadata": {
    "colab": {
     "base_uri": "https://localhost:8080/"
    },
    "executionInfo": {
     "elapsed": 3,
     "status": "ok",
     "timestamp": 1661171308570,
     "user": {
      "displayName": "Godson Ntungi",
      "userId": "12314533037084644278"
     },
     "user_tz": -180
    },
    "id": "tODURe_NyusP",
    "outputId": "81375dfc-bafb-4c25-d49f-f313f5abd255",
    "pycharm": {
     "name": "#%%\n"
    }
   },
   "outputs": [
    {
     "output_type": "stream",
     "name": "stdout",
     "text": [
      "missing values: ID                   0\n",
      "country_code         0\n",
      "region               0\n",
      "age                322\n",
      "FQ1                  0\n",
      "FQ2              59322\n",
      "FQ3              62228\n",
      "FQ4                  0\n",
      "FQ5              87261\n",
      "FQ6              47787\n",
      "FQ7              47826\n",
      "FQ8                  0\n",
      "FQ9                  0\n",
      "FQ10                 0\n",
      "FQ11             24570\n",
      "FQ12                 0\n",
      "FQ13                 0\n",
      "FQ14                 0\n",
      "FQ15                 0\n",
      "FQ16                 0\n",
      "FQ17             97099\n",
      "FQ18                 0\n",
      "FQ19             47407\n",
      "FQ20             24679\n",
      "FQ21             24635\n",
      "FQ22                 0\n",
      "FQ23                 0\n",
      "FQ24             70014\n",
      "FQ35             82557\n",
      "FQ36             96963\n",
      "FQ25                 0\n",
      "FQ26                 0\n",
      "FQ27            105246\n",
      "FQ28            106940\n",
      "FQ29             24534\n",
      "FQ30            106331\n",
      "FQ31            107577\n",
      "FQ32             47650\n",
      "FQ33                 2\n",
      "FQ34             31794\n",
      "FQ37                 0\n",
      "Target               0\n",
      "dtype: int64\n"
     ]
    }
   ],
   "source": [
    "# Check for missing values\n",
    "print('missing values:', data.isnull().sum())              "
   ]
  },
  {
   "cell_type": "markdown",
   "source": [
    "**Removing columns with more than 70% missing values**"
   ],
   "metadata": {
    "id": "o-hRLUjDVBEE",
    "pycharm": {
     "name": "#%% md\n"
    }
   }
  },
  {
   "cell_type": "code",
   "execution_count": 8,
   "metadata": {
    "colab": {
     "base_uri": "https://localhost:8080/"
    },
    "executionInfo": {
     "elapsed": 3,
     "status": "ok",
     "timestamp": 1661171309425,
     "user": {
      "displayName": "Godson Ntungi",
      "userId": "12314533037084644278"
     },
     "user_tz": -180
    },
    "id": "m8CZ1TTNzoML",
    "outputId": "dfde137e-134b-4717-f2d8-0efa47edf555",
    "pycharm": {
     "name": "#%%\n"
    }
   },
   "outputs": [
    {
     "output_type": "stream",
     "name": "stdout",
     "text": [
      "dropped features:  Index(['FQ5', 'FQ17', 'FQ35', 'FQ36', 'FQ27', 'FQ28', 'FQ30', 'FQ31'], dtype='object')\n"
     ]
    }
   ],
   "source": [
    "#drop columns that have 70% or more of data missing\n",
    "data_null = data.isnull().sum() / len(data)\n",
    "missing_features = data_null[data_null > 0.70].index\n",
    "print('dropped features: ',missing_features)\n",
    "data.drop(missing_features, axis=1, inplace=True)"
   ]
  },
  {
   "cell_type": "code",
   "execution_count": 9,
   "metadata": {
    "colab": {
     "base_uri": "https://localhost:8080/"
    },
    "executionInfo": {
     "elapsed": 6,
     "status": "ok",
     "timestamp": 1661171309817,
     "user": {
      "displayName": "Godson Ntungi",
      "userId": "12314533037084644278"
     },
     "user_tz": -180
    },
    "id": "Cuvgl8o0yWTL",
    "outputId": "fdc53e26-28cc-4e73-dbab-a31a58f5a780",
    "pycharm": {
     "name": "#%%\n"
    }
   },
   "outputs": [
    {
     "output_type": "stream",
     "name": "stdout",
     "text": [
      "missing values: ID                  0\n",
      "country_code        0\n",
      "region              0\n",
      "age               322\n",
      "FQ1                 0\n",
      "FQ2             59322\n",
      "FQ3             62228\n",
      "FQ4                 0\n",
      "FQ6             47787\n",
      "FQ7             47826\n",
      "FQ8                 0\n",
      "FQ9                 0\n",
      "FQ10                0\n",
      "FQ11            24570\n",
      "FQ12                0\n",
      "FQ13                0\n",
      "FQ14                0\n",
      "FQ15                0\n",
      "FQ16                0\n",
      "FQ18                0\n",
      "FQ19            47407\n",
      "FQ20            24679\n",
      "FQ21            24635\n",
      "FQ22                0\n",
      "FQ23                0\n",
      "FQ24            70014\n",
      "FQ25                0\n",
      "FQ26                0\n",
      "FQ29            24534\n",
      "FQ32            47650\n",
      "FQ33                2\n",
      "FQ34            31794\n",
      "FQ37                0\n",
      "Target              0\n",
      "dtype: int64\n"
     ]
    }
   ],
   "source": [
    "# Check again for missing values\n",
    "print('missing values:', data.isnull().sum()) "
   ]
  },
  {
   "cell_type": "code",
   "source": [
    "data['region'].unique()"
   ],
   "metadata": {
    "colab": {
     "base_uri": "https://localhost:8080/"
    },
    "id": "k4XgH0Oh9r_6",
    "executionInfo": {
     "status": "ok",
     "timestamp": 1661171310198,
     "user_tz": -180,
     "elapsed": 5,
     "user": {
      "displayName": "Godson Ntungi",
      "userId": "12314533037084644278"
     }
    },
    "outputId": "dcc4f465-6239-4a55-fff2-acd1224afaa3",
    "pycharm": {
     "name": "#%%\n"
    }
   },
   "execution_count": 10,
   "outputs": [
    {
     "output_type": "execute_result",
     "data": {
      "text/plain": [
       "array([ 6,  7,  3,  0,  4,  2,  1,  5, -1])"
      ]
     },
     "metadata": {},
     "execution_count": 10
    }
   ]
  },
  {
   "cell_type": "code",
   "execution_count": 11,
   "metadata": {
    "id": "ZNndikOSAM5O",
    "executionInfo": {
     "status": "ok",
     "timestamp": 1661171310967,
     "user_tz": -180,
     "elapsed": 399,
     "user": {
      "displayName": "Godson Ntungi",
      "userId": "12314533037084644278"
     }
    },
    "pycharm": {
     "name": "#%%\n"
    }
   },
   "outputs": [],
   "source": [
    "#import package \n",
    "from sklearn.ensemble import ExtraTreesClassifier, RandomForestClassifier"
   ]
  },
  {
   "cell_type": "markdown",
   "source": [
    "**Filling Missing values**"
   ],
   "metadata": {
    "id": "Kka--0dIVNiP",
    "pycharm": {
     "name": "#%% md\n"
    }
   }
  },
  {
   "cell_type": "code",
   "execution_count": 12,
   "metadata": {
    "colab": {
     "base_uri": "https://localhost:8080/"
    },
    "executionInfo": {
     "elapsed": 5,
     "status": "ok",
     "timestamp": 1661171311351,
     "user": {
      "displayName": "Godson Ntungi",
      "userId": "12314533037084644278"
     },
     "user_tz": -180
    },
    "id": "fE2J8chCt6wS",
    "outputId": "6c3476ed-6ddf-4f79-807b-efe5c10e0ef6",
    "pycharm": {
     "name": "#%%\n"
    }
   },
   "outputs": [
    {
     "output_type": "stream",
     "name": "stdout",
     "text": [
      "missing values: ID              0\n",
      "country_code    0\n",
      "region          0\n",
      "age             0\n",
      "FQ1             0\n",
      "FQ2             0\n",
      "FQ3             0\n",
      "FQ4             0\n",
      "FQ6             0\n",
      "FQ7             0\n",
      "FQ8             0\n",
      "FQ9             0\n",
      "FQ10            0\n",
      "FQ11            0\n",
      "FQ12            0\n",
      "FQ13            0\n",
      "FQ14            0\n",
      "FQ15            0\n",
      "FQ16            0\n",
      "FQ18            0\n",
      "FQ19            0\n",
      "FQ20            0\n",
      "FQ21            0\n",
      "FQ22            0\n",
      "FQ23            0\n",
      "FQ24            0\n",
      "FQ25            0\n",
      "FQ26            0\n",
      "FQ29            0\n",
      "FQ32            0\n",
      "FQ33            0\n",
      "FQ34            0\n",
      "FQ37            0\n",
      "Target          0\n",
      "dtype: int64\n"
     ]
    }
   ],
   "source": [
    "## Filling missing values\n",
    "#for numerical data we use mean\n",
    "#for categorical data we use mode(value of the highest frequency)\n",
    "data['age'] = data['age'].fillna(data['age'].mean())\n",
    "data['FQ2'] = data['FQ2'].fillna(data['FQ2'].mode()[0])\n",
    "data['FQ3'] = data['FQ3'].fillna(data['FQ3'].mode()[0])\n",
    "data['FQ6'] = data['FQ6'].fillna(data['FQ6'].mode()[0])\n",
    "data['FQ7'] = data['FQ7'].fillna(data['FQ7'].mode()[0])\n",
    "data['FQ11'] = data['FQ11'].fillna(data['FQ11'].mode()[0])\n",
    "data['FQ19'] = data['FQ19'].fillna(data['FQ19'].mode()[0])\n",
    "data['FQ20'] = data['FQ20'].fillna(data['FQ20'].mode()[0])\n",
    "data['FQ21'] = data['FQ21'].fillna(data['FQ21'].mode()[0])\n",
    "data['FQ24'] = data['FQ24'].fillna(data['FQ24'].mode()[0])\n",
    "data['FQ29'] = data['FQ29'].fillna(data['FQ29'].mode()[0])\n",
    "data['FQ32'] = data['FQ32'].fillna(data['FQ32'].mode()[0])\n",
    "data['FQ33'] = data['FQ33'].fillna(data['FQ33'].mode()[0])\n",
    "data['FQ34'] = data['FQ34'].fillna(data['FQ34'].mode()[0])\n",
    "\n",
    "print('missing values:', data.isnull().sum())"
   ]
  },
  {
   "cell_type": "code",
   "source": [
    "data['FQ2'].mode()"
   ],
   "metadata": {
    "id": "3eFh12qWVVL7",
    "executionInfo": {
     "status": "ok",
     "timestamp": 1661171312463,
     "user_tz": -180,
     "elapsed": 6,
     "user": {
      "displayName": "Godson Ntungi",
      "userId": "12314533037084644278"
     }
    },
    "outputId": "a8507b0c-2490-40ce-fb67-9c214512273c",
    "colab": {
     "base_uri": "https://localhost:8080/"
    },
    "pycharm": {
     "name": "#%%\n"
    }
   },
   "execution_count": 13,
   "outputs": [
    {
     "output_type": "execute_result",
     "data": {
      "text/plain": [
       "0    1.0\n",
       "dtype: float64"
      ]
     },
     "metadata": {},
     "execution_count": 13
    }
   ]
  },
  {
   "cell_type": "code",
   "execution_count": 14,
   "metadata": {
    "colab": {
     "base_uri": "https://localhost:8080/"
    },
    "executionInfo": {
     "elapsed": 7,
     "status": "ok",
     "timestamp": 1661171312465,
     "user": {
      "displayName": "Godson Ntungi",
      "userId": "12314533037084644278"
     },
     "user_tz": -180
    },
    "id": "VoBj9VM97893",
    "outputId": "c5b73805-af9e-4935-c295-906553bc8f59",
    "pycharm": {
     "name": "#%%\n"
    }
   },
   "outputs": [
    {
     "output_type": "execute_result",
     "data": {
      "text/plain": [
       "(108446, 33)"
      ]
     },
     "metadata": {},
     "execution_count": 14
    }
   ],
   "source": [
    "#remove ID feature \n",
    "\n",
    "data = data.drop('ID', axis=1)\n",
    "\n",
    "data.shape "
   ]
  },
  {
   "cell_type": "code",
   "execution_count": 15,
   "metadata": {
    "colab": {
     "base_uri": "https://localhost:8080/",
     "height": 300
    },
    "executionInfo": {
     "elapsed": 8,
     "status": "ok",
     "timestamp": 1661171312932,
     "user": {
      "displayName": "Godson Ntungi",
      "userId": "12314533037084644278"
     },
     "user_tz": -180
    },
    "id": "JK1Xbt5s79D6",
    "outputId": "96d24e75-152b-4a3a-f6ef-71cada85e891",
    "pycharm": {
     "name": "#%%\n"
    }
   },
   "outputs": [
    {
     "output_type": "execute_result",
     "data": {
      "text/plain": [
       "   country_code  region   age  FQ1  FQ2  FQ3  FQ4  FQ6  FQ7  FQ8  ...  FQ23  \\\n",
       "0             1       6  35.0    2  1.0  1.0    2  1.0  1.0    2  ...     2   \n",
       "1            32       7  70.0    2  1.0  1.0    2  1.0  1.0    2  ...     2   \n",
       "2            71       7  22.0    2  1.0  1.0    2  1.0  1.0    2  ...     2   \n",
       "3            48       3  27.0    1  1.0  1.0    2  2.0  1.0    2  ...     2   \n",
       "4            25       0  79.0    2  1.0  1.0    2  1.0  1.0    2  ...     1   \n",
       "\n",
       "   FQ24  FQ25  FQ26  FQ29  FQ32  FQ33  FQ34  FQ37  Target  \n",
       "0   2.0     2     2   1.0   2.0   1.0   1.0     0       0  \n",
       "1   2.0     1     1   2.0   2.0   1.0   2.0     0       0  \n",
       "2   2.0     2     1   2.0   2.0   2.0   1.0     1       0  \n",
       "3   2.0     2     2   2.0   2.0   1.0   1.0     1       0  \n",
       "4   2.0     2     2   2.0   2.0   1.0   1.0     1       0  \n",
       "\n",
       "[5 rows x 33 columns]"
      ],
      "text/html": [
       "\n",
       "  <div id=\"df-7091cae6-cd9c-4c8e-98cd-4e375853ae6c\">\n",
       "    <div class=\"colab-df-container\">\n",
       "      <div>\n",
       "<style scoped>\n",
       "    .dataframe tbody tr th:only-of-type {\n",
       "        vertical-align: middle;\n",
       "    }\n",
       "\n",
       "    .dataframe tbody tr th {\n",
       "        vertical-align: top;\n",
       "    }\n",
       "\n",
       "    .dataframe thead th {\n",
       "        text-align: right;\n",
       "    }\n",
       "</style>\n",
       "<table border=\"1\" class=\"dataframe\">\n",
       "  <thead>\n",
       "    <tr style=\"text-align: right;\">\n",
       "      <th></th>\n",
       "      <th>country_code</th>\n",
       "      <th>region</th>\n",
       "      <th>age</th>\n",
       "      <th>FQ1</th>\n",
       "      <th>FQ2</th>\n",
       "      <th>FQ3</th>\n",
       "      <th>FQ4</th>\n",
       "      <th>FQ6</th>\n",
       "      <th>FQ7</th>\n",
       "      <th>FQ8</th>\n",
       "      <th>...</th>\n",
       "      <th>FQ23</th>\n",
       "      <th>FQ24</th>\n",
       "      <th>FQ25</th>\n",
       "      <th>FQ26</th>\n",
       "      <th>FQ29</th>\n",
       "      <th>FQ32</th>\n",
       "      <th>FQ33</th>\n",
       "      <th>FQ34</th>\n",
       "      <th>FQ37</th>\n",
       "      <th>Target</th>\n",
       "    </tr>\n",
       "  </thead>\n",
       "  <tbody>\n",
       "    <tr>\n",
       "      <th>0</th>\n",
       "      <td>1</td>\n",
       "      <td>6</td>\n",
       "      <td>35.0</td>\n",
       "      <td>2</td>\n",
       "      <td>1.0</td>\n",
       "      <td>1.0</td>\n",
       "      <td>2</td>\n",
       "      <td>1.0</td>\n",
       "      <td>1.0</td>\n",
       "      <td>2</td>\n",
       "      <td>...</td>\n",
       "      <td>2</td>\n",
       "      <td>2.0</td>\n",
       "      <td>2</td>\n",
       "      <td>2</td>\n",
       "      <td>1.0</td>\n",
       "      <td>2.0</td>\n",
       "      <td>1.0</td>\n",
       "      <td>1.0</td>\n",
       "      <td>0</td>\n",
       "      <td>0</td>\n",
       "    </tr>\n",
       "    <tr>\n",
       "      <th>1</th>\n",
       "      <td>32</td>\n",
       "      <td>7</td>\n",
       "      <td>70.0</td>\n",
       "      <td>2</td>\n",
       "      <td>1.0</td>\n",
       "      <td>1.0</td>\n",
       "      <td>2</td>\n",
       "      <td>1.0</td>\n",
       "      <td>1.0</td>\n",
       "      <td>2</td>\n",
       "      <td>...</td>\n",
       "      <td>2</td>\n",
       "      <td>2.0</td>\n",
       "      <td>1</td>\n",
       "      <td>1</td>\n",
       "      <td>2.0</td>\n",
       "      <td>2.0</td>\n",
       "      <td>1.0</td>\n",
       "      <td>2.0</td>\n",
       "      <td>0</td>\n",
       "      <td>0</td>\n",
       "    </tr>\n",
       "    <tr>\n",
       "      <th>2</th>\n",
       "      <td>71</td>\n",
       "      <td>7</td>\n",
       "      <td>22.0</td>\n",
       "      <td>2</td>\n",
       "      <td>1.0</td>\n",
       "      <td>1.0</td>\n",
       "      <td>2</td>\n",
       "      <td>1.0</td>\n",
       "      <td>1.0</td>\n",
       "      <td>2</td>\n",
       "      <td>...</td>\n",
       "      <td>2</td>\n",
       "      <td>2.0</td>\n",
       "      <td>2</td>\n",
       "      <td>1</td>\n",
       "      <td>2.0</td>\n",
       "      <td>2.0</td>\n",
       "      <td>2.0</td>\n",
       "      <td>1.0</td>\n",
       "      <td>1</td>\n",
       "      <td>0</td>\n",
       "    </tr>\n",
       "    <tr>\n",
       "      <th>3</th>\n",
       "      <td>48</td>\n",
       "      <td>3</td>\n",
       "      <td>27.0</td>\n",
       "      <td>1</td>\n",
       "      <td>1.0</td>\n",
       "      <td>1.0</td>\n",
       "      <td>2</td>\n",
       "      <td>2.0</td>\n",
       "      <td>1.0</td>\n",
       "      <td>2</td>\n",
       "      <td>...</td>\n",
       "      <td>2</td>\n",
       "      <td>2.0</td>\n",
       "      <td>2</td>\n",
       "      <td>2</td>\n",
       "      <td>2.0</td>\n",
       "      <td>2.0</td>\n",
       "      <td>1.0</td>\n",
       "      <td>1.0</td>\n",
       "      <td>1</td>\n",
       "      <td>0</td>\n",
       "    </tr>\n",
       "    <tr>\n",
       "      <th>4</th>\n",
       "      <td>25</td>\n",
       "      <td>0</td>\n",
       "      <td>79.0</td>\n",
       "      <td>2</td>\n",
       "      <td>1.0</td>\n",
       "      <td>1.0</td>\n",
       "      <td>2</td>\n",
       "      <td>1.0</td>\n",
       "      <td>1.0</td>\n",
       "      <td>2</td>\n",
       "      <td>...</td>\n",
       "      <td>1</td>\n",
       "      <td>2.0</td>\n",
       "      <td>2</td>\n",
       "      <td>2</td>\n",
       "      <td>2.0</td>\n",
       "      <td>2.0</td>\n",
       "      <td>1.0</td>\n",
       "      <td>1.0</td>\n",
       "      <td>1</td>\n",
       "      <td>0</td>\n",
       "    </tr>\n",
       "  </tbody>\n",
       "</table>\n",
       "<p>5 rows × 33 columns</p>\n",
       "</div>\n",
       "      <button class=\"colab-df-convert\" onclick=\"convertToInteractive('df-7091cae6-cd9c-4c8e-98cd-4e375853ae6c')\"\n",
       "              title=\"Convert this dataframe to an interactive table.\"\n",
       "              style=\"display:none;\">\n",
       "        \n",
       "  <svg xmlns=\"http://www.w3.org/2000/svg\" height=\"24px\"viewBox=\"0 0 24 24\"\n",
       "       width=\"24px\">\n",
       "    <path d=\"M0 0h24v24H0V0z\" fill=\"none\"/>\n",
       "    <path d=\"M18.56 5.44l.94 2.06.94-2.06 2.06-.94-2.06-.94-.94-2.06-.94 2.06-2.06.94zm-11 1L8.5 8.5l.94-2.06 2.06-.94-2.06-.94L8.5 2.5l-.94 2.06-2.06.94zm10 10l.94 2.06.94-2.06 2.06-.94-2.06-.94-.94-2.06-.94 2.06-2.06.94z\"/><path d=\"M17.41 7.96l-1.37-1.37c-.4-.4-.92-.59-1.43-.59-.52 0-1.04.2-1.43.59L10.3 9.45l-7.72 7.72c-.78.78-.78 2.05 0 2.83L4 21.41c.39.39.9.59 1.41.59.51 0 1.02-.2 1.41-.59l7.78-7.78 2.81-2.81c.8-.78.8-2.07 0-2.86zM5.41 20L4 18.59l7.72-7.72 1.47 1.35L5.41 20z\"/>\n",
       "  </svg>\n",
       "      </button>\n",
       "      \n",
       "  <style>\n",
       "    .colab-df-container {\n",
       "      display:flex;\n",
       "      flex-wrap:wrap;\n",
       "      gap: 12px;\n",
       "    }\n",
       "\n",
       "    .colab-df-convert {\n",
       "      background-color: #E8F0FE;\n",
       "      border: none;\n",
       "      border-radius: 50%;\n",
       "      cursor: pointer;\n",
       "      display: none;\n",
       "      fill: #1967D2;\n",
       "      height: 32px;\n",
       "      padding: 0 0 0 0;\n",
       "      width: 32px;\n",
       "    }\n",
       "\n",
       "    .colab-df-convert:hover {\n",
       "      background-color: #E2EBFA;\n",
       "      box-shadow: 0px 1px 2px rgba(60, 64, 67, 0.3), 0px 1px 3px 1px rgba(60, 64, 67, 0.15);\n",
       "      fill: #174EA6;\n",
       "    }\n",
       "\n",
       "    [theme=dark] .colab-df-convert {\n",
       "      background-color: #3B4455;\n",
       "      fill: #D2E3FC;\n",
       "    }\n",
       "\n",
       "    [theme=dark] .colab-df-convert:hover {\n",
       "      background-color: #434B5C;\n",
       "      box-shadow: 0px 1px 3px 1px rgba(0, 0, 0, 0.15);\n",
       "      filter: drop-shadow(0px 1px 2px rgba(0, 0, 0, 0.3));\n",
       "      fill: #FFFFFF;\n",
       "    }\n",
       "  </style>\n",
       "\n",
       "      <script>\n",
       "        const buttonEl =\n",
       "          document.querySelector('#df-7091cae6-cd9c-4c8e-98cd-4e375853ae6c button.colab-df-convert');\n",
       "        buttonEl.style.display =\n",
       "          google.colab.kernel.accessAllowed ? 'block' : 'none';\n",
       "\n",
       "        async function convertToInteractive(key) {\n",
       "          const element = document.querySelector('#df-7091cae6-cd9c-4c8e-98cd-4e375853ae6c');\n",
       "          const dataTable =\n",
       "            await google.colab.kernel.invokeFunction('convertToInteractive',\n",
       "                                                     [key], {});\n",
       "          if (!dataTable) return;\n",
       "\n",
       "          const docLinkHtml = 'Like what you see? Visit the ' +\n",
       "            '<a target=\"_blank\" href=https://colab.research.google.com/notebooks/data_table.ipynb>data table notebook</a>'\n",
       "            + ' to learn more about interactive tables.';\n",
       "          element.innerHTML = '';\n",
       "          dataTable['output_type'] = 'display_data';\n",
       "          await google.colab.output.renderOutput(dataTable, element);\n",
       "          const docLink = document.createElement('div');\n",
       "          docLink.innerHTML = docLinkHtml;\n",
       "          element.appendChild(docLink);\n",
       "        }\n",
       "      </script>\n",
       "    </div>\n",
       "  </div>\n",
       "  "
      ]
     },
     "metadata": {},
     "execution_count": 15
    }
   ],
   "source": [
    "#show first five rows\n",
    "data.head()"
   ]
  },
  {
   "cell_type": "code",
   "execution_count": 16,
   "metadata": {
    "id": "P0J-8jRF79JP",
    "executionInfo": {
     "status": "ok",
     "timestamp": 1661171313308,
     "user_tz": -180,
     "elapsed": 2,
     "user": {
      "displayName": "Godson Ntungi",
      "userId": "12314533037084644278"
     }
    },
    "pycharm": {
     "name": "#%%\n"
    }
   },
   "outputs": [],
   "source": [
    "# import MinMaxScaler\n",
    "from sklearn.preprocessing import MinMaxScaler"
   ]
  },
  {
   "cell_type": "markdown",
   "source": [
    "**Scaling numerical Features**"
   ],
   "metadata": {
    "id": "_rpyeKshVYMb",
    "pycharm": {
     "name": "#%% md\n"
    }
   }
  },
  {
   "cell_type": "code",
   "execution_count": 17,
   "metadata": {
    "id": "wK9NLQjgEyRN",
    "executionInfo": {
     "status": "ok",
     "timestamp": 1661171314223,
     "user_tz": -180,
     "elapsed": 4,
     "user": {
      "displayName": "Godson Ntungi",
      "userId": "12314533037084644278"
     }
    },
    "pycharm": {
     "name": "#%%\n"
    }
   },
   "outputs": [],
   "source": [
    "# feature scalling by using minmaxscaler method \n",
    "scaler = MinMaxScaler(feature_range=(0, 1))\n",
    "\n",
    "\n",
    "data['age'] = scaler.fit_transform(data['age'].values.reshape(-1,1))\n"
   ]
  },
  {
   "cell_type": "code",
   "source": [
    "import joblib"
   ],
   "metadata": {
    "id": "rntjQ6iNhstw",
    "executionInfo": {
     "status": "ok",
     "timestamp": 1661171331486,
     "user_tz": -180,
     "elapsed": 383,
     "user": {
      "displayName": "Godson Ntungi",
      "userId": "12314533037084644278"
     }
    },
    "pycharm": {
     "name": "#%%\n"
    }
   },
   "execution_count": 18,
   "outputs": []
  },
  {
   "cell_type": "code",
   "source": [],
   "metadata": {
    "id": "DyFFFUsYh46B",
    "pycharm": {
     "name": "#%%\n"
    }
   },
   "execution_count": null,
   "outputs": []
  },
  {
   "cell_type": "code",
   "source": [
    "joblib.dump(scaler,'minMaxscaler.pkl')"
   ],
   "metadata": {
    "colab": {
     "base_uri": "https://localhost:8080/"
    },
    "id": "DEiD8aqIhvHp",
    "executionInfo": {
     "status": "ok",
     "timestamp": 1661171374592,
     "user_tz": -180,
     "elapsed": 365,
     "user": {
      "displayName": "Godson Ntungi",
      "userId": "12314533037084644278"
     }
    },
    "outputId": "e4221659-e777-4a36-a8a3-abc2834a5e9b",
    "pycharm": {
     "name": "#%%\n"
    }
   },
   "execution_count": 19,
   "outputs": [
    {
     "output_type": "execute_result",
     "data": {
      "text/plain": [
       "['minMaxscaler.pkl']"
      ]
     },
     "metadata": {},
     "execution_count": 19
    }
   ]
  },
  {
   "cell_type": "code",
   "source": [
    "from sklearn.preprocessing import OneHotEncoder\n",
    "categorical_features = ['country_code','region','FQ1','FQ2','FQ3','FQ4','FQ6','FQ7','FQ8','FQ9','FQ10','FQ11','FQ12','FQ13','FQ14','FQ15','FQ16','FQ18','FQ19','FQ20','FQ21','FQ22','FQ23','FQ24','FQ25','FQ26','FQ29','FQ32','FQ33','FQ34','FQ37']\n"
   ],
   "metadata": {
    "id": "l0EMw_guiNp2",
    "executionInfo": {
     "status": "ok",
     "timestamp": 1661171815542,
     "user_tz": -180,
     "elapsed": 352,
     "user": {
      "displayName": "Godson Ntungi",
      "userId": "12314533037084644278"
     }
    },
    "pycharm": {
     "name": "#%%\n"
    }
   },
   "execution_count": 25,
   "outputs": []
  },
  {
   "cell_type": "code",
   "source": [
    "oneHot = OneHotEncoder(categories=categorical_features)"
   ],
   "metadata": {
    "id": "je1N0QBXiXDV",
    "executionInfo": {
     "status": "ok",
     "timestamp": 1661171837388,
     "user_tz": -180,
     "elapsed": 392,
     "user": {
      "displayName": "Godson Ntungi",
      "userId": "12314533037084644278"
     }
    },
    "pycharm": {
     "name": "#%%\n"
    }
   },
   "execution_count": 26,
   "outputs": []
  },
  {
   "cell_type": "code",
   "source": [
    "data= oneHot.fit_transform(data[categorical_features])"
   ],
   "metadata": {
    "id": "3roz3Zq3jL1R",
    "executionInfo": {
     "status": "ok",
     "timestamp": 1661171983085,
     "user_tz": -180,
     "elapsed": 420,
     "user": {
      "displayName": "Godson Ntungi",
      "userId": "12314533037084644278"
     }
    },
    "pycharm": {
     "name": "#%%\n"
    }
   },
   "execution_count": 27,
   "outputs": []
  },
  {
   "cell_type": "code",
   "source": [
    "print(data)"
   ],
   "metadata": {
    "colab": {
     "base_uri": "https://localhost:8080/"
    },
    "id": "cSOyKANSk0Qj",
    "executionInfo": {
     "status": "ok",
     "timestamp": 1661172145166,
     "user_tz": -180,
     "elapsed": 361,
     "user": {
      "displayName": "Godson Ntungi",
      "userId": "12314533037084644278"
     }
    },
    "outputId": "9a3f7d7b-9353-41b9-b03a-1e85c7813417",
    "pycharm": {
     "name": "#%%\n"
    }
   },
   "execution_count": 33,
   "outputs": [
    {
     "output_type": "stream",
     "name": "stdout",
     "text": [
      "  (0, 1)\t1.0\n",
      "  (0, 151)\t1.0\n",
      "  (0, 154)\t1.0\n",
      "  (0, 157)\t1.0\n",
      "  (0, 161)\t1.0\n",
      "  (0, 166)\t1.0\n",
      "  (0, 169)\t1.0\n",
      "  (0, 173)\t1.0\n",
      "  (0, 178)\t1.0\n",
      "  (0, 181)\t1.0\n",
      "  (0, 185)\t1.0\n",
      "  (0, 190)\t1.0\n",
      "  (0, 194)\t1.0\n",
      "  (0, 198)\t1.0\n",
      "  (0, 202)\t1.0\n",
      "  (0, 206)\t1.0\n",
      "  (0, 210)\t1.0\n",
      "  (0, 214)\t1.0\n",
      "  (0, 220)\t1.0\n",
      "  (0, 226)\t1.0\n",
      "  (0, 229)\t1.0\n",
      "  (0, 233)\t1.0\n",
      "  (0, 238)\t1.0\n",
      "  (0, 242)\t1.0\n",
      "  (0, 246)\t1.0\n",
      "  :\t:\n",
      "  (108445, 169)\t1.0\n",
      "  (108445, 173)\t1.0\n",
      "  (108445, 178)\t1.0\n",
      "  (108445, 182)\t1.0\n",
      "  (108445, 186)\t1.0\n",
      "  (108445, 189)\t1.0\n",
      "  (108445, 194)\t1.0\n",
      "  (108445, 198)\t1.0\n",
      "  (108445, 202)\t1.0\n",
      "  (108445, 205)\t1.0\n",
      "  (108445, 210)\t1.0\n",
      "  (108445, 214)\t1.0\n",
      "  (108445, 218)\t1.0\n",
      "  (108445, 226)\t1.0\n",
      "  (108445, 230)\t1.0\n",
      "  (108445, 233)\t1.0\n",
      "  (108445, 238)\t1.0\n",
      "  (108445, 242)\t1.0\n",
      "  (108445, 246)\t1.0\n",
      "  (108445, 250)\t1.0\n",
      "  (108445, 253)\t1.0\n",
      "  (108445, 258)\t1.0\n",
      "  (108445, 261)\t1.0\n",
      "  (108445, 265)\t1.0\n",
      "  (108445, 270)\t1.0\n"
     ]
    }
   ]
  },
  {
   "cell_type": "code",
   "source": [
    "print(oneHot.get_feature_names_out())"
   ],
   "metadata": {
    "colab": {
     "base_uri": "https://localhost:8080/"
    },
    "id": "qM_AhAVPlJwK",
    "executionInfo": {
     "status": "ok",
     "timestamp": 1661172266970,
     "user_tz": -180,
     "elapsed": 5,
     "user": {
      "displayName": "Godson Ntungi",
      "userId": "12314533037084644278"
     }
    },
    "outputId": "615cf0cc-506b-4190-e2a5-634fd6657a54",
    "pycharm": {
     "name": "#%%\n"
    }
   },
   "execution_count": 36,
   "outputs": [
    {
     "output_type": "stream",
     "name": "stdout",
     "text": [
      "['country_code_0' 'country_code_1' 'country_code_2' 'country_code_3'\n",
      " 'country_code_4' 'country_code_5' 'country_code_6' 'country_code_7'\n",
      " 'country_code_8' 'country_code_9' 'country_code_10' 'country_code_11'\n",
      " 'country_code_12' 'country_code_13' 'country_code_14' 'country_code_15'\n",
      " 'country_code_16' 'country_code_17' 'country_code_18' 'country_code_19'\n",
      " 'country_code_20' 'country_code_21' 'country_code_22' 'country_code_23'\n",
      " 'country_code_24' 'country_code_25' 'country_code_26' 'country_code_27'\n",
      " 'country_code_28' 'country_code_29' 'country_code_30' 'country_code_31'\n",
      " 'country_code_32' 'country_code_33' 'country_code_34' 'country_code_35'\n",
      " 'country_code_36' 'country_code_37' 'country_code_38' 'country_code_39'\n",
      " 'country_code_40' 'country_code_41' 'country_code_42' 'country_code_43'\n",
      " 'country_code_44' 'country_code_45' 'country_code_46' 'country_code_47'\n",
      " 'country_code_48' 'country_code_49' 'country_code_50' 'country_code_51'\n",
      " 'country_code_52' 'country_code_53' 'country_code_54' 'country_code_55'\n",
      " 'country_code_56' 'country_code_57' 'country_code_58' 'country_code_59'\n",
      " 'country_code_60' 'country_code_61' 'country_code_62' 'country_code_63'\n",
      " 'country_code_64' 'country_code_65' 'country_code_66' 'country_code_67'\n",
      " 'country_code_68' 'country_code_69' 'country_code_70' 'country_code_71'\n",
      " 'country_code_72' 'country_code_73' 'country_code_74' 'country_code_75'\n",
      " 'country_code_76' 'country_code_77' 'country_code_78' 'country_code_79'\n",
      " 'country_code_80' 'country_code_81' 'country_code_82' 'country_code_83'\n",
      " 'country_code_84' 'country_code_85' 'country_code_86' 'country_code_87'\n",
      " 'country_code_88' 'country_code_89' 'country_code_90' 'country_code_91'\n",
      " 'country_code_92' 'country_code_93' 'country_code_94' 'country_code_95'\n",
      " 'country_code_96' 'country_code_97' 'country_code_98' 'country_code_99'\n",
      " 'country_code_100' 'country_code_101' 'country_code_102'\n",
      " 'country_code_103' 'country_code_104' 'country_code_105'\n",
      " 'country_code_106' 'country_code_107' 'country_code_108'\n",
      " 'country_code_109' 'country_code_110' 'country_code_111'\n",
      " 'country_code_112' 'country_code_113' 'country_code_114'\n",
      " 'country_code_115' 'country_code_116' 'country_code_117'\n",
      " 'country_code_118' 'country_code_119' 'country_code_120'\n",
      " 'country_code_121' 'country_code_122' 'country_code_123'\n",
      " 'country_code_124' 'country_code_125' 'country_code_126'\n",
      " 'country_code_127' 'country_code_128' 'country_code_129'\n",
      " 'country_code_130' 'country_code_131' 'country_code_132'\n",
      " 'country_code_133' 'country_code_134' 'country_code_135'\n",
      " 'country_code_136' 'country_code_137' 'country_code_138'\n",
      " 'country_code_139' 'country_code_140' 'country_code_141'\n",
      " 'country_code_142' 'country_code_143' 'region_-1' 'region_0' 'region_1'\n",
      " 'region_2' 'region_3' 'region_4' 'region_5' 'region_6' 'region_7' 'FQ1_1'\n",
      " 'FQ1_2' 'FQ1_3' 'FQ1_4' 'FQ2_1.0' 'FQ2_2.0' 'FQ2_3.0' 'FQ2_4.0' 'FQ3_1.0'\n",
      " 'FQ3_2.0' 'FQ3_3.0' 'FQ3_4.0' 'FQ4_1' 'FQ4_2' 'FQ4_3' 'FQ4_4' 'FQ6_1.0'\n",
      " 'FQ6_2.0' 'FQ6_3.0' 'FQ6_4.0' 'FQ7_1.0' 'FQ7_2.0' 'FQ7_3.0' 'FQ7_4.0'\n",
      " 'FQ8_1' 'FQ8_2' 'FQ8_3' 'FQ8_4' 'FQ9_1' 'FQ9_2' 'FQ9_3' 'FQ9_4' 'FQ10_1'\n",
      " 'FQ10_2' 'FQ10_3' 'FQ10_4' 'FQ11_1.0' 'FQ11_2.0' 'FQ11_3.0' 'FQ11_4.0'\n",
      " 'FQ12_1' 'FQ12_2' 'FQ12_3' 'FQ12_4' 'FQ13_1' 'FQ13_2' 'FQ13_3' 'FQ13_4'\n",
      " 'FQ14_1' 'FQ14_2' 'FQ14_3' 'FQ14_4' 'FQ15_1' 'FQ15_2' 'FQ15_3' 'FQ15_4'\n",
      " 'FQ16_1' 'FQ16_2' 'FQ16_3' 'FQ16_4' 'FQ18_1' 'FQ18_2' 'FQ18_3' 'FQ18_4'\n",
      " 'FQ19_1.0' 'FQ19_2.0' 'FQ19_3.0' 'FQ19_4.0' 'FQ19_5.0' 'FQ19_6.0'\n",
      " 'FQ19_7.0' 'FQ19_8.0' 'FQ20_1.0' 'FQ20_2.0' 'FQ20_3.0' 'FQ20_4.0'\n",
      " 'FQ21_1.0' 'FQ21_2.0' 'FQ21_3.0' 'FQ21_4.0' 'FQ22_1' 'FQ22_2' 'FQ22_3'\n",
      " 'FQ22_4' 'FQ23_1' 'FQ23_2' 'FQ23_3' 'FQ23_4' 'FQ24_1.0' 'FQ24_2.0'\n",
      " 'FQ24_3.0' 'FQ24_4.0' 'FQ25_1' 'FQ25_2' 'FQ25_3' 'FQ25_4' 'FQ26_1'\n",
      " 'FQ26_2' 'FQ26_3' 'FQ26_4' 'FQ29_1.0' 'FQ29_2.0' 'FQ29_3.0' 'FQ29_4.0'\n",
      " 'FQ32_1.0' 'FQ32_2.0' 'FQ32_3.0' 'FQ32_4.0' 'FQ33_1.0' 'FQ33_2.0'\n",
      " 'FQ33_3.0' 'FQ33_4.0' 'FQ34_1.0' 'FQ34_2.0' 'FQ34_3.0' 'FQ34_4.0'\n",
      " 'FQ37_0' 'FQ37_1']\n"
     ]
    }
   ]
  },
  {
   "cell_type": "code",
   "source": [
    "joblib.dump(oneHot,'oneHotEncoder.pkl')"
   ],
   "metadata": {
    "colab": {
     "base_uri": "https://localhost:8080/"
    },
    "id": "liAFaCS6mckF",
    "executionInfo": {
     "status": "ok",
     "timestamp": 1661173425022,
     "user_tz": -180,
     "elapsed": 377,
     "user": {
      "displayName": "Godson Ntungi",
      "userId": "12314533037084644278"
     }
    },
    "outputId": "3ef959f7-4ef9-4b8c-a2a3-bac6389f3e63",
    "pycharm": {
     "name": "#%%\n"
    }
   },
   "execution_count": 40,
   "outputs": [
    {
     "output_type": "execute_result",
     "data": {
      "text/plain": [
       "['oneHotEncoder.pkl']"
      ]
     },
     "metadata": {},
     "execution_count": 40
    }
   ]
  },
  {
   "cell_type": "code",
   "source": [
    "data1=pd.DataFrame(data.toarray(),columns=oneHot.get_feature_names_out())"
   ],
   "metadata": {
    "id": "7zd0IrVSkRYs",
    "executionInfo": {
     "status": "ok",
     "timestamp": 1661172498834,
     "user_tz": -180,
     "elapsed": 3,
     "user": {
      "displayName": "Godson Ntungi",
      "userId": "12314533037084644278"
     }
    },
    "pycharm": {
     "name": "#%%\n"
    }
   },
   "execution_count": 38,
   "outputs": []
  },
  {
   "cell_type": "code",
   "source": [
    "data1"
   ],
   "metadata": {
    "colab": {
     "base_uri": "https://localhost:8080/",
     "height": 488
    },
    "id": "FVDJaTAnkzxj",
    "executionInfo": {
     "status": "ok",
     "timestamp": 1661172505895,
     "user_tz": -180,
     "elapsed": 408,
     "user": {
      "displayName": "Godson Ntungi",
      "userId": "12314533037084644278"
     }
    },
    "outputId": "6ea17729-2543-4a74-a8bd-deb4691914a8",
    "pycharm": {
     "name": "#%%\n"
    }
   },
   "execution_count": 39,
   "outputs": [
    {
     "output_type": "execute_result",
     "data": {
      "text/plain": [
       "        country_code_0  country_code_1  country_code_2  country_code_3  \\\n",
       "0                  0.0             1.0             0.0             0.0   \n",
       "1                  0.0             0.0             0.0             0.0   \n",
       "2                  0.0             0.0             0.0             0.0   \n",
       "3                  0.0             0.0             0.0             0.0   \n",
       "4                  0.0             0.0             0.0             0.0   \n",
       "...                ...             ...             ...             ...   \n",
       "108441             0.0             0.0             0.0             0.0   \n",
       "108442             0.0             0.0             0.0             0.0   \n",
       "108443             0.0             0.0             0.0             0.0   \n",
       "108444             0.0             0.0             0.0             0.0   \n",
       "108445             0.0             0.0             0.0             0.0   \n",
       "\n",
       "        country_code_4  country_code_5  country_code_6  country_code_7  \\\n",
       "0                  0.0             0.0             0.0             0.0   \n",
       "1                  0.0             0.0             0.0             0.0   \n",
       "2                  0.0             0.0             0.0             0.0   \n",
       "3                  0.0             0.0             0.0             0.0   \n",
       "4                  0.0             0.0             0.0             0.0   \n",
       "...                ...             ...             ...             ...   \n",
       "108441             0.0             0.0             0.0             0.0   \n",
       "108442             0.0             0.0             0.0             0.0   \n",
       "108443             0.0             0.0             0.0             0.0   \n",
       "108444             0.0             0.0             0.0             0.0   \n",
       "108445             0.0             0.0             0.0             0.0   \n",
       "\n",
       "        country_code_8  country_code_9  ...  FQ33_1.0  FQ33_2.0  FQ33_3.0  \\\n",
       "0                  0.0             0.0  ...       1.0       0.0       0.0   \n",
       "1                  0.0             0.0  ...       1.0       0.0       0.0   \n",
       "2                  0.0             0.0  ...       0.0       1.0       0.0   \n",
       "3                  0.0             0.0  ...       1.0       0.0       0.0   \n",
       "4                  0.0             0.0  ...       1.0       0.0       0.0   \n",
       "...                ...             ...  ...       ...       ...       ...   \n",
       "108441             0.0             0.0  ...       1.0       0.0       0.0   \n",
       "108442             0.0             0.0  ...       1.0       0.0       0.0   \n",
       "108443             0.0             0.0  ...       1.0       0.0       0.0   \n",
       "108444             0.0             0.0  ...       1.0       0.0       0.0   \n",
       "108445             0.0             0.0  ...       1.0       0.0       0.0   \n",
       "\n",
       "        FQ33_4.0  FQ34_1.0  FQ34_2.0  FQ34_3.0  FQ34_4.0  FQ37_0  FQ37_1  \n",
       "0            0.0       1.0       0.0       0.0       0.0     1.0     0.0  \n",
       "1            0.0       0.0       1.0       0.0       0.0     1.0     0.0  \n",
       "2            0.0       1.0       0.0       0.0       0.0     0.0     1.0  \n",
       "3            0.0       1.0       0.0       0.0       0.0     0.0     1.0  \n",
       "4            0.0       1.0       0.0       0.0       0.0     0.0     1.0  \n",
       "...          ...       ...       ...       ...       ...     ...     ...  \n",
       "108441       0.0       1.0       0.0       0.0       0.0     0.0     1.0  \n",
       "108442       0.0       1.0       0.0       0.0       0.0     0.0     1.0  \n",
       "108443       0.0       0.0       1.0       0.0       0.0     0.0     1.0  \n",
       "108444       0.0       1.0       0.0       0.0       0.0     0.0     1.0  \n",
       "108445       0.0       1.0       0.0       0.0       0.0     0.0     1.0  \n",
       "\n",
       "[108446 rows x 271 columns]"
      ],
      "text/html": [
       "\n",
       "  <div id=\"df-b45161fb-d82d-4b99-b730-f87c3fb1f380\">\n",
       "    <div class=\"colab-df-container\">\n",
       "      <div>\n",
       "<style scoped>\n",
       "    .dataframe tbody tr th:only-of-type {\n",
       "        vertical-align: middle;\n",
       "    }\n",
       "\n",
       "    .dataframe tbody tr th {\n",
       "        vertical-align: top;\n",
       "    }\n",
       "\n",
       "    .dataframe thead th {\n",
       "        text-align: right;\n",
       "    }\n",
       "</style>\n",
       "<table border=\"1\" class=\"dataframe\">\n",
       "  <thead>\n",
       "    <tr style=\"text-align: right;\">\n",
       "      <th></th>\n",
       "      <th>country_code_0</th>\n",
       "      <th>country_code_1</th>\n",
       "      <th>country_code_2</th>\n",
       "      <th>country_code_3</th>\n",
       "      <th>country_code_4</th>\n",
       "      <th>country_code_5</th>\n",
       "      <th>country_code_6</th>\n",
       "      <th>country_code_7</th>\n",
       "      <th>country_code_8</th>\n",
       "      <th>country_code_9</th>\n",
       "      <th>...</th>\n",
       "      <th>FQ33_1.0</th>\n",
       "      <th>FQ33_2.0</th>\n",
       "      <th>FQ33_3.0</th>\n",
       "      <th>FQ33_4.0</th>\n",
       "      <th>FQ34_1.0</th>\n",
       "      <th>FQ34_2.0</th>\n",
       "      <th>FQ34_3.0</th>\n",
       "      <th>FQ34_4.0</th>\n",
       "      <th>FQ37_0</th>\n",
       "      <th>FQ37_1</th>\n",
       "    </tr>\n",
       "  </thead>\n",
       "  <tbody>\n",
       "    <tr>\n",
       "      <th>0</th>\n",
       "      <td>0.0</td>\n",
       "      <td>1.0</td>\n",
       "      <td>0.0</td>\n",
       "      <td>0.0</td>\n",
       "      <td>0.0</td>\n",
       "      <td>0.0</td>\n",
       "      <td>0.0</td>\n",
       "      <td>0.0</td>\n",
       "      <td>0.0</td>\n",
       "      <td>0.0</td>\n",
       "      <td>...</td>\n",
       "      <td>1.0</td>\n",
       "      <td>0.0</td>\n",
       "      <td>0.0</td>\n",
       "      <td>0.0</td>\n",
       "      <td>1.0</td>\n",
       "      <td>0.0</td>\n",
       "      <td>0.0</td>\n",
       "      <td>0.0</td>\n",
       "      <td>1.0</td>\n",
       "      <td>0.0</td>\n",
       "    </tr>\n",
       "    <tr>\n",
       "      <th>1</th>\n",
       "      <td>0.0</td>\n",
       "      <td>0.0</td>\n",
       "      <td>0.0</td>\n",
       "      <td>0.0</td>\n",
       "      <td>0.0</td>\n",
       "      <td>0.0</td>\n",
       "      <td>0.0</td>\n",
       "      <td>0.0</td>\n",
       "      <td>0.0</td>\n",
       "      <td>0.0</td>\n",
       "      <td>...</td>\n",
       "      <td>1.0</td>\n",
       "      <td>0.0</td>\n",
       "      <td>0.0</td>\n",
       "      <td>0.0</td>\n",
       "      <td>0.0</td>\n",
       "      <td>1.0</td>\n",
       "      <td>0.0</td>\n",
       "      <td>0.0</td>\n",
       "      <td>1.0</td>\n",
       "      <td>0.0</td>\n",
       "    </tr>\n",
       "    <tr>\n",
       "      <th>2</th>\n",
       "      <td>0.0</td>\n",
       "      <td>0.0</td>\n",
       "      <td>0.0</td>\n",
       "      <td>0.0</td>\n",
       "      <td>0.0</td>\n",
       "      <td>0.0</td>\n",
       "      <td>0.0</td>\n",
       "      <td>0.0</td>\n",
       "      <td>0.0</td>\n",
       "      <td>0.0</td>\n",
       "      <td>...</td>\n",
       "      <td>0.0</td>\n",
       "      <td>1.0</td>\n",
       "      <td>0.0</td>\n",
       "      <td>0.0</td>\n",
       "      <td>1.0</td>\n",
       "      <td>0.0</td>\n",
       "      <td>0.0</td>\n",
       "      <td>0.0</td>\n",
       "      <td>0.0</td>\n",
       "      <td>1.0</td>\n",
       "    </tr>\n",
       "    <tr>\n",
       "      <th>3</th>\n",
       "      <td>0.0</td>\n",
       "      <td>0.0</td>\n",
       "      <td>0.0</td>\n",
       "      <td>0.0</td>\n",
       "      <td>0.0</td>\n",
       "      <td>0.0</td>\n",
       "      <td>0.0</td>\n",
       "      <td>0.0</td>\n",
       "      <td>0.0</td>\n",
       "      <td>0.0</td>\n",
       "      <td>...</td>\n",
       "      <td>1.0</td>\n",
       "      <td>0.0</td>\n",
       "      <td>0.0</td>\n",
       "      <td>0.0</td>\n",
       "      <td>1.0</td>\n",
       "      <td>0.0</td>\n",
       "      <td>0.0</td>\n",
       "      <td>0.0</td>\n",
       "      <td>0.0</td>\n",
       "      <td>1.0</td>\n",
       "    </tr>\n",
       "    <tr>\n",
       "      <th>4</th>\n",
       "      <td>0.0</td>\n",
       "      <td>0.0</td>\n",
       "      <td>0.0</td>\n",
       "      <td>0.0</td>\n",
       "      <td>0.0</td>\n",
       "      <td>0.0</td>\n",
       "      <td>0.0</td>\n",
       "      <td>0.0</td>\n",
       "      <td>0.0</td>\n",
       "      <td>0.0</td>\n",
       "      <td>...</td>\n",
       "      <td>1.0</td>\n",
       "      <td>0.0</td>\n",
       "      <td>0.0</td>\n",
       "      <td>0.0</td>\n",
       "      <td>1.0</td>\n",
       "      <td>0.0</td>\n",
       "      <td>0.0</td>\n",
       "      <td>0.0</td>\n",
       "      <td>0.0</td>\n",
       "      <td>1.0</td>\n",
       "    </tr>\n",
       "    <tr>\n",
       "      <th>...</th>\n",
       "      <td>...</td>\n",
       "      <td>...</td>\n",
       "      <td>...</td>\n",
       "      <td>...</td>\n",
       "      <td>...</td>\n",
       "      <td>...</td>\n",
       "      <td>...</td>\n",
       "      <td>...</td>\n",
       "      <td>...</td>\n",
       "      <td>...</td>\n",
       "      <td>...</td>\n",
       "      <td>...</td>\n",
       "      <td>...</td>\n",
       "      <td>...</td>\n",
       "      <td>...</td>\n",
       "      <td>...</td>\n",
       "      <td>...</td>\n",
       "      <td>...</td>\n",
       "      <td>...</td>\n",
       "      <td>...</td>\n",
       "      <td>...</td>\n",
       "    </tr>\n",
       "    <tr>\n",
       "      <th>108441</th>\n",
       "      <td>0.0</td>\n",
       "      <td>0.0</td>\n",
       "      <td>0.0</td>\n",
       "      <td>0.0</td>\n",
       "      <td>0.0</td>\n",
       "      <td>0.0</td>\n",
       "      <td>0.0</td>\n",
       "      <td>0.0</td>\n",
       "      <td>0.0</td>\n",
       "      <td>0.0</td>\n",
       "      <td>...</td>\n",
       "      <td>1.0</td>\n",
       "      <td>0.0</td>\n",
       "      <td>0.0</td>\n",
       "      <td>0.0</td>\n",
       "      <td>1.0</td>\n",
       "      <td>0.0</td>\n",
       "      <td>0.0</td>\n",
       "      <td>0.0</td>\n",
       "      <td>0.0</td>\n",
       "      <td>1.0</td>\n",
       "    </tr>\n",
       "    <tr>\n",
       "      <th>108442</th>\n",
       "      <td>0.0</td>\n",
       "      <td>0.0</td>\n",
       "      <td>0.0</td>\n",
       "      <td>0.0</td>\n",
       "      <td>0.0</td>\n",
       "      <td>0.0</td>\n",
       "      <td>0.0</td>\n",
       "      <td>0.0</td>\n",
       "      <td>0.0</td>\n",
       "      <td>0.0</td>\n",
       "      <td>...</td>\n",
       "      <td>1.0</td>\n",
       "      <td>0.0</td>\n",
       "      <td>0.0</td>\n",
       "      <td>0.0</td>\n",
       "      <td>1.0</td>\n",
       "      <td>0.0</td>\n",
       "      <td>0.0</td>\n",
       "      <td>0.0</td>\n",
       "      <td>0.0</td>\n",
       "      <td>1.0</td>\n",
       "    </tr>\n",
       "    <tr>\n",
       "      <th>108443</th>\n",
       "      <td>0.0</td>\n",
       "      <td>0.0</td>\n",
       "      <td>0.0</td>\n",
       "      <td>0.0</td>\n",
       "      <td>0.0</td>\n",
       "      <td>0.0</td>\n",
       "      <td>0.0</td>\n",
       "      <td>0.0</td>\n",
       "      <td>0.0</td>\n",
       "      <td>0.0</td>\n",
       "      <td>...</td>\n",
       "      <td>1.0</td>\n",
       "      <td>0.0</td>\n",
       "      <td>0.0</td>\n",
       "      <td>0.0</td>\n",
       "      <td>0.0</td>\n",
       "      <td>1.0</td>\n",
       "      <td>0.0</td>\n",
       "      <td>0.0</td>\n",
       "      <td>0.0</td>\n",
       "      <td>1.0</td>\n",
       "    </tr>\n",
       "    <tr>\n",
       "      <th>108444</th>\n",
       "      <td>0.0</td>\n",
       "      <td>0.0</td>\n",
       "      <td>0.0</td>\n",
       "      <td>0.0</td>\n",
       "      <td>0.0</td>\n",
       "      <td>0.0</td>\n",
       "      <td>0.0</td>\n",
       "      <td>0.0</td>\n",
       "      <td>0.0</td>\n",
       "      <td>0.0</td>\n",
       "      <td>...</td>\n",
       "      <td>1.0</td>\n",
       "      <td>0.0</td>\n",
       "      <td>0.0</td>\n",
       "      <td>0.0</td>\n",
       "      <td>1.0</td>\n",
       "      <td>0.0</td>\n",
       "      <td>0.0</td>\n",
       "      <td>0.0</td>\n",
       "      <td>0.0</td>\n",
       "      <td>1.0</td>\n",
       "    </tr>\n",
       "    <tr>\n",
       "      <th>108445</th>\n",
       "      <td>0.0</td>\n",
       "      <td>0.0</td>\n",
       "      <td>0.0</td>\n",
       "      <td>0.0</td>\n",
       "      <td>0.0</td>\n",
       "      <td>0.0</td>\n",
       "      <td>0.0</td>\n",
       "      <td>0.0</td>\n",
       "      <td>0.0</td>\n",
       "      <td>0.0</td>\n",
       "      <td>...</td>\n",
       "      <td>1.0</td>\n",
       "      <td>0.0</td>\n",
       "      <td>0.0</td>\n",
       "      <td>0.0</td>\n",
       "      <td>1.0</td>\n",
       "      <td>0.0</td>\n",
       "      <td>0.0</td>\n",
       "      <td>0.0</td>\n",
       "      <td>0.0</td>\n",
       "      <td>1.0</td>\n",
       "    </tr>\n",
       "  </tbody>\n",
       "</table>\n",
       "<p>108446 rows × 271 columns</p>\n",
       "</div>\n",
       "      <button class=\"colab-df-convert\" onclick=\"convertToInteractive('df-b45161fb-d82d-4b99-b730-f87c3fb1f380')\"\n",
       "              title=\"Convert this dataframe to an interactive table.\"\n",
       "              style=\"display:none;\">\n",
       "        \n",
       "  <svg xmlns=\"http://www.w3.org/2000/svg\" height=\"24px\"viewBox=\"0 0 24 24\"\n",
       "       width=\"24px\">\n",
       "    <path d=\"M0 0h24v24H0V0z\" fill=\"none\"/>\n",
       "    <path d=\"M18.56 5.44l.94 2.06.94-2.06 2.06-.94-2.06-.94-.94-2.06-.94 2.06-2.06.94zm-11 1L8.5 8.5l.94-2.06 2.06-.94-2.06-.94L8.5 2.5l-.94 2.06-2.06.94zm10 10l.94 2.06.94-2.06 2.06-.94-2.06-.94-.94-2.06-.94 2.06-2.06.94z\"/><path d=\"M17.41 7.96l-1.37-1.37c-.4-.4-.92-.59-1.43-.59-.52 0-1.04.2-1.43.59L10.3 9.45l-7.72 7.72c-.78.78-.78 2.05 0 2.83L4 21.41c.39.39.9.59 1.41.59.51 0 1.02-.2 1.41-.59l7.78-7.78 2.81-2.81c.8-.78.8-2.07 0-2.86zM5.41 20L4 18.59l7.72-7.72 1.47 1.35L5.41 20z\"/>\n",
       "  </svg>\n",
       "      </button>\n",
       "      \n",
       "  <style>\n",
       "    .colab-df-container {\n",
       "      display:flex;\n",
       "      flex-wrap:wrap;\n",
       "      gap: 12px;\n",
       "    }\n",
       "\n",
       "    .colab-df-convert {\n",
       "      background-color: #E8F0FE;\n",
       "      border: none;\n",
       "      border-radius: 50%;\n",
       "      cursor: pointer;\n",
       "      display: none;\n",
       "      fill: #1967D2;\n",
       "      height: 32px;\n",
       "      padding: 0 0 0 0;\n",
       "      width: 32px;\n",
       "    }\n",
       "\n",
       "    .colab-df-convert:hover {\n",
       "      background-color: #E2EBFA;\n",
       "      box-shadow: 0px 1px 2px rgba(60, 64, 67, 0.3), 0px 1px 3px 1px rgba(60, 64, 67, 0.15);\n",
       "      fill: #174EA6;\n",
       "    }\n",
       "\n",
       "    [theme=dark] .colab-df-convert {\n",
       "      background-color: #3B4455;\n",
       "      fill: #D2E3FC;\n",
       "    }\n",
       "\n",
       "    [theme=dark] .colab-df-convert:hover {\n",
       "      background-color: #434B5C;\n",
       "      box-shadow: 0px 1px 3px 1px rgba(0, 0, 0, 0.15);\n",
       "      filter: drop-shadow(0px 1px 2px rgba(0, 0, 0, 0.3));\n",
       "      fill: #FFFFFF;\n",
       "    }\n",
       "  </style>\n",
       "\n",
       "      <script>\n",
       "        const buttonEl =\n",
       "          document.querySelector('#df-b45161fb-d82d-4b99-b730-f87c3fb1f380 button.colab-df-convert');\n",
       "        buttonEl.style.display =\n",
       "          google.colab.kernel.accessAllowed ? 'block' : 'none';\n",
       "\n",
       "        async function convertToInteractive(key) {\n",
       "          const element = document.querySelector('#df-b45161fb-d82d-4b99-b730-f87c3fb1f380');\n",
       "          const dataTable =\n",
       "            await google.colab.kernel.invokeFunction('convertToInteractive',\n",
       "                                                     [key], {});\n",
       "          if (!dataTable) return;\n",
       "\n",
       "          const docLinkHtml = 'Like what you see? Visit the ' +\n",
       "            '<a target=\"_blank\" href=https://colab.research.google.com/notebooks/data_table.ipynb>data table notebook</a>'\n",
       "            + ' to learn more about interactive tables.';\n",
       "          element.innerHTML = '';\n",
       "          dataTable['output_type'] = 'display_data';\n",
       "          await google.colab.output.renderOutput(dataTable, element);\n",
       "          const docLink = document.createElement('div');\n",
       "          docLink.innerHTML = docLinkHtml;\n",
       "          element.appendChild(docLink);\n",
       "        }\n",
       "      </script>\n",
       "    </div>\n",
       "  </div>\n",
       "  "
      ]
     },
     "metadata": {},
     "execution_count": 39
    }
   ]
  },
  {
   "cell_type": "markdown",
   "source": [
    "**Encoding categorical features**"
   ],
   "metadata": {
    "id": "T9hiid0JVft-",
    "pycharm": {
     "name": "#%% md\n"
    }
   }
  },
  {
   "cell_type": "code",
   "execution_count": null,
   "metadata": {
    "colab": {
     "base_uri": "https://localhost:8080/"
    },
    "executionInfo": {
     "elapsed": 12,
     "status": "ok",
     "timestamp": 1660893892176,
     "user": {
      "displayName": "Godson Ntungi",
      "userId": "12314533037084644278"
     },
     "user_tz": -180
    },
    "id": "oma24oJWEylL",
    "outputId": "b23b5d01-49a8-4b37-930e-43fa5deb347b",
    "pycharm": {
     "name": "#%%\n"
    }
   },
   "outputs": [
    {
     "output_type": "execute_result",
     "data": {
      "text/plain": [
       "(108446, 273)"
      ]
     },
     "metadata": {},
     "execution_count": 40
    }
   ],
   "source": [
    "# convert categorical features to numerical features\n",
    "\n",
    "categorical_features = ['country_code','region','FQ1','FQ2','FQ3','FQ4','FQ6','FQ7','FQ8','FQ9','FQ10','FQ11','FQ12','FQ13','FQ14','FQ15','FQ16','FQ18','FQ19','FQ20','FQ21','FQ22','FQ23','FQ24','FQ25','FQ26','FQ29','FQ32','FQ33','FQ34','FQ37']\n",
    "\n",
    "# One Hot Encoding conversion\n",
    "data = pd.get_dummies(data, prefix_sep='_', columns = categorical_features)\n",
    "\n",
    "\n",
    "#show the shape of the data\n",
    "data.shape"
   ]
  },
  {
   "cell_type": "code",
   "source": [],
   "metadata": {
    "id": "P0terFHEhrsw",
    "pycharm": {
     "name": "#%%\n"
    }
   },
   "execution_count": null,
   "outputs": []
  },
  {
   "cell_type": "code",
   "execution_count": null,
   "metadata": {
    "id": "KgR3xv9dEyqK",
    "pycharm": {
     "name": "#%%\n"
    }
   },
   "outputs": [],
   "source": [
    "features = data.drop('Target', axis=1)\n",
    "target=data['Target']"
   ]
  },
  {
   "cell_type": "code",
   "source": [
    "features.columns"
   ],
   "metadata": {
    "id": "IuDFRyuNWcWu",
    "executionInfo": {
     "status": "ok",
     "timestamp": 1660893892177,
     "user_tz": -180,
     "elapsed": 10,
     "user": {
      "displayName": "Godson Ntungi",
      "userId": "12314533037084644278"
     }
    },
    "outputId": "7f50df73-7975-46f4-e239-b39b42b44b9f",
    "colab": {
     "base_uri": "https://localhost:8080/"
    },
    "pycharm": {
     "name": "#%%\n"
    }
   },
   "execution_count": null,
   "outputs": [
    {
     "output_type": "execute_result",
     "data": {
      "text/plain": [
       "Index(['age', 'country_code_0', 'country_code_1', 'country_code_2',\n",
       "       'country_code_3', 'country_code_4', 'country_code_5', 'country_code_6',\n",
       "       'country_code_7', 'country_code_8',\n",
       "       ...\n",
       "       'FQ33_1.0', 'FQ33_2.0', 'FQ33_3.0', 'FQ33_4.0', 'FQ34_1.0', 'FQ34_2.0',\n",
       "       'FQ34_3.0', 'FQ34_4.0', 'FQ37_0', 'FQ37_1'],\n",
       "      dtype='object', length=272)"
      ]
     },
     "metadata": {},
     "execution_count": 42
    }
   ]
  },
  {
   "cell_type": "code",
   "source": [
    "from sklearn.feature_selection import SelectKBest\n",
    "from sklearn.feature_selection import chi2"
   ],
   "metadata": {
    "id": "R34EIlQyXqE4",
    "pycharm": {
     "name": "#%%\n"
    }
   },
   "execution_count": null,
   "outputs": []
  },
  {
   "cell_type": "markdown",
   "source": [
    "**Finding the SelectKBest score for each feature**"
   ],
   "metadata": {
    "id": "MxpZRgoAV0mZ",
    "pycharm": {
     "name": "#%% md\n"
    }
   }
  },
  {
   "cell_type": "code",
   "source": [
    "bestfeatures = SelectKBest(score_func=chi2, k=20)\n",
    "\n",
    "fit = bestfeatures.fit(features,target)\n",
    "\n",
    "scores = pd.DataFrame(fit.scores_)\n",
    "columns = pd.DataFrame(features.columns)\n",
    "\n",
    "featureScores = pd.concat([columns,scores],axis=1)\n",
    "\n",
    "featureScores.columns = ['Features','score'] \n",
    "\n",
    "#print 20 best features \n",
    "print(featureScores.nlargest(20,'score'))  "
   ],
   "metadata": {
    "id": "-QkQ65neX7Px",
    "executionInfo": {
     "status": "ok",
     "timestamp": 1660893893148,
     "user_tz": -180,
     "elapsed": 5,
     "user": {
      "displayName": "Godson Ntungi",
      "userId": "12314533037084644278"
     }
    },
    "outputId": "4c3d266f-f9d7-4124-9c4e-43910b6f6c1c",
    "colab": {
     "base_uri": "https://localhost:8080/"
    },
    "pycharm": {
     "name": "#%%\n"
    }
   },
   "execution_count": null,
   "outputs": [
    {
     "output_type": "stream",
     "name": "stdout",
     "text": [
      "             Features     score\n",
      "257          FQ29_4.0  8.329539\n",
      "33    country_code_32  6.769288\n",
      "6      country_code_5  6.578720\n",
      "123  country_code_122  4.678723\n",
      "244          FQ24_3.0  4.621377\n",
      "112  country_code_111  4.507903\n",
      "15    country_code_14  3.915369\n",
      "37    country_code_36  3.891652\n",
      "83    country_code_82  3.861448\n",
      "204            FQ14_3  3.648619\n",
      "225          FQ19_8.0  3.510142\n",
      "157             FQ1_4  3.411317\n",
      "31    country_code_30  3.178805\n",
      "34    country_code_33  3.155242\n",
      "115  country_code_114  3.020966\n",
      "20    country_code_19  2.981240\n",
      "107  country_code_106  2.947936\n",
      "121  country_code_120  2.928528\n",
      "79    country_code_78  2.906254\n",
      "111  country_code_110  2.892227\n"
     ]
    }
   ]
  },
  {
   "cell_type": "markdown",
   "source": [
    "**Finding Feature importance for each feature using ExtraTreesClassifier**"
   ],
   "metadata": {
    "id": "e9PcdMKAV_9i",
    "pycharm": {
     "name": "#%% md\n"
    }
   }
  },
  {
   "cell_type": "code",
   "execution_count": null,
   "metadata": {
    "colab": {
     "base_uri": "https://localhost:8080/",
     "height": 1000
    },
    "id": "wQF5bjdpt-Cf",
    "executionInfo": {
     "status": "ok",
     "timestamp": 1660894003370,
     "user_tz": -180,
     "elapsed": 110226,
     "user": {
      "displayName": "Godson Ntungi",
      "userId": "12314533037084644278"
     }
    },
    "outputId": "5aa3f777-d249-45b2-b571-92bb75ab95cc",
    "pycharm": {
     "name": "#%%\n"
    }
   },
   "outputs": [
    {
     "output_type": "stream",
     "name": "stdout",
     "text": [
      "[0.0488935  0.00193415 0.00437037 0.00197172 0.00175558 0.00162285\n",
      " 0.00081677 0.00178441 0.00189361 0.00175262 0.00210565 0.00155764\n",
      " 0.00281461 0.00148061 0.00198204 0.00102501 0.0019504  0.00148665\n",
      " 0.00178093 0.00194411 0.00118337 0.00200653 0.00203298 0.00164901\n",
      " 0.00202911 0.00181877 0.00146027 0.00190008 0.00185731 0.00181987\n",
      " 0.00200756 0.00135188 0.00170746 0.00093377 0.00243728 0.00180632\n",
      " 0.00166215 0.00103152 0.0020132  0.001421   0.00192971 0.0018863\n",
      " 0.00158925 0.0018689  0.00186445 0.00197105 0.00432563 0.00193173\n",
      " 0.00159444 0.00187132 0.00195071 0.00206982 0.00300769 0.00202921\n",
      " 0.00266283 0.0019921  0.00139523 0.00190659 0.00202541 0.00163483\n",
      " 0.00194933 0.00199643 0.00200503 0.00200025 0.00196357 0.0019568\n",
      " 0.00196881 0.00200482 0.00196102 0.00200177 0.00183637 0.00199287\n",
      " 0.001956   0.00203329 0.00197052 0.00159427 0.00192749 0.00194383\n",
      " 0.00186066 0.00106098 0.00205228 0.00193323 0.00202592 0.00089572\n",
      " 0.00145408 0.00187159 0.00196836 0.00189762 0.00178715 0.00206888\n",
      " 0.00201365 0.00154162 0.00206984 0.00189454 0.00192252 0.00165896\n",
      " 0.00182286 0.00208639 0.00210116 0.00154648 0.00193606 0.00161899\n",
      " 0.00193512 0.00203313 0.00107142 0.00214447 0.0020832  0.00127328\n",
      " 0.00180712 0.00198045 0.00172508 0.00114778 0.00104663 0.00206052\n",
      " 0.00216371 0.00146311 0.00165841 0.00121672 0.00200714 0.00192879\n",
      " 0.00182152 0.00111981 0.00169843 0.00077892 0.00204702 0.00179067\n",
      " 0.00211006 0.00195566 0.00200399 0.00174592 0.00207262 0.00204913\n",
      " 0.00184149 0.00118929 0.00093868 0.00208639 0.00183045 0.00132413\n",
      " 0.00176881 0.00195518 0.00204436 0.00164951 0.00202392 0.00198031\n",
      " 0.00205422 0.00158574 0.00774234 0.00875092 0.01028718 0.00873071\n",
      " 0.01337619 0.00659047 0.00924913 0.00807695 0.01443754 0.01446401\n",
      " 0.00157005 0.00057119 0.00172497 0.00158832 0.00046174 0.0002426\n",
      " 0.00749207 0.00743406 0.00024574 0.00016301 0.01196199 0.01235453\n",
      " 0.00208465 0.00091297 0.00840392 0.00830643 0.00067175 0.00051592\n",
      " 0.00632343 0.00616141 0.00044695 0.00056388 0.00488909 0.00510834\n",
      " 0.00114774 0.00061657 0.01086561 0.01122615 0.00148409 0.00108117\n",
      " 0.01101937 0.01132253 0.0012384  0.00114354 0.0082393  0.00863145\n",
      " 0.00139675 0.00096992 0.0050679  0.00529094 0.00076651 0.00063722\n",
      " 0.00798892 0.00827285 0.00120216 0.00055286 0.00559966 0.00583976\n",
      " 0.00064058 0.00059034 0.00860714 0.00897533 0.00118262 0.00081591\n",
      " 0.01108399 0.01118187 0.0007287  0.00075965 0.01421803 0.01399251\n",
      " 0.00389217 0.00101888 0.01529101 0.01165717 0.01024603 0.00443635\n",
      " 0.00301147 0.00204235 0.00078115 0.00030959 0.00995656 0.0101138\n",
      " 0.00075408 0.00067988 0.01109598 0.01123938 0.00113616 0.00073228\n",
      " 0.01369273 0.01380244 0.0014502  0.00065723 0.01465735 0.0147958\n",
      " 0.00120836 0.00086374 0.007439   0.00742895 0.00018447 0.00021088\n",
      " 0.00977822 0.01003036 0.00116348 0.00073996 0.00769031 0.00785394\n",
      " 0.00092015 0.00060809 0.00855703 0.00881612 0.00088297 0.00030257\n",
      " 0.00715773 0.00742386 0.00096934 0.00057109 0.01057779 0.01051938\n",
      " 0.00025936 0.00057617 0.00462565 0.00459602 0.00044688 0.00021786\n",
      " 0.01435284 0.0143707 ]\n"
     ]
    },
    {
     "output_type": "display_data",
     "data": {
      "text/plain": [
       "<Figure size 1800x1800 with 1 Axes>"
      ],
      "image/png": "[encoded data removed]"
     },
     "metadata": {}
    }
   ],
   "source": [
    "#create model for training \n",
    "model = ExtraTreesClassifier()\n",
    "model.fit(features,target)\n",
    "\n",
    "#use inbuilt class feature_importances of tree based classifiers\n",
    "print(model.feature_importances_) \n",
    "\n",
    "#plot graph of feature importances for better visualization\n",
    "feature_importances = pd.Series(model.feature_importances_, index=features.columns)\n",
    "\n",
    "# show the first 30 important features \n",
    "\n",
    "fig= plt.figure(figsize=(25,25))\n",
    "sns.set(font_scale = 3)\n",
    "feature_importances.nlargest(30).plot(kind='barh')\n",
    "plt.show() "
   ]
  },
  {
   "cell_type": "code",
   "source": [
    "from sklearn.ensemble import RandomForestClassifier as RFC\n",
    "from sklearn.model_selection import train_test_split as tts"
   ],
   "metadata": {
    "id": "V7Oglf1kVEnr",
    "pycharm": {
     "name": "#%%\n"
    }
   },
   "execution_count": null,
   "outputs": []
  },
  {
   "cell_type": "code",
   "source": [
    "X_train,X_test,y_train,y_test=tts(features,target,train_size=0.7,stratify=target)"
   ],
   "metadata": {
    "id": "DF3P0rWLA2Ql",
    "pycharm": {
     "name": "#%%\n"
    }
   },
   "execution_count": null,
   "outputs": []
  },
  {
   "cell_type": "code",
   "source": [
    "from sklearn.metrics import f1_score\n",
    "from sklearn.metrics import accuracy_score"
   ],
   "metadata": {
    "id": "gqqXJYuCASjV",
    "pycharm": {
     "name": "#%%\n"
    }
   },
   "execution_count": null,
   "outputs": []
  },
  {
   "cell_type": "markdown",
   "source": [
    "**Finding the optimal number of features to use**"
   ],
   "metadata": {
    "id": "usFVeQfhWrbR",
    "pycharm": {
     "name": "#%% md\n"
    }
   }
  },
  {
   "cell_type": "code",
   "source": [
    "#Finding the optimal number of features to use\n",
    "model=RFC()\n",
    "model.fit(X_train,y_train)\n",
    "y_predict = model.predict(X_test)\n",
    "score = f1_score(y_test,y_predict)\n",
    "\n",
    "accu = accuracy_score(y_test,y_predict)\n",
    "print(f'accuracy {accu}, f1_score {score}')\n",
    "from sklearn.metrics import confusion_matrix, ConfusionMatrixDisplay\n",
    "cm = confusion_matrix(y_test, y_predict)\n",
    "disp = ConfusionMatrixDisplay(confusion_matrix=cm,)\n",
    "disp.plot()"
   ],
   "metadata": {
    "colab": {
     "base_uri": "https://localhost:8080/",
     "height": 364
    },
    "id": "hPD6aUDJAk77",
    "executionInfo": {
     "status": "ok",
     "timestamp": 1660897228273,
     "user_tz": -180,
     "elapsed": 50472,
     "user": {
      "displayName": "Godson Ntungi",
      "userId": "12314533037084644278"
     }
    },
    "outputId": "b43a5a7a-a876-4398-fc0f-5af824f97c88",
    "pycharm": {
     "name": "#%%\n"
    }
   },
   "execution_count": null,
   "outputs": [
    {
     "output_type": "stream",
     "name": "stdout",
     "text": [
      "accuracy 0.7254564455646401, f1_score 0.002457002457002457\n"
     ]
    },
    {
     "output_type": "execute_result",
     "data": {
      "text/plain": [
       "<sklearn.metrics._plot.confusion_matrix.ConfusionMatrixDisplay at 0x7f3084a2dc90>"
      ]
     },
     "metadata": {},
     "execution_count": 75
    },
    {
     "output_type": "display_data",
     "data": {
      "text/plain": [
       "<Figure size 432x288 with 2 Axes>"
      ],
      "image/png": "[encoded data removed]"
     },
     "metadata": {}
    }
   ]
  },
  {
   "cell_type": "code",
   "source": [
    "model=RFC()\n",
    "## Finding the optimal number of features to use in our model\n",
    "values= [250,200,150,100,125,175,165,50,10]\n",
    "for value in values:\n",
    "  model.fit(X_train[feature_importances.iloc[:value].index],y_train)\n",
    "  y_predict = model.predict(X_test[feature_importances.iloc[:value].index])\n",
    "  score = f1_score(y_test,y_predict)\n",
    "\n",
    "  accu = accuracy_score(y_test,y_predict)\n",
    "  print(f'Number of features {value}')\n",
    "  print(f'accuracy {accu}, f1_score {score}')"
   ],
   "metadata": {
    "id": "O2be4lPjBeqc",
    "colab": {
     "base_uri": "https://localhost:8080/"
    },
    "executionInfo": {
     "status": "ok",
     "timestamp": 1660898768861,
     "user_tz": -180,
     "elapsed": 296756,
     "user": {
      "displayName": "Godson Ntungi",
      "userId": "12314533037084644278"
     }
    },
    "outputId": "9916cf90-0a32-49ee-b7e8-eec35d4918c3",
    "pycharm": {
     "name": "#%%\n"
    }
   },
   "execution_count": null,
   "outputs": [
    {
     "output_type": "stream",
     "name": "stdout",
     "text": [
      "Number of features 250\n",
      "accuracy 0.724011803036823, f1_score 0.00685764849021126\n",
      "Number of features 200\n",
      "accuracy 0.6954570603061413, f1_score 0.10915303003057003\n",
      "Number of features 150\n",
      "accuracy 0.6463084772853015, f1_score 0.22475240854274744\n",
      "Number of features 100\n",
      "accuracy 0.700006147415012, f1_score 0.10012907984510418\n",
      "Number of features 125\n",
      "accuracy 0.6923526157250876, f1_score 0.11900360883725025\n",
      "Number of features 175\n",
      "accuracy 0.6547919100018442, f1_score 0.19311732164667003\n",
      "Number of features 165\n",
      "accuracy 0.6372717772176799, f1_score 0.2318557573390614\n",
      "Number of features 50\n",
      "accuracy 0.7147599434437819, f1_score 0.047032244814130215\n",
      "Number of features 10\n",
      "accuracy 0.724042540111883, f1_score 0.008394079964656506\n"
     ]
    }
   ]
  },
  {
   "cell_type": "markdown",
   "source": [],
   "metadata": {
    "id": "Y4YmzyqOSojO",
    "pycharm": {
     "name": "#%% md\n"
    }
   }
  },
  {
   "cell_type": "markdown",
   "source": [
    "### The optimal number of columns after experimentation is 165 features\n",
    "###                    with f1_score of 0.23"
   ],
   "metadata": {
    "id": "vanyNdOISqox",
    "pycharm": {
     "name": "#%% md\n"
    }
   }
  },
  {
   "cell_type": "code",
   "source": [
    "feature_importances.iloc[:165].index"
   ],
   "metadata": {
    "colab": {
     "base_uri": "https://localhost:8080/"
    },
    "id": "HogvJCYzSylN",
    "executionInfo": {
     "status": "ok",
     "timestamp": 1660899010434,
     "user_tz": -180,
     "elapsed": 455,
     "user": {
      "displayName": "Godson Ntungi",
      "userId": "12314533037084644278"
     }
    },
    "outputId": "0cf59099-c051-4650-d313-2b70eca4cce4",
    "pycharm": {
     "name": "#%%\n"
    }
   },
   "execution_count": null,
   "outputs": [
    {
     "output_type": "execute_result",
     "data": {
      "text/plain": [
       "Index(['age', 'country_code_0', 'country_code_1', 'country_code_2',\n",
       "       'country_code_3', 'country_code_4', 'country_code_5', 'country_code_6',\n",
       "       'country_code_7', 'country_code_8',\n",
       "       ...\n",
       "       'FQ1_2', 'FQ1_3', 'FQ1_4', 'FQ2_1.0', 'FQ2_2.0', 'FQ2_3.0', 'FQ2_4.0',\n",
       "       'FQ3_1.0', 'FQ3_2.0', 'FQ3_3.0'],\n",
       "      dtype='object', length=165)"
      ]
     },
     "metadata": {},
     "execution_count": 93
    }
   ]
  },
  {
   "cell_type": "markdown",
   "source": [],
   "metadata": {
    "id": "8ulN9e9MSTe1",
    "pycharm": {
     "name": "#%% md\n"
    }
   }
  }
 ],
 "metadata": {
  "colab": {
   "name": "Feature Selection and engineering.ipynb",
   "provenance": [
    {
     "file_id": "1Y8NumXwj2HCj7S9Rcql6NlhMwe-nBnlM",
     "timestamp": 1660833397829
    }
   ],
   "collapsed_sections": []
  },
  "kernelspec": {
   "display_name": "Python 3",
   "name": "python3"
  },
  "language_info": {
   "name": "python"
  }
 },
 "nbformat": 4,
 "nbformat_minor": 0
}