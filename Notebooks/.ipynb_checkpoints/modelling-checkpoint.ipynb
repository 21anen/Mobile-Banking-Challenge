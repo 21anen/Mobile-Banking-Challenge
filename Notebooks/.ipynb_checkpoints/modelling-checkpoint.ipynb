{
 "cells": [
  {
   "cell_type": "markdown",
   "metadata": {
    "id": "SCfql7uwTlN5",
    "pycharm": {
     "name": "#%% md\n"
    }
   },
   "source": [
    "## Group 2: Mobile Banking Prdiction Challenge\n",
    "#### Group Members\n",
    "- Anen Isaac\n",
    "-Godson Ntungi\n",
    "-Habiba Machela"
   ]
  },
  {
   "cell_type": "markdown",
   "metadata": {
    "id": "P9vflfayUd9J",
    "pycharm": {
     "name": "#%% md\n"
    }
   },
   "source": []
  },
  {
   "cell_type": "code",
   "execution_count": 1,
   "metadata": {
    "id": "EDyyNA-Co-U0",
    "pycharm": {
     "name": "#%%\n"
    }
   },
   "outputs": [],
   "source": [
    "# import important modules \n",
    "\n",
    "import pandas as pd\n",
    "import numpy as np\n",
    "import matplotlib.pyplot as plt\n",
    "import seaborn as sns  \n",
    "plt.rcParams[\"axes.labelsize\"] = 18\n",
    "import warnings\n",
    "warnings.filterwarnings('ignore')\n",
    "%matplotlib inline \n",
    "from sklearn.model_selection import train_test_split"
   ]
  },
  {
   "cell_type": "code",
   "execution_count": 2,
   "metadata": {
    "id": "bTqHRKlEv5Tg",
    "pycharm": {
     "name": "#%%\n"
    }
   },
   "outputs": [],
   "source": [
    "url = 'https://raw.githubusercontent.com/21anen/Data-Science/main/Train.csv'\n",
    "data = pd.read_csv(url)"
   ]
  },
  {
   "cell_type": "code",
   "execution_count": 3,
   "metadata": {
    "colab": {
     "base_uri": "https://localhost:8080/",
     "height": 300
    },
    "id": "PEcL0kPnyqsP",
    "outputId": "6ffc97bb-2969-4074-8db8-35f5601f7685",
    "pycharm": {
     "name": "#%%\n"
    }
   },
   "outputs": [
    {
     "data": {
      "text/html": [
       "<div>\n",
       "<style scoped>\n",
       "    .dataframe tbody tr th:only-of-type {\n",
       "        vertical-align: middle;\n",
       "    }\n",
       "\n",
       "    .dataframe tbody tr th {\n",
       "        vertical-align: top;\n",
       "    }\n",
       "\n",
       "    .dataframe thead th {\n",
       "        text-align: right;\n",
       "    }\n",
       "</style>\n",
       "<table border=\"1\" class=\"dataframe\">\n",
       "  <thead>\n",
       "    <tr style=\"text-align: right;\">\n",
       "      <th></th>\n",
       "      <th>ID</th>\n",
       "      <th>country_code</th>\n",
       "      <th>region</th>\n",
       "      <th>age</th>\n",
       "      <th>FQ1</th>\n",
       "      <th>FQ2</th>\n",
       "      <th>FQ3</th>\n",
       "      <th>FQ4</th>\n",
       "      <th>FQ5</th>\n",
       "      <th>FQ6</th>\n",
       "      <th>...</th>\n",
       "      <th>FQ27</th>\n",
       "      <th>FQ28</th>\n",
       "      <th>FQ29</th>\n",
       "      <th>FQ30</th>\n",
       "      <th>FQ31</th>\n",
       "      <th>FQ32</th>\n",
       "      <th>FQ33</th>\n",
       "      <th>FQ34</th>\n",
       "      <th>FQ37</th>\n",
       "      <th>Target</th>\n",
       "    </tr>\n",
       "  </thead>\n",
       "  <tbody>\n",
       "    <tr>\n",
       "      <th>0</th>\n",
       "      <td>ID_000J8GTZ</td>\n",
       "      <td>1</td>\n",
       "      <td>6</td>\n",
       "      <td>35.0</td>\n",
       "      <td>2</td>\n",
       "      <td>NaN</td>\n",
       "      <td>NaN</td>\n",
       "      <td>2</td>\n",
       "      <td>NaN</td>\n",
       "      <td>NaN</td>\n",
       "      <td>...</td>\n",
       "      <td>NaN</td>\n",
       "      <td>NaN</td>\n",
       "      <td>1.0</td>\n",
       "      <td>NaN</td>\n",
       "      <td>NaN</td>\n",
       "      <td>NaN</td>\n",
       "      <td>1.0</td>\n",
       "      <td>1.0</td>\n",
       "      <td>0</td>\n",
       "      <td>0</td>\n",
       "    </tr>\n",
       "    <tr>\n",
       "      <th>1</th>\n",
       "      <td>ID_000QLXZM</td>\n",
       "      <td>32</td>\n",
       "      <td>7</td>\n",
       "      <td>70.0</td>\n",
       "      <td>2</td>\n",
       "      <td>NaN</td>\n",
       "      <td>NaN</td>\n",
       "      <td>2</td>\n",
       "      <td>NaN</td>\n",
       "      <td>NaN</td>\n",
       "      <td>...</td>\n",
       "      <td>NaN</td>\n",
       "      <td>NaN</td>\n",
       "      <td>2.0</td>\n",
       "      <td>NaN</td>\n",
       "      <td>NaN</td>\n",
       "      <td>NaN</td>\n",
       "      <td>1.0</td>\n",
       "      <td>2.0</td>\n",
       "      <td>0</td>\n",
       "      <td>0</td>\n",
       "    </tr>\n",
       "    <tr>\n",
       "      <th>2</th>\n",
       "      <td>ID_001728I2</td>\n",
       "      <td>71</td>\n",
       "      <td>7</td>\n",
       "      <td>22.0</td>\n",
       "      <td>2</td>\n",
       "      <td>1.0</td>\n",
       "      <td>NaN</td>\n",
       "      <td>2</td>\n",
       "      <td>NaN</td>\n",
       "      <td>NaN</td>\n",
       "      <td>...</td>\n",
       "      <td>NaN</td>\n",
       "      <td>NaN</td>\n",
       "      <td>2.0</td>\n",
       "      <td>NaN</td>\n",
       "      <td>NaN</td>\n",
       "      <td>NaN</td>\n",
       "      <td>2.0</td>\n",
       "      <td>1.0</td>\n",
       "      <td>1</td>\n",
       "      <td>0</td>\n",
       "    </tr>\n",
       "    <tr>\n",
       "      <th>3</th>\n",
       "      <td>ID_001R7IDN</td>\n",
       "      <td>48</td>\n",
       "      <td>3</td>\n",
       "      <td>27.0</td>\n",
       "      <td>1</td>\n",
       "      <td>NaN</td>\n",
       "      <td>NaN</td>\n",
       "      <td>2</td>\n",
       "      <td>NaN</td>\n",
       "      <td>2.0</td>\n",
       "      <td>...</td>\n",
       "      <td>NaN</td>\n",
       "      <td>NaN</td>\n",
       "      <td>NaN</td>\n",
       "      <td>NaN</td>\n",
       "      <td>NaN</td>\n",
       "      <td>2.0</td>\n",
       "      <td>1.0</td>\n",
       "      <td>1.0</td>\n",
       "      <td>1</td>\n",
       "      <td>0</td>\n",
       "    </tr>\n",
       "    <tr>\n",
       "      <th>4</th>\n",
       "      <td>ID_0029QKF8</td>\n",
       "      <td>25</td>\n",
       "      <td>0</td>\n",
       "      <td>79.0</td>\n",
       "      <td>2</td>\n",
       "      <td>NaN</td>\n",
       "      <td>NaN</td>\n",
       "      <td>2</td>\n",
       "      <td>NaN</td>\n",
       "      <td>NaN</td>\n",
       "      <td>...</td>\n",
       "      <td>NaN</td>\n",
       "      <td>NaN</td>\n",
       "      <td>2.0</td>\n",
       "      <td>NaN</td>\n",
       "      <td>NaN</td>\n",
       "      <td>2.0</td>\n",
       "      <td>1.0</td>\n",
       "      <td>1.0</td>\n",
       "      <td>1</td>\n",
       "      <td>0</td>\n",
       "    </tr>\n",
       "  </tbody>\n",
       "</table>\n",
       "<p>5 rows × 42 columns</p>\n",
       "</div>"
      ],
      "text/plain": [
       "            ID  country_code  region   age  FQ1  FQ2  FQ3  FQ4  FQ5  FQ6  ...  \\\n",
       "0  ID_000J8GTZ             1       6  35.0    2  NaN  NaN    2  NaN  NaN  ...   \n",
       "1  ID_000QLXZM            32       7  70.0    2  NaN  NaN    2  NaN  NaN  ...   \n",
       "2  ID_001728I2            71       7  22.0    2  1.0  NaN    2  NaN  NaN  ...   \n",
       "3  ID_001R7IDN            48       3  27.0    1  NaN  NaN    2  NaN  2.0  ...   \n",
       "4  ID_0029QKF8            25       0  79.0    2  NaN  NaN    2  NaN  NaN  ...   \n",
       "\n",
       "   FQ27  FQ28  FQ29  FQ30  FQ31  FQ32  FQ33  FQ34  FQ37  Target  \n",
       "0   NaN   NaN   1.0   NaN   NaN   NaN   1.0   1.0     0       0  \n",
       "1   NaN   NaN   2.0   NaN   NaN   NaN   1.0   2.0     0       0  \n",
       "2   NaN   NaN   2.0   NaN   NaN   NaN   2.0   1.0     1       0  \n",
       "3   NaN   NaN   NaN   NaN   NaN   2.0   1.0   1.0     1       0  \n",
       "4   NaN   NaN   2.0   NaN   NaN   2.0   1.0   1.0     1       0  \n",
       "\n",
       "[5 rows x 42 columns]"
      ]
     },
     "execution_count": 3,
     "metadata": {},
     "output_type": "execute_result"
    }
   ],
   "source": [
    "data.head()"
   ]
  },
  {
   "cell_type": "code",
   "execution_count": 4,
   "metadata": {
    "colab": {
     "base_uri": "https://localhost:8080/"
    },
    "id": "eHUJZHwxrlQK",
    "outputId": "6babf5ae-3981-4eb6-c7be-9e3d92b60893",
    "pycharm": {
     "name": "#%%\n"
    }
   },
   "outputs": [
    {
     "name": "stdout",
     "output_type": "stream",
     "text": [
      "train data shape : (108446, 42)\n"
     ]
    }
   ],
   "source": [
    "# print shape \n",
    "print('train data shape :', data.shape)"
   ]
  },
  {
   "cell_type": "code",
   "execution_count": 5,
   "metadata": {
    "colab": {
     "base_uri": "https://localhost:8080/"
    },
    "id": "1yphJsC4rlxj",
    "outputId": "51183241-2a2c-4fc9-f4af-13108d5c45e5",
    "pycharm": {
     "name": "#%%\n"
    }
   },
   "outputs": [
    {
     "data": {
      "text/plain": [
       "['ID',\n",
       " 'country_code',\n",
       " 'region',\n",
       " 'age',\n",
       " 'FQ1',\n",
       " 'FQ2',\n",
       " 'FQ3',\n",
       " 'FQ4',\n",
       " 'FQ5',\n",
       " 'FQ6',\n",
       " 'FQ7',\n",
       " 'FQ8',\n",
       " 'FQ9',\n",
       " 'FQ10',\n",
       " 'FQ11',\n",
       " 'FQ12',\n",
       " 'FQ13',\n",
       " 'FQ14',\n",
       " 'FQ15',\n",
       " 'FQ16',\n",
       " 'FQ17',\n",
       " 'FQ18',\n",
       " 'FQ19',\n",
       " 'FQ20',\n",
       " 'FQ21',\n",
       " 'FQ22',\n",
       " 'FQ23',\n",
       " 'FQ24',\n",
       " 'FQ35',\n",
       " 'FQ36',\n",
       " 'FQ25',\n",
       " 'FQ26',\n",
       " 'FQ27',\n",
       " 'FQ28',\n",
       " 'FQ29',\n",
       " 'FQ30',\n",
       " 'FQ31',\n",
       " 'FQ32',\n",
       " 'FQ33',\n",
       " 'FQ34',\n",
       " 'FQ37',\n",
       " 'Target']"
      ]
     },
     "execution_count": 5,
     "metadata": {},
     "output_type": "execute_result"
    }
   ],
   "source": [
    "#show list of columns \n",
    "list(data.columns)  "
   ]
  },
  {
   "cell_type": "code",
   "execution_count": 6,
   "metadata": {
    "colab": {
     "base_uri": "https://localhost:8080/"
    },
    "id": "29Gcbw3urmGQ",
    "outputId": "cee29629-e49b-4ec5-c889-30352d062781",
    "pycharm": {
     "name": "#%%\n"
    }
   },
   "outputs": [
    {
     "name": "stdout",
     "output_type": "stream",
     "text": [
      "<class 'pandas.core.frame.DataFrame'>\n",
      "RangeIndex: 108446 entries, 0 to 108445\n",
      "Data columns (total 42 columns):\n",
      " #   Column        Non-Null Count   Dtype  \n",
      "---  ------        --------------   -----  \n",
      " 0   ID            108446 non-null  object \n",
      " 1   country_code  108446 non-null  int64  \n",
      " 2   region        108446 non-null  int64  \n",
      " 3   age           108124 non-null  float64\n",
      " 4   FQ1           108446 non-null  int64  \n",
      " 5   FQ2           49124 non-null   float64\n",
      " 6   FQ3           46218 non-null   float64\n",
      " 7   FQ4           108446 non-null  int64  \n",
      " 8   FQ5           21185 non-null   float64\n",
      " 9   FQ6           60659 non-null   float64\n",
      " 10  FQ7           60620 non-null   float64\n",
      " 11  FQ8           108446 non-null  int64  \n",
      " 12  FQ9           108446 non-null  int64  \n",
      " 13  FQ10          108446 non-null  int64  \n",
      " 14  FQ11          83876 non-null   float64\n",
      " 15  FQ12          108446 non-null  int64  \n",
      " 16  FQ13          108446 non-null  int64  \n",
      " 17  FQ14          108446 non-null  int64  \n",
      " 18  FQ15          108446 non-null  int64  \n",
      " 19  FQ16          108446 non-null  int64  \n",
      " 20  FQ17          11347 non-null   float64\n",
      " 21  FQ18          108446 non-null  int64  \n",
      " 22  FQ19          61039 non-null   float64\n",
      " 23  FQ20          83767 non-null   float64\n",
      " 24  FQ21          83811 non-null   float64\n",
      " 25  FQ22          108446 non-null  int64  \n",
      " 26  FQ23          108446 non-null  int64  \n",
      " 27  FQ24          38432 non-null   float64\n",
      " 28  FQ35          25889 non-null   float64\n",
      " 29  FQ36          11483 non-null   float64\n",
      " 30  FQ25          108446 non-null  int64  \n",
      " 31  FQ26          108446 non-null  int64  \n",
      " 32  FQ27          3200 non-null    float64\n",
      " 33  FQ28          1506 non-null    float64\n",
      " 34  FQ29          83912 non-null   float64\n",
      " 35  FQ30          2115 non-null    float64\n",
      " 36  FQ31          869 non-null     float64\n",
      " 37  FQ32          60796 non-null   float64\n",
      " 38  FQ33          108444 non-null  float64\n",
      " 39  FQ34          76652 non-null   float64\n",
      " 40  FQ37          108446 non-null  int64  \n",
      " 41  Target        108446 non-null  int64  \n",
      "dtypes: float64(22), int64(19), object(1)\n",
      "memory usage: 34.7+ MB\n",
      "None\n"
     ]
    }
   ],
   "source": [
    "## show Some information about the dataset \n",
    "print(data.info())"
   ]
  },
  {
   "cell_type": "markdown",
   "metadata": {
    "id": "fJIzwqDLU4Xr",
    "pycharm": {
     "name": "#%% md\n"
    }
   },
   "source": [
    "**Checking for Missing Values**"
   ]
  },
  {
   "cell_type": "code",
   "execution_count": 7,
   "metadata": {
    "colab": {
     "base_uri": "https://localhost:8080/"
    },
    "id": "tODURe_NyusP",
    "outputId": "22ee1f73-1a09-4e41-fa9e-f8b954030864",
    "pycharm": {
     "name": "#%%\n"
    }
   },
   "outputs": [
    {
     "name": "stdout",
     "output_type": "stream",
     "text": [
      "missing values: ID                   0\n",
      "country_code         0\n",
      "region               0\n",
      "age                322\n",
      "FQ1                  0\n",
      "FQ2              59322\n",
      "FQ3              62228\n",
      "FQ4                  0\n",
      "FQ5              87261\n",
      "FQ6              47787\n",
      "FQ7              47826\n",
      "FQ8                  0\n",
      "FQ9                  0\n",
      "FQ10                 0\n",
      "FQ11             24570\n",
      "FQ12                 0\n",
      "FQ13                 0\n",
      "FQ14                 0\n",
      "FQ15                 0\n",
      "FQ16                 0\n",
      "FQ17             97099\n",
      "FQ18                 0\n",
      "FQ19             47407\n",
      "FQ20             24679\n",
      "FQ21             24635\n",
      "FQ22                 0\n",
      "FQ23                 0\n",
      "FQ24             70014\n",
      "FQ35             82557\n",
      "FQ36             96963\n",
      "FQ25                 0\n",
      "FQ26                 0\n",
      "FQ27            105246\n",
      "FQ28            106940\n",
      "FQ29             24534\n",
      "FQ30            106331\n",
      "FQ31            107577\n",
      "FQ32             47650\n",
      "FQ33                 2\n",
      "FQ34             31794\n",
      "FQ37                 0\n",
      "Target               0\n",
      "dtype: int64\n"
     ]
    }
   ],
   "source": [
    "# Check for missing values\n",
    "print('missing values:', data.isnull().sum())              "
   ]
  },
  {
   "cell_type": "markdown",
   "metadata": {
    "id": "o-hRLUjDVBEE",
    "pycharm": {
     "name": "#%% md\n"
    }
   },
   "source": [
    "**Removing columns with more than 70% missing values**"
   ]
  },
  {
   "cell_type": "code",
   "execution_count": 8,
   "metadata": {
    "colab": {
     "base_uri": "https://localhost:8080/"
    },
    "id": "m8CZ1TTNzoML",
    "outputId": "65a9b156-0a3c-40eb-f915-1a9fab1eed68",
    "pycharm": {
     "name": "#%%\n"
    }
   },
   "outputs": [
    {
     "name": "stdout",
     "output_type": "stream",
     "text": [
      "dropped features:  Index(['FQ5', 'FQ17', 'FQ35', 'FQ36', 'FQ27', 'FQ28', 'FQ30', 'FQ31'], dtype='object')\n"
     ]
    }
   ],
   "source": [
    "#drop columns that have 70% or more of data missing\n",
    "data_null = data.isnull().sum() / len(data)\n",
    "missing_features = data_null[data_null > 0.70].index\n",
    "print('dropped features: ',missing_features)\n",
    "data.drop(missing_features, axis=1, inplace=True)"
   ]
  },
  {
   "cell_type": "code",
   "execution_count": 9,
   "metadata": {
    "colab": {
     "base_uri": "https://localhost:8080/"
    },
    "id": "Cuvgl8o0yWTL",
    "outputId": "214499b3-0a76-4588-9186-13da550bcc98",
    "pycharm": {
     "name": "#%%\n"
    }
   },
   "outputs": [
    {
     "name": "stdout",
     "output_type": "stream",
     "text": [
      "missing values: ID                  0\n",
      "country_code        0\n",
      "region              0\n",
      "age               322\n",
      "FQ1                 0\n",
      "FQ2             59322\n",
      "FQ3             62228\n",
      "FQ4                 0\n",
      "FQ6             47787\n",
      "FQ7             47826\n",
      "FQ8                 0\n",
      "FQ9                 0\n",
      "FQ10                0\n",
      "FQ11            24570\n",
      "FQ12                0\n",
      "FQ13                0\n",
      "FQ14                0\n",
      "FQ15                0\n",
      "FQ16                0\n",
      "FQ18                0\n",
      "FQ19            47407\n",
      "FQ20            24679\n",
      "FQ21            24635\n",
      "FQ22                0\n",
      "FQ23                0\n",
      "FQ24            70014\n",
      "FQ25                0\n",
      "FQ26                0\n",
      "FQ29            24534\n",
      "FQ32            47650\n",
      "FQ33                2\n",
      "FQ34            31794\n",
      "FQ37                0\n",
      "Target              0\n",
      "dtype: int64\n"
     ]
    }
   ],
   "source": [
    "# Check again for missing values\n",
    "print('missing values:', data.isnull().sum()) "
   ]
  },
  {
   "cell_type": "code",
   "execution_count": 10,
   "metadata": {
    "id": "ZNndikOSAM5O",
    "pycharm": {
     "name": "#%%\n"
    }
   },
   "outputs": [],
   "source": [
    "#import package \n",
    "from sklearn.ensemble import ExtraTreesClassifier, RandomForestClassifier"
   ]
  },
  {
   "cell_type": "markdown",
   "metadata": {
    "id": "Kka--0dIVNiP",
    "pycharm": {
     "name": "#%% md\n"
    }
   },
   "source": [
    "**Filling Missing values**"
   ]
  },
  {
   "cell_type": "code",
   "execution_count": 11,
   "metadata": {
    "colab": {
     "base_uri": "https://localhost:8080/"
    },
    "id": "fE2J8chCt6wS",
    "outputId": "5a05f344-5039-4517-d295-59b34fa90ced",
    "pycharm": {
     "name": "#%%\n"
    }
   },
   "outputs": [
    {
     "name": "stdout",
     "output_type": "stream",
     "text": [
      "missing values: ID              0\n",
      "country_code    0\n",
      "region          0\n",
      "age             0\n",
      "FQ1             0\n",
      "FQ2             0\n",
      "FQ3             0\n",
      "FQ4             0\n",
      "FQ6             0\n",
      "FQ7             0\n",
      "FQ8             0\n",
      "FQ9             0\n",
      "FQ10            0\n",
      "FQ11            0\n",
      "FQ12            0\n",
      "FQ13            0\n",
      "FQ14            0\n",
      "FQ15            0\n",
      "FQ16            0\n",
      "FQ18            0\n",
      "FQ19            0\n",
      "FQ20            0\n",
      "FQ21            0\n",
      "FQ22            0\n",
      "FQ23            0\n",
      "FQ24            0\n",
      "FQ25            0\n",
      "FQ26            0\n",
      "FQ29            0\n",
      "FQ32            0\n",
      "FQ33            0\n",
      "FQ34            0\n",
      "FQ37            0\n",
      "Target          0\n",
      "dtype: int64\n"
     ]
    }
   ],
   "source": [
    "## Filling missing values\n",
    "#for numerical data we use mean\n",
    "#for categorical data we use mode(value of the highest frequency)\n",
    "data['age'] = data['age'].fillna(data['age'].mean())\n",
    "data['FQ2'] = data['FQ2'].fillna(data['FQ2'].mode()[0])\n",
    "data['FQ3'] = data['FQ3'].fillna(data['FQ3'].mode()[0])\n",
    "data['FQ6'] = data['FQ6'].fillna(data['FQ6'].mode()[0])\n",
    "data['FQ7'] = data['FQ7'].fillna(data['FQ7'].mode()[0])\n",
    "data['FQ11'] = data['FQ11'].fillna(data['FQ11'].mode()[0])\n",
    "data['FQ19'] = data['FQ19'].fillna(data['FQ19'].mode()[0])\n",
    "data['FQ20'] = data['FQ20'].fillna(data['FQ20'].mode()[0])\n",
    "data['FQ21'] = data['FQ21'].fillna(data['FQ21'].mode()[0])\n",
    "data['FQ24'] = data['FQ24'].fillna(data['FQ24'].mode()[0])\n",
    "data['FQ29'] = data['FQ29'].fillna(data['FQ29'].mode()[0])\n",
    "data['FQ32'] = data['FQ32'].fillna(data['FQ32'].mode()[0])\n",
    "data['FQ33'] = data['FQ33'].fillna(data['FQ33'].mode()[0])\n",
    "data['FQ34'] = data['FQ34'].fillna(data['FQ34'].mode()[0])\n",
    "\n",
    "print('missing values:', data.isnull().sum())"
   ]
  },
  {
   "cell_type": "code",
   "execution_count": 12,
   "metadata": {
    "colab": {
     "base_uri": "https://localhost:8080/"
    },
    "id": "3eFh12qWVVL7",
    "outputId": "682a64bb-b06b-4d33-c3bf-061fc673227f",
    "pycharm": {
     "name": "#%%\n"
    }
   },
   "outputs": [
    {
     "data": {
      "text/plain": [
       "0    1.0\n",
       "dtype: float64"
      ]
     },
     "execution_count": 12,
     "metadata": {},
     "output_type": "execute_result"
    }
   ],
   "source": [
    "data['FQ2'].mode()"
   ]
  },
  {
   "cell_type": "code",
   "execution_count": 13,
   "metadata": {
    "colab": {
     "base_uri": "https://localhost:8080/"
    },
    "id": "VoBj9VM97893",
    "outputId": "36c2f8e0-712e-4021-c538-cb97c11841b2",
    "pycharm": {
     "name": "#%%\n"
    }
   },
   "outputs": [
    {
     "data": {
      "text/plain": [
       "(108446, 33)"
      ]
     },
     "execution_count": 13,
     "metadata": {},
     "output_type": "execute_result"
    }
   ],
   "source": [
    "#remove ID feature \n",
    "\n",
    "data = data.drop('ID', axis=1)\n",
    "\n",
    "data.shape "
   ]
  },
  {
   "cell_type": "code",
   "execution_count": 14,
   "metadata": {
    "colab": {
     "base_uri": "https://localhost:8080/",
     "height": 300
    },
    "id": "JK1Xbt5s79D6",
    "outputId": "c5710851-d506-4eb3-812a-63f11be4155b",
    "pycharm": {
     "name": "#%%\n"
    }
   },
   "outputs": [
    {
     "data": {
      "text/html": [
       "<div>\n",
       "<style scoped>\n",
       "    .dataframe tbody tr th:only-of-type {\n",
       "        vertical-align: middle;\n",
       "    }\n",
       "\n",
       "    .dataframe tbody tr th {\n",
       "        vertical-align: top;\n",
       "    }\n",
       "\n",
       "    .dataframe thead th {\n",
       "        text-align: right;\n",
       "    }\n",
       "</style>\n",
       "<table border=\"1\" class=\"dataframe\">\n",
       "  <thead>\n",
       "    <tr style=\"text-align: right;\">\n",
       "      <th></th>\n",
       "      <th>country_code</th>\n",
       "      <th>region</th>\n",
       "      <th>age</th>\n",
       "      <th>FQ1</th>\n",
       "      <th>FQ2</th>\n",
       "      <th>FQ3</th>\n",
       "      <th>FQ4</th>\n",
       "      <th>FQ6</th>\n",
       "      <th>FQ7</th>\n",
       "      <th>FQ8</th>\n",
       "      <th>...</th>\n",
       "      <th>FQ23</th>\n",
       "      <th>FQ24</th>\n",
       "      <th>FQ25</th>\n",
       "      <th>FQ26</th>\n",
       "      <th>FQ29</th>\n",
       "      <th>FQ32</th>\n",
       "      <th>FQ33</th>\n",
       "      <th>FQ34</th>\n",
       "      <th>FQ37</th>\n",
       "      <th>Target</th>\n",
       "    </tr>\n",
       "  </thead>\n",
       "  <tbody>\n",
       "    <tr>\n",
       "      <th>0</th>\n",
       "      <td>1</td>\n",
       "      <td>6</td>\n",
       "      <td>35.0</td>\n",
       "      <td>2</td>\n",
       "      <td>1.0</td>\n",
       "      <td>1.0</td>\n",
       "      <td>2</td>\n",
       "      <td>1.0</td>\n",
       "      <td>1.0</td>\n",
       "      <td>2</td>\n",
       "      <td>...</td>\n",
       "      <td>2</td>\n",
       "      <td>2.0</td>\n",
       "      <td>2</td>\n",
       "      <td>2</td>\n",
       "      <td>1.0</td>\n",
       "      <td>2.0</td>\n",
       "      <td>1.0</td>\n",
       "      <td>1.0</td>\n",
       "      <td>0</td>\n",
       "      <td>0</td>\n",
       "    </tr>\n",
       "    <tr>\n",
       "      <th>1</th>\n",
       "      <td>32</td>\n",
       "      <td>7</td>\n",
       "      <td>70.0</td>\n",
       "      <td>2</td>\n",
       "      <td>1.0</td>\n",
       "      <td>1.0</td>\n",
       "      <td>2</td>\n",
       "      <td>1.0</td>\n",
       "      <td>1.0</td>\n",
       "      <td>2</td>\n",
       "      <td>...</td>\n",
       "      <td>2</td>\n",
       "      <td>2.0</td>\n",
       "      <td>1</td>\n",
       "      <td>1</td>\n",
       "      <td>2.0</td>\n",
       "      <td>2.0</td>\n",
       "      <td>1.0</td>\n",
       "      <td>2.0</td>\n",
       "      <td>0</td>\n",
       "      <td>0</td>\n",
       "    </tr>\n",
       "    <tr>\n",
       "      <th>2</th>\n",
       "      <td>71</td>\n",
       "      <td>7</td>\n",
       "      <td>22.0</td>\n",
       "      <td>2</td>\n",
       "      <td>1.0</td>\n",
       "      <td>1.0</td>\n",
       "      <td>2</td>\n",
       "      <td>1.0</td>\n",
       "      <td>1.0</td>\n",
       "      <td>2</td>\n",
       "      <td>...</td>\n",
       "      <td>2</td>\n",
       "      <td>2.0</td>\n",
       "      <td>2</td>\n",
       "      <td>1</td>\n",
       "      <td>2.0</td>\n",
       "      <td>2.0</td>\n",
       "      <td>2.0</td>\n",
       "      <td>1.0</td>\n",
       "      <td>1</td>\n",
       "      <td>0</td>\n",
       "    </tr>\n",
       "    <tr>\n",
       "      <th>3</th>\n",
       "      <td>48</td>\n",
       "      <td>3</td>\n",
       "      <td>27.0</td>\n",
       "      <td>1</td>\n",
       "      <td>1.0</td>\n",
       "      <td>1.0</td>\n",
       "      <td>2</td>\n",
       "      <td>2.0</td>\n",
       "      <td>1.0</td>\n",
       "      <td>2</td>\n",
       "      <td>...</td>\n",
       "      <td>2</td>\n",
       "      <td>2.0</td>\n",
       "      <td>2</td>\n",
       "      <td>2</td>\n",
       "      <td>2.0</td>\n",
       "      <td>2.0</td>\n",
       "      <td>1.0</td>\n",
       "      <td>1.0</td>\n",
       "      <td>1</td>\n",
       "      <td>0</td>\n",
       "    </tr>\n",
       "    <tr>\n",
       "      <th>4</th>\n",
       "      <td>25</td>\n",
       "      <td>0</td>\n",
       "      <td>79.0</td>\n",
       "      <td>2</td>\n",
       "      <td>1.0</td>\n",
       "      <td>1.0</td>\n",
       "      <td>2</td>\n",
       "      <td>1.0</td>\n",
       "      <td>1.0</td>\n",
       "      <td>2</td>\n",
       "      <td>...</td>\n",
       "      <td>1</td>\n",
       "      <td>2.0</td>\n",
       "      <td>2</td>\n",
       "      <td>2</td>\n",
       "      <td>2.0</td>\n",
       "      <td>2.0</td>\n",
       "      <td>1.0</td>\n",
       "      <td>1.0</td>\n",
       "      <td>1</td>\n",
       "      <td>0</td>\n",
       "    </tr>\n",
       "  </tbody>\n",
       "</table>\n",
       "<p>5 rows × 33 columns</p>\n",
       "</div>"
      ],
      "text/plain": [
       "   country_code  region   age  FQ1  FQ2  FQ3  FQ4  FQ6  FQ7  FQ8  ...  FQ23  \\\n",
       "0             1       6  35.0    2  1.0  1.0    2  1.0  1.0    2  ...     2   \n",
       "1            32       7  70.0    2  1.0  1.0    2  1.0  1.0    2  ...     2   \n",
       "2            71       7  22.0    2  1.0  1.0    2  1.0  1.0    2  ...     2   \n",
       "3            48       3  27.0    1  1.0  1.0    2  2.0  1.0    2  ...     2   \n",
       "4            25       0  79.0    2  1.0  1.0    2  1.0  1.0    2  ...     1   \n",
       "\n",
       "   FQ24  FQ25  FQ26  FQ29  FQ32  FQ33  FQ34  FQ37  Target  \n",
       "0   2.0     2     2   1.0   2.0   1.0   1.0     0       0  \n",
       "1   2.0     1     1   2.0   2.0   1.0   2.0     0       0  \n",
       "2   2.0     2     1   2.0   2.0   2.0   1.0     1       0  \n",
       "3   2.0     2     2   2.0   2.0   1.0   1.0     1       0  \n",
       "4   2.0     2     2   2.0   2.0   1.0   1.0     1       0  \n",
       "\n",
       "[5 rows x 33 columns]"
      ]
     },
     "execution_count": 14,
     "metadata": {},
     "output_type": "execute_result"
    }
   ],
   "source": [
    "#show first five rows\n",
    "data.head()"
   ]
  },
  {
   "cell_type": "code",
   "execution_count": 15,
   "metadata": {
    "id": "P0J-8jRF79JP",
    "pycharm": {
     "name": "#%%\n"
    }
   },
   "outputs": [],
   "source": [
    "# import MinMaxScaler\n",
    "from sklearn.preprocessing import MinMaxScaler"
   ]
  },
  {
   "cell_type": "markdown",
   "metadata": {
    "id": "_rpyeKshVYMb",
    "pycharm": {
     "name": "#%% md\n"
    }
   },
   "source": [
    "**Scaling numerical Features**"
   ]
  },
  {
   "cell_type": "code",
   "execution_count": 16,
   "metadata": {
    "id": "wK9NLQjgEyRN",
    "pycharm": {
     "name": "#%%\n"
    }
   },
   "outputs": [],
   "source": [
    "# feature scalling by using minmaxscaler method \n",
    "scaler = MinMaxScaler(feature_range=(0, 1))\n",
    "\n",
    "\n",
    "data['age'] = scaler.fit_transform(data['age'].values.reshape(-1,1))\n"
   ]
  },
  {
   "cell_type": "code",
   "execution_count": 33,
   "metadata": {
    "pycharm": {
     "name": "#%%\n"
    }
   },
   "outputs": [
    {
     "data": {
      "text/plain": [
       "['scaler.pkl']"
      ]
     },
     "execution_count": 33,
     "metadata": {},
     "output_type": "execute_result"
    }
   ],
   "source": [
    "jb.dump(scaler,'scaler.pkl')"
   ]
  },
  {
   "cell_type": "code",
   "execution_count": 17,
   "metadata": {
    "id": "RFi_bu2N0wZT",
    "pycharm": {
     "name": "#%%\n"
    }
   },
   "outputs": [],
   "source": [
    "categorical_features = ['country_code','region','FQ1','FQ2','FQ3','FQ4','FQ6','FQ7','FQ8','FQ9','FQ10','FQ11','FQ12','FQ13','FQ14','FQ15','FQ16','FQ18','FQ19','FQ20','FQ21','FQ22','FQ23','FQ24','FQ25','FQ26','FQ29','FQ32','FQ33','FQ34','FQ37']\n"
   ]
  },
  {
   "cell_type": "code",
   "execution_count": 18,
   "metadata": {
    "colab": {
     "base_uri": "https://localhost:8080/"
    },
    "id": "2n5OuYU41kzf",
    "outputId": "1d70c798-f563-4ce3-cc00-424692f452ef",
    "pycharm": {
     "name": "#%%\n"
    }
   },
   "outputs": [
    {
     "data": {
      "text/plain": [
       "0           1\n",
       "1          32\n",
       "2          71\n",
       "3          48\n",
       "4          25\n",
       "         ... \n",
       "108441    111\n",
       "108442     77\n",
       "108443     42\n",
       "108444     57\n",
       "108445    110\n",
       "Name: country_code, Length: 108446, dtype: int64"
      ]
     },
     "execution_count": 18,
     "metadata": {},
     "output_type": "execute_result"
    }
   ],
   "source": [
    "data['country_code']"
   ]
  },
  {
   "cell_type": "code",
   "execution_count": 19,
   "metadata": {
    "colab": {
     "base_uri": "https://localhost:8080/"
    },
    "id": "2OOIlGi82G4B",
    "outputId": "ab2b6dee-9818-48a6-f54b-8bfe3ab3131e",
    "pycharm": {
     "name": "#%%\n"
    }
   },
   "outputs": [
    {
     "name": "stdout",
     "output_type": "stream",
     "text": [
      "<class 'pandas.core.frame.DataFrame'>\n",
      "RangeIndex: 108446 entries, 0 to 108445\n",
      "Data columns (total 33 columns):\n",
      " #   Column        Non-Null Count   Dtype  \n",
      "---  ------        --------------   -----  \n",
      " 0   country_code  108446 non-null  int64  \n",
      " 1   region        108446 non-null  int64  \n",
      " 2   age           108446 non-null  float64\n",
      " 3   FQ1           108446 non-null  int64  \n",
      " 4   FQ2           108446 non-null  float64\n",
      " 5   FQ3           108446 non-null  float64\n",
      " 6   FQ4           108446 non-null  int64  \n",
      " 7   FQ6           108446 non-null  float64\n",
      " 8   FQ7           108446 non-null  float64\n",
      " 9   FQ8           108446 non-null  int64  \n",
      " 10  FQ9           108446 non-null  int64  \n",
      " 11  FQ10          108446 non-null  int64  \n",
      " 12  FQ11          108446 non-null  float64\n",
      " 13  FQ12          108446 non-null  int64  \n",
      " 14  FQ13          108446 non-null  int64  \n",
      " 15  FQ14          108446 non-null  int64  \n",
      " 16  FQ15          108446 non-null  int64  \n",
      " 17  FQ16          108446 non-null  int64  \n",
      " 18  FQ18          108446 non-null  int64  \n",
      " 19  FQ19          108446 non-null  float64\n",
      " 20  FQ20          108446 non-null  float64\n",
      " 21  FQ21          108446 non-null  float64\n",
      " 22  FQ22          108446 non-null  int64  \n",
      " 23  FQ23          108446 non-null  int64  \n",
      " 24  FQ24          108446 non-null  float64\n",
      " 25  FQ25          108446 non-null  int64  \n",
      " 26  FQ26          108446 non-null  int64  \n",
      " 27  FQ29          108446 non-null  float64\n",
      " 28  FQ32          108446 non-null  float64\n",
      " 29  FQ33          108446 non-null  float64\n",
      " 30  FQ34          108446 non-null  float64\n",
      " 31  FQ37          108446 non-null  int64  \n",
      " 32  Target        108446 non-null  int64  \n",
      "dtypes: float64(14), int64(19)\n",
      "memory usage: 27.3 MB\n"
     ]
    }
   ],
   "source": [
    "data.info()"
   ]
  },
  {
   "cell_type": "code",
   "execution_count": 20,
   "metadata": {
    "id": "1T2eTFMz0cDq",
    "pycharm": {
     "name": "#%%\n"
    }
   },
   "outputs": [],
   "source": [
    "from sklearn.preprocessing import OneHotEncoder"
   ]
  },
  {
   "cell_type": "code",
   "execution_count": 21,
   "metadata": {
    "id": "yCVfJ9hO2zfs",
    "pycharm": {
     "name": "#%%\n"
    }
   },
   "outputs": [],
   "source": [
    "categorical_features = ['country_code','region','FQ1','FQ2','FQ3','FQ4','FQ6','FQ7','FQ8','FQ9','FQ10','FQ11','FQ12','FQ13','FQ14','FQ15','FQ16','FQ18','FQ19','FQ20','FQ21','FQ22','FQ23','FQ24','FQ25','FQ26','FQ29','FQ32','FQ33','FQ34','FQ37']\n"
   ]
  },
  {
   "cell_type": "code",
   "execution_count": 22,
   "metadata": {
    "id": "fjC2oTRc0lbT",
    "pycharm": {
     "name": "#%%\n"
    }
   },
   "outputs": [],
   "source": [
    "oneHot=OneHotEncoder(handle_unknown='ignore')"
   ]
  },
  {
   "cell_type": "code",
   "execution_count": 23,
   "metadata": {
    "colab": {
     "base_uri": "https://localhost:8080/",
     "height": 488
    },
    "id": "G711u96Q4JUd",
    "outputId": "edc27f4f-a125-461f-d575-89543179fe4f",
    "pycharm": {
     "name": "#%%\n"
    }
   },
   "outputs": [
    {
     "data": {
      "text/html": [
       "<div>\n",
       "<style scoped>\n",
       "    .dataframe tbody tr th:only-of-type {\n",
       "        vertical-align: middle;\n",
       "    }\n",
       "\n",
       "    .dataframe tbody tr th {\n",
       "        vertical-align: top;\n",
       "    }\n",
       "\n",
       "    .dataframe thead th {\n",
       "        text-align: right;\n",
       "    }\n",
       "</style>\n",
       "<table border=\"1\" class=\"dataframe\">\n",
       "  <thead>\n",
       "    <tr style=\"text-align: right;\">\n",
       "      <th></th>\n",
       "      <th>country_code</th>\n",
       "      <th>region</th>\n",
       "      <th>FQ1</th>\n",
       "      <th>FQ2</th>\n",
       "      <th>FQ3</th>\n",
       "      <th>FQ4</th>\n",
       "      <th>FQ6</th>\n",
       "      <th>FQ7</th>\n",
       "      <th>FQ8</th>\n",
       "      <th>FQ9</th>\n",
       "      <th>...</th>\n",
       "      <th>FQ22</th>\n",
       "      <th>FQ23</th>\n",
       "      <th>FQ24</th>\n",
       "      <th>FQ25</th>\n",
       "      <th>FQ26</th>\n",
       "      <th>FQ29</th>\n",
       "      <th>FQ32</th>\n",
       "      <th>FQ33</th>\n",
       "      <th>FQ34</th>\n",
       "      <th>FQ37</th>\n",
       "    </tr>\n",
       "  </thead>\n",
       "  <tbody>\n",
       "    <tr>\n",
       "      <th>0</th>\n",
       "      <td>1</td>\n",
       "      <td>6</td>\n",
       "      <td>2</td>\n",
       "      <td>1.0</td>\n",
       "      <td>1.0</td>\n",
       "      <td>2</td>\n",
       "      <td>1.0</td>\n",
       "      <td>1.0</td>\n",
       "      <td>2</td>\n",
       "      <td>1</td>\n",
       "      <td>...</td>\n",
       "      <td>1</td>\n",
       "      <td>2</td>\n",
       "      <td>2.0</td>\n",
       "      <td>2</td>\n",
       "      <td>2</td>\n",
       "      <td>1.0</td>\n",
       "      <td>2.0</td>\n",
       "      <td>1.0</td>\n",
       "      <td>1.0</td>\n",
       "      <td>0</td>\n",
       "    </tr>\n",
       "    <tr>\n",
       "      <th>1</th>\n",
       "      <td>32</td>\n",
       "      <td>7</td>\n",
       "      <td>2</td>\n",
       "      <td>1.0</td>\n",
       "      <td>1.0</td>\n",
       "      <td>2</td>\n",
       "      <td>1.0</td>\n",
       "      <td>1.0</td>\n",
       "      <td>2</td>\n",
       "      <td>2</td>\n",
       "      <td>...</td>\n",
       "      <td>1</td>\n",
       "      <td>2</td>\n",
       "      <td>2.0</td>\n",
       "      <td>1</td>\n",
       "      <td>1</td>\n",
       "      <td>2.0</td>\n",
       "      <td>2.0</td>\n",
       "      <td>1.0</td>\n",
       "      <td>2.0</td>\n",
       "      <td>0</td>\n",
       "    </tr>\n",
       "    <tr>\n",
       "      <th>2</th>\n",
       "      <td>71</td>\n",
       "      <td>7</td>\n",
       "      <td>2</td>\n",
       "      <td>1.0</td>\n",
       "      <td>1.0</td>\n",
       "      <td>2</td>\n",
       "      <td>1.0</td>\n",
       "      <td>1.0</td>\n",
       "      <td>2</td>\n",
       "      <td>2</td>\n",
       "      <td>...</td>\n",
       "      <td>1</td>\n",
       "      <td>2</td>\n",
       "      <td>2.0</td>\n",
       "      <td>2</td>\n",
       "      <td>1</td>\n",
       "      <td>2.0</td>\n",
       "      <td>2.0</td>\n",
       "      <td>2.0</td>\n",
       "      <td>1.0</td>\n",
       "      <td>1</td>\n",
       "    </tr>\n",
       "    <tr>\n",
       "      <th>3</th>\n",
       "      <td>48</td>\n",
       "      <td>3</td>\n",
       "      <td>1</td>\n",
       "      <td>1.0</td>\n",
       "      <td>1.0</td>\n",
       "      <td>2</td>\n",
       "      <td>2.0</td>\n",
       "      <td>1.0</td>\n",
       "      <td>2</td>\n",
       "      <td>1</td>\n",
       "      <td>...</td>\n",
       "      <td>1</td>\n",
       "      <td>2</td>\n",
       "      <td>2.0</td>\n",
       "      <td>2</td>\n",
       "      <td>2</td>\n",
       "      <td>2.0</td>\n",
       "      <td>2.0</td>\n",
       "      <td>1.0</td>\n",
       "      <td>1.0</td>\n",
       "      <td>1</td>\n",
       "    </tr>\n",
       "    <tr>\n",
       "      <th>4</th>\n",
       "      <td>25</td>\n",
       "      <td>0</td>\n",
       "      <td>2</td>\n",
       "      <td>1.0</td>\n",
       "      <td>1.0</td>\n",
       "      <td>2</td>\n",
       "      <td>1.0</td>\n",
       "      <td>1.0</td>\n",
       "      <td>2</td>\n",
       "      <td>2</td>\n",
       "      <td>...</td>\n",
       "      <td>1</td>\n",
       "      <td>1</td>\n",
       "      <td>2.0</td>\n",
       "      <td>2</td>\n",
       "      <td>2</td>\n",
       "      <td>2.0</td>\n",
       "      <td>2.0</td>\n",
       "      <td>1.0</td>\n",
       "      <td>1.0</td>\n",
       "      <td>1</td>\n",
       "    </tr>\n",
       "    <tr>\n",
       "      <th>...</th>\n",
       "      <td>...</td>\n",
       "      <td>...</td>\n",
       "      <td>...</td>\n",
       "      <td>...</td>\n",
       "      <td>...</td>\n",
       "      <td>...</td>\n",
       "      <td>...</td>\n",
       "      <td>...</td>\n",
       "      <td>...</td>\n",
       "      <td>...</td>\n",
       "      <td>...</td>\n",
       "      <td>...</td>\n",
       "      <td>...</td>\n",
       "      <td>...</td>\n",
       "      <td>...</td>\n",
       "      <td>...</td>\n",
       "      <td>...</td>\n",
       "      <td>...</td>\n",
       "      <td>...</td>\n",
       "      <td>...</td>\n",
       "      <td>...</td>\n",
       "    </tr>\n",
       "    <tr>\n",
       "      <th>108441</th>\n",
       "      <td>111</td>\n",
       "      <td>4</td>\n",
       "      <td>2</td>\n",
       "      <td>1.0</td>\n",
       "      <td>1.0</td>\n",
       "      <td>2</td>\n",
       "      <td>2.0</td>\n",
       "      <td>1.0</td>\n",
       "      <td>1</td>\n",
       "      <td>2</td>\n",
       "      <td>...</td>\n",
       "      <td>2</td>\n",
       "      <td>2</td>\n",
       "      <td>2.0</td>\n",
       "      <td>2</td>\n",
       "      <td>2</td>\n",
       "      <td>2.0</td>\n",
       "      <td>2.0</td>\n",
       "      <td>1.0</td>\n",
       "      <td>1.0</td>\n",
       "      <td>1</td>\n",
       "    </tr>\n",
       "    <tr>\n",
       "      <th>108442</th>\n",
       "      <td>77</td>\n",
       "      <td>4</td>\n",
       "      <td>1</td>\n",
       "      <td>1.0</td>\n",
       "      <td>1.0</td>\n",
       "      <td>2</td>\n",
       "      <td>1.0</td>\n",
       "      <td>1.0</td>\n",
       "      <td>2</td>\n",
       "      <td>2</td>\n",
       "      <td>...</td>\n",
       "      <td>1</td>\n",
       "      <td>2</td>\n",
       "      <td>2.0</td>\n",
       "      <td>2</td>\n",
       "      <td>2</td>\n",
       "      <td>2.0</td>\n",
       "      <td>2.0</td>\n",
       "      <td>1.0</td>\n",
       "      <td>1.0</td>\n",
       "      <td>1</td>\n",
       "    </tr>\n",
       "    <tr>\n",
       "      <th>108443</th>\n",
       "      <td>42</td>\n",
       "      <td>2</td>\n",
       "      <td>1</td>\n",
       "      <td>1.0</td>\n",
       "      <td>1.0</td>\n",
       "      <td>1</td>\n",
       "      <td>1.0</td>\n",
       "      <td>1.0</td>\n",
       "      <td>2</td>\n",
       "      <td>2</td>\n",
       "      <td>...</td>\n",
       "      <td>1</td>\n",
       "      <td>2</td>\n",
       "      <td>2.0</td>\n",
       "      <td>2</td>\n",
       "      <td>2</td>\n",
       "      <td>2.0</td>\n",
       "      <td>2.0</td>\n",
       "      <td>1.0</td>\n",
       "      <td>2.0</td>\n",
       "      <td>1</td>\n",
       "    </tr>\n",
       "    <tr>\n",
       "      <th>108444</th>\n",
       "      <td>57</td>\n",
       "      <td>7</td>\n",
       "      <td>1</td>\n",
       "      <td>1.0</td>\n",
       "      <td>1.0</td>\n",
       "      <td>2</td>\n",
       "      <td>1.0</td>\n",
       "      <td>1.0</td>\n",
       "      <td>2</td>\n",
       "      <td>2</td>\n",
       "      <td>...</td>\n",
       "      <td>1</td>\n",
       "      <td>2</td>\n",
       "      <td>2.0</td>\n",
       "      <td>2</td>\n",
       "      <td>2</td>\n",
       "      <td>2.0</td>\n",
       "      <td>2.0</td>\n",
       "      <td>1.0</td>\n",
       "      <td>1.0</td>\n",
       "      <td>1</td>\n",
       "    </tr>\n",
       "    <tr>\n",
       "      <th>108445</th>\n",
       "      <td>110</td>\n",
       "      <td>2</td>\n",
       "      <td>2</td>\n",
       "      <td>1.0</td>\n",
       "      <td>2.0</td>\n",
       "      <td>2</td>\n",
       "      <td>1.0</td>\n",
       "      <td>1.0</td>\n",
       "      <td>2</td>\n",
       "      <td>2</td>\n",
       "      <td>...</td>\n",
       "      <td>1</td>\n",
       "      <td>2</td>\n",
       "      <td>2.0</td>\n",
       "      <td>2</td>\n",
       "      <td>2</td>\n",
       "      <td>1.0</td>\n",
       "      <td>2.0</td>\n",
       "      <td>1.0</td>\n",
       "      <td>1.0</td>\n",
       "      <td>1</td>\n",
       "    </tr>\n",
       "  </tbody>\n",
       "</table>\n",
       "<p>108446 rows × 31 columns</p>\n",
       "</div>"
      ],
      "text/plain": [
       "        country_code  region  FQ1  FQ2  FQ3  FQ4  FQ6  FQ7  FQ8  FQ9  ...  \\\n",
       "0                  1       6    2  1.0  1.0    2  1.0  1.0    2    1  ...   \n",
       "1                 32       7    2  1.0  1.0    2  1.0  1.0    2    2  ...   \n",
       "2                 71       7    2  1.0  1.0    2  1.0  1.0    2    2  ...   \n",
       "3                 48       3    1  1.0  1.0    2  2.0  1.0    2    1  ...   \n",
       "4                 25       0    2  1.0  1.0    2  1.0  1.0    2    2  ...   \n",
       "...              ...     ...  ...  ...  ...  ...  ...  ...  ...  ...  ...   \n",
       "108441           111       4    2  1.0  1.0    2  2.0  1.0    1    2  ...   \n",
       "108442            77       4    1  1.0  1.0    2  1.0  1.0    2    2  ...   \n",
       "108443            42       2    1  1.0  1.0    1  1.0  1.0    2    2  ...   \n",
       "108444            57       7    1  1.0  1.0    2  1.0  1.0    2    2  ...   \n",
       "108445           110       2    2  1.0  2.0    2  1.0  1.0    2    2  ...   \n",
       "\n",
       "        FQ22  FQ23  FQ24  FQ25  FQ26  FQ29  FQ32  FQ33  FQ34  FQ37  \n",
       "0          1     2   2.0     2     2   1.0   2.0   1.0   1.0     0  \n",
       "1          1     2   2.0     1     1   2.0   2.0   1.0   2.0     0  \n",
       "2          1     2   2.0     2     1   2.0   2.0   2.0   1.0     1  \n",
       "3          1     2   2.0     2     2   2.0   2.0   1.0   1.0     1  \n",
       "4          1     1   2.0     2     2   2.0   2.0   1.0   1.0     1  \n",
       "...      ...   ...   ...   ...   ...   ...   ...   ...   ...   ...  \n",
       "108441     2     2   2.0     2     2   2.0   2.0   1.0   1.0     1  \n",
       "108442     1     2   2.0     2     2   2.0   2.0   1.0   1.0     1  \n",
       "108443     1     2   2.0     2     2   2.0   2.0   1.0   2.0     1  \n",
       "108444     1     2   2.0     2     2   2.0   2.0   1.0   1.0     1  \n",
       "108445     1     2   2.0     2     2   1.0   2.0   1.0   1.0     1  \n",
       "\n",
       "[108446 rows x 31 columns]"
      ]
     },
     "execution_count": 23,
     "metadata": {},
     "output_type": "execute_result"
    }
   ],
   "source": [
    "data[categorical_features]"
   ]
  },
  {
   "cell_type": "code",
   "execution_count": 24,
   "metadata": {
    "colab": {
     "base_uri": "https://localhost:8080/"
    },
    "id": "awlXg3748eI8",
    "outputId": "c2b464d6-a431-4547-b560-d3e138d56916",
    "pycharm": {
     "name": "#%%\n"
    }
   },
   "outputs": [
    {
     "data": {
      "text/plain": [
       "(108446, 31)"
      ]
     },
     "execution_count": 24,
     "metadata": {},
     "output_type": "execute_result"
    }
   ],
   "source": [
    "data[categorical_features].shape"
   ]
  },
  {
   "cell_type": "code",
   "execution_count": 25,
   "metadata": {
    "colab": {
     "base_uri": "https://localhost:8080/"
    },
    "id": "Tmvkqmvd4IL6",
    "outputId": "c5699bd1-b563-47c9-91d2-78ffaa13b7b7",
    "pycharm": {
     "name": "#%%\n"
    }
   },
   "outputs": [
    {
     "name": "stdout",
     "output_type": "stream",
     "text": [
      "<class 'pandas.core.frame.DataFrame'>\n",
      "RangeIndex: 108446 entries, 0 to 108445\n",
      "Data columns (total 33 columns):\n",
      " #   Column        Non-Null Count   Dtype  \n",
      "---  ------        --------------   -----  \n",
      " 0   country_code  108446 non-null  int64  \n",
      " 1   region        108446 non-null  int64  \n",
      " 2   age           108446 non-null  float64\n",
      " 3   FQ1           108446 non-null  int64  \n",
      " 4   FQ2           108446 non-null  float64\n",
      " 5   FQ3           108446 non-null  float64\n",
      " 6   FQ4           108446 non-null  int64  \n",
      " 7   FQ6           108446 non-null  float64\n",
      " 8   FQ7           108446 non-null  float64\n",
      " 9   FQ8           108446 non-null  int64  \n",
      " 10  FQ9           108446 non-null  int64  \n",
      " 11  FQ10          108446 non-null  int64  \n",
      " 12  FQ11          108446 non-null  float64\n",
      " 13  FQ12          108446 non-null  int64  \n",
      " 14  FQ13          108446 non-null  int64  \n",
      " 15  FQ14          108446 non-null  int64  \n",
      " 16  FQ15          108446 non-null  int64  \n",
      " 17  FQ16          108446 non-null  int64  \n",
      " 18  FQ18          108446 non-null  int64  \n",
      " 19  FQ19          108446 non-null  float64\n",
      " 20  FQ20          108446 non-null  float64\n",
      " 21  FQ21          108446 non-null  float64\n",
      " 22  FQ22          108446 non-null  int64  \n",
      " 23  FQ23          108446 non-null  int64  \n",
      " 24  FQ24          108446 non-null  float64\n",
      " 25  FQ25          108446 non-null  int64  \n",
      " 26  FQ26          108446 non-null  int64  \n",
      " 27  FQ29          108446 non-null  float64\n",
      " 28  FQ32          108446 non-null  float64\n",
      " 29  FQ33          108446 non-null  float64\n",
      " 30  FQ34          108446 non-null  float64\n",
      " 31  FQ37          108446 non-null  int64  \n",
      " 32  Target        108446 non-null  int64  \n",
      "dtypes: float64(14), int64(19)\n",
      "memory usage: 27.3 MB\n"
     ]
    }
   ],
   "source": [
    "data.info()"
   ]
  },
  {
   "cell_type": "markdown",
   "metadata": {
    "id": "tTg-Mi1H5GQt",
    "pycharm": {
     "name": "#%% md\n"
    }
   },
   "source": []
  },
  {
   "cell_type": "code",
   "execution_count": 26,
   "metadata": {
    "id": "lMB57sr301W_",
    "pycharm": {
     "name": "#%%\n"
    }
   },
   "outputs": [],
   "source": [
    "newData = oneHot.fit_transform(data[categorical_features])"
   ]
  },
  {
   "cell_type": "code",
   "execution_count": 27,
   "metadata": {
    "colab": {
     "base_uri": "https://localhost:8080/"
    },
    "id": "422_P6OYAC5v",
    "outputId": "0ac42c7f-a2d2-4951-e776-68473f18c605",
    "pycharm": {
     "name": "#%%\n"
    }
   },
   "outputs": [
    {
     "data": {
      "text/plain": [
       "<108446x271 sparse matrix of type '<class 'numpy.float64'>'\n",
       "\twith 3361826 stored elements in Compressed Sparse Row format>"
      ]
     },
     "execution_count": 27,
     "metadata": {},
     "output_type": "execute_result"
    }
   ],
   "source": [
    "newData"
   ]
  },
  {
   "cell_type": "code",
   "execution_count": 28,
   "metadata": {
    "colab": {
     "base_uri": "https://localhost:8080/"
    },
    "id": "djLcZPbr-0ap",
    "outputId": "9e3c85f6-d04c-4597-9d9a-b244eb12f53d",
    "pycharm": {
     "name": "#%%\n"
    }
   },
   "outputs": [
    {
     "data": {
      "text/plain": [
       "(108446, 271)"
      ]
     },
     "execution_count": 28,
     "metadata": {},
     "output_type": "execute_result"
    }
   ],
   "source": [
    "newData.shape"
   ]
  },
  {
   "cell_type": "code",
   "execution_count": null,
   "metadata": {
    "colab": {
     "base_uri": "https://localhost:8080/"
    },
    "id": "-TfnbljkBsoN",
    "outputId": "d3e29d5e-4f20-4c72-b1e5-3f3a42ff808c",
    "pycharm": {
     "name": "#%%\n"
    }
   },
   "outputs": [
    {
     "data": {
      "text/plain": [
       "array(['x0_0', 'x0_1', 'x0_2', 'x0_3', 'x0_4', 'x0_5', 'x0_6', 'x0_7',\n",
       "       'x0_8', 'x0_9', 'x0_10', 'x0_11', 'x0_12', 'x0_13', 'x0_14',\n",
       "       'x0_15', 'x0_16', 'x0_17', 'x0_18', 'x0_19', 'x0_20', 'x0_21',\n",
       "       'x0_22', 'x0_23', 'x0_24', 'x0_25', 'x0_26', 'x0_27', 'x0_28',\n",
       "       'x0_29', 'x0_30', 'x0_31', 'x0_32', 'x0_33', 'x0_34', 'x0_35',\n",
       "       'x0_36', 'x0_37', 'x0_38', 'x0_39', 'x0_40', 'x0_41', 'x0_42',\n",
       "       'x0_43', 'x0_44', 'x0_45', 'x0_46', 'x0_47', 'x0_48', 'x0_49',\n",
       "       'x0_50', 'x0_51', 'x0_52', 'x0_53', 'x0_54', 'x0_55', 'x0_56',\n",
       "       'x0_57', 'x0_58', 'x0_59', 'x0_60', 'x0_61', 'x0_62', 'x0_63',\n",
       "       'x0_64', 'x0_65', 'x0_66', 'x0_67', 'x0_68', 'x0_69', 'x0_70',\n",
       "       'x0_71', 'x0_72', 'x0_73', 'x0_74', 'x0_75', 'x0_76', 'x0_77',\n",
       "       'x0_78', 'x0_79', 'x0_80', 'x0_81', 'x0_82', 'x0_83', 'x0_84',\n",
       "       'x0_85', 'x0_86', 'x0_87', 'x0_88', 'x0_89', 'x0_90', 'x0_91',\n",
       "       'x0_92', 'x0_93', 'x0_94', 'x0_95', 'x0_96', 'x0_97', 'x0_98',\n",
       "       'x0_99', 'x0_100', 'x0_101', 'x0_102', 'x0_103', 'x0_104',\n",
       "       'x0_105', 'x0_106', 'x0_107', 'x0_108', 'x0_109', 'x0_110',\n",
       "       'x0_111', 'x0_112', 'x0_113', 'x0_114', 'x0_115', 'x0_116',\n",
       "       'x0_117', 'x0_118', 'x0_119', 'x0_120', 'x0_121', 'x0_122',\n",
       "       'x0_123', 'x0_124', 'x0_125', 'x0_126', 'x0_127', 'x0_128',\n",
       "       'x0_129', 'x0_130', 'x0_131', 'x0_132', 'x0_133', 'x0_134',\n",
       "       'x0_135', 'x0_136', 'x0_137', 'x0_138', 'x0_139', 'x0_140',\n",
       "       'x0_141', 'x0_142', 'x0_143', 'x1_-1', 'x1_0', 'x1_1', 'x1_2',\n",
       "       'x1_3', 'x1_4', 'x1_5', 'x1_6', 'x1_7', 'x2_1', 'x2_2', 'x2_3',\n",
       "       'x2_4', 'x3_1.0', 'x3_2.0', 'x3_3.0', 'x3_4.0', 'x4_1.0', 'x4_2.0',\n",
       "       'x4_3.0', 'x4_4.0', 'x5_1', 'x5_2', 'x5_3', 'x5_4', 'x6_1.0',\n",
       "       'x6_2.0', 'x6_3.0', 'x6_4.0', 'x7_1.0', 'x7_2.0', 'x7_3.0',\n",
       "       'x7_4.0', 'x8_1', 'x8_2', 'x8_3', 'x8_4', 'x9_1', 'x9_2', 'x9_3',\n",
       "       'x9_4', 'x10_1', 'x10_2', 'x10_3', 'x10_4', 'x11_1.0', 'x11_2.0',\n",
       "       'x11_3.0', 'x11_4.0', 'x12_1', 'x12_2', 'x12_3', 'x12_4', 'x13_1',\n",
       "       'x13_2', 'x13_3', 'x13_4', 'x14_1', 'x14_2', 'x14_3', 'x14_4',\n",
       "       'x15_1', 'x15_2', 'x15_3', 'x15_4', 'x16_1', 'x16_2', 'x16_3',\n",
       "       'x16_4', 'x17_1', 'x17_2', 'x17_3', 'x17_4', 'x18_1.0', 'x18_2.0',\n",
       "       'x18_3.0', 'x18_4.0', 'x18_5.0', 'x18_6.0', 'x18_7.0', 'x18_8.0',\n",
       "       'x19_1.0', 'x19_2.0', 'x19_3.0', 'x19_4.0', 'x20_1.0', 'x20_2.0',\n",
       "       'x20_3.0', 'x20_4.0', 'x21_1', 'x21_2', 'x21_3', 'x21_4', 'x22_1',\n",
       "       'x22_2', 'x22_3', 'x22_4', 'x23_1.0', 'x23_2.0', 'x23_3.0',\n",
       "       'x23_4.0', 'x24_1', 'x24_2', 'x24_3', 'x24_4', 'x25_1', 'x25_2',\n",
       "       'x25_3', 'x25_4', 'x26_1.0', 'x26_2.0', 'x26_3.0', 'x26_4.0',\n",
       "       'x27_1.0', 'x27_2.0', 'x27_3.0', 'x27_4.0', 'x28_1.0', 'x28_2.0',\n",
       "       'x28_3.0', 'x28_4.0', 'x29_1.0', 'x29_2.0', 'x29_3.0', 'x29_4.0',\n",
       "       'x30_0', 'x30_1'], dtype=object)"
      ]
     },
     "execution_count": 220,
     "metadata": {},
     "output_type": "execute_result"
    }
   ],
   "source": [
    "oneHot."
   ]
  },
  {
   "cell_type": "code",
   "execution_count": 29,
   "metadata": {
    "colab": {
     "base_uri": "https://localhost:8080/"
    },
    "id": "SF93F2rD_Rao",
    "outputId": "cf6736ea-6a56-4525-9f01-3d19c6586762",
    "pycharm": {
     "name": "#%%\n"
    }
   },
   "outputs": [
    {
     "data": {
      "text/plain": [
       "array(['country_code_0', 'country_code_1', 'country_code_2',\n",
       "       'country_code_3', 'country_code_4', 'country_code_5',\n",
       "       'country_code_6', 'country_code_7', 'country_code_8',\n",
       "       'country_code_9', 'country_code_10', 'country_code_11',\n",
       "       'country_code_12', 'country_code_13', 'country_code_14',\n",
       "       'country_code_15', 'country_code_16', 'country_code_17',\n",
       "       'country_code_18', 'country_code_19', 'country_code_20',\n",
       "       'country_code_21', 'country_code_22', 'country_code_23',\n",
       "       'country_code_24', 'country_code_25', 'country_code_26',\n",
       "       'country_code_27', 'country_code_28', 'country_code_29',\n",
       "       'country_code_30', 'country_code_31', 'country_code_32',\n",
       "       'country_code_33', 'country_code_34', 'country_code_35',\n",
       "       'country_code_36', 'country_code_37', 'country_code_38',\n",
       "       'country_code_39', 'country_code_40', 'country_code_41',\n",
       "       'country_code_42', 'country_code_43', 'country_code_44',\n",
       "       'country_code_45', 'country_code_46', 'country_code_47',\n",
       "       'country_code_48', 'country_code_49', 'country_code_50',\n",
       "       'country_code_51', 'country_code_52', 'country_code_53',\n",
       "       'country_code_54', 'country_code_55', 'country_code_56',\n",
       "       'country_code_57', 'country_code_58', 'country_code_59',\n",
       "       'country_code_60', 'country_code_61', 'country_code_62',\n",
       "       'country_code_63', 'country_code_64', 'country_code_65',\n",
       "       'country_code_66', 'country_code_67', 'country_code_68',\n",
       "       'country_code_69', 'country_code_70', 'country_code_71',\n",
       "       'country_code_72', 'country_code_73', 'country_code_74',\n",
       "       'country_code_75', 'country_code_76', 'country_code_77',\n",
       "       'country_code_78', 'country_code_79', 'country_code_80',\n",
       "       'country_code_81', 'country_code_82', 'country_code_83',\n",
       "       'country_code_84', 'country_code_85', 'country_code_86',\n",
       "       'country_code_87', 'country_code_88', 'country_code_89',\n",
       "       'country_code_90', 'country_code_91', 'country_code_92',\n",
       "       'country_code_93', 'country_code_94', 'country_code_95',\n",
       "       'country_code_96', 'country_code_97', 'country_code_98',\n",
       "       'country_code_99', 'country_code_100', 'country_code_101',\n",
       "       'country_code_102', 'country_code_103', 'country_code_104',\n",
       "       'country_code_105', 'country_code_106', 'country_code_107',\n",
       "       'country_code_108', 'country_code_109', 'country_code_110',\n",
       "       'country_code_111', 'country_code_112', 'country_code_113',\n",
       "       'country_code_114', 'country_code_115', 'country_code_116',\n",
       "       'country_code_117', 'country_code_118', 'country_code_119',\n",
       "       'country_code_120', 'country_code_121', 'country_code_122',\n",
       "       'country_code_123', 'country_code_124', 'country_code_125',\n",
       "       'country_code_126', 'country_code_127', 'country_code_128',\n",
       "       'country_code_129', 'country_code_130', 'country_code_131',\n",
       "       'country_code_132', 'country_code_133', 'country_code_134',\n",
       "       'country_code_135', 'country_code_136', 'country_code_137',\n",
       "       'country_code_138', 'country_code_139', 'country_code_140',\n",
       "       'country_code_141', 'country_code_142', 'country_code_143',\n",
       "       'region_-1', 'region_0', 'region_1', 'region_2', 'region_3',\n",
       "       'region_4', 'region_5', 'region_6', 'region_7', 'FQ1_1', 'FQ1_2',\n",
       "       'FQ1_3', 'FQ1_4', 'FQ2_1.0', 'FQ2_2.0', 'FQ2_3.0', 'FQ2_4.0',\n",
       "       'FQ3_1.0', 'FQ3_2.0', 'FQ3_3.0', 'FQ3_4.0', 'FQ4_1', 'FQ4_2',\n",
       "       'FQ4_3', 'FQ4_4', 'FQ6_1.0', 'FQ6_2.0', 'FQ6_3.0', 'FQ6_4.0',\n",
       "       'FQ7_1.0', 'FQ7_2.0', 'FQ7_3.0', 'FQ7_4.0', 'FQ8_1', 'FQ8_2',\n",
       "       'FQ8_3', 'FQ8_4', 'FQ9_1', 'FQ9_2', 'FQ9_3', 'FQ9_4', 'FQ10_1',\n",
       "       'FQ10_2', 'FQ10_3', 'FQ10_4', 'FQ11_1.0', 'FQ11_2.0', 'FQ11_3.0',\n",
       "       'FQ11_4.0', 'FQ12_1', 'FQ12_2', 'FQ12_3', 'FQ12_4', 'FQ13_1',\n",
       "       'FQ13_2', 'FQ13_3', 'FQ13_4', 'FQ14_1', 'FQ14_2', 'FQ14_3',\n",
       "       'FQ14_4', 'FQ15_1', 'FQ15_2', 'FQ15_3', 'FQ15_4', 'FQ16_1',\n",
       "       'FQ16_2', 'FQ16_3', 'FQ16_4', 'FQ18_1', 'FQ18_2', 'FQ18_3',\n",
       "       'FQ18_4', 'FQ19_1.0', 'FQ19_2.0', 'FQ19_3.0', 'FQ19_4.0',\n",
       "       'FQ19_5.0', 'FQ19_6.0', 'FQ19_7.0', 'FQ19_8.0', 'FQ20_1.0',\n",
       "       'FQ20_2.0', 'FQ20_3.0', 'FQ20_4.0', 'FQ21_1.0', 'FQ21_2.0',\n",
       "       'FQ21_3.0', 'FQ21_4.0', 'FQ22_1', 'FQ22_2', 'FQ22_3', 'FQ22_4',\n",
       "       'FQ23_1', 'FQ23_2', 'FQ23_3', 'FQ23_4', 'FQ24_1.0', 'FQ24_2.0',\n",
       "       'FQ24_3.0', 'FQ24_4.0', 'FQ25_1', 'FQ25_2', 'FQ25_3', 'FQ25_4',\n",
       "       'FQ26_1', 'FQ26_2', 'FQ26_3', 'FQ26_4', 'FQ29_1.0', 'FQ29_2.0',\n",
       "       'FQ29_3.0', 'FQ29_4.0', 'FQ32_1.0', 'FQ32_2.0', 'FQ32_3.0',\n",
       "       'FQ32_4.0', 'FQ33_1.0', 'FQ33_2.0', 'FQ33_3.0', 'FQ33_4.0',\n",
       "       'FQ34_1.0', 'FQ34_2.0', 'FQ34_3.0', 'FQ34_4.0', 'FQ37_0', 'FQ37_1'],\n",
       "      dtype=object)"
      ]
     },
     "execution_count": 29,
     "metadata": {},
     "output_type": "execute_result"
    }
   ],
   "source": [
    "oneHot.get_feature_names_out()"
   ]
  },
  {
   "cell_type": "code",
   "execution_count": null,
   "metadata": {
    "colab": {
     "base_uri": "https://localhost:8080/"
    },
    "id": "MC-mjA3k_cWA",
    "outputId": "357f4152-4316-40eb-bfc3-5dd907f5aafd",
    "pycharm": {
     "name": "#%%\n"
    }
   },
   "outputs": [
    {
     "data": {
      "text/plain": [
       "array([[0., 1., 0., ..., 0., 1., 0.],\n",
       "       [0., 0., 0., ..., 0., 1., 0.],\n",
       "       [0., 0., 0., ..., 0., 0., 1.],\n",
       "       ...,\n",
       "       [0., 0., 0., ..., 0., 0., 1.],\n",
       "       [0., 0., 0., ..., 0., 0., 1.],\n",
       "       [0., 0., 0., ..., 0., 0., 1.]])"
      ]
     },
     "execution_count": 210,
     "metadata": {},
     "output_type": "execute_result"
    }
   ],
   "source": [
    "newData.toarray()"
   ]
  },
  {
   "cell_type": "code",
   "execution_count": 239,
   "metadata": {
    "id": "VjoN7n_lWa4s",
    "pycharm": {
     "name": "#%%\n"
    }
   },
   "outputs": [],
   "source": [
    "import sklearn"
   ]
  },
  {
   "cell_type": "code",
   "execution_count": 30,
   "metadata": {
    "id": "qOb1zma2AzZH",
    "pycharm": {
     "name": "#%%\n"
    }
   },
   "outputs": [],
   "source": [
    "import joblib as jb"
   ]
  },
  {
   "cell_type": "code",
   "execution_count": 32,
   "metadata": {
    "colab": {
     "base_uri": "https://localhost:8080/"
    },
    "id": "df9-mySpA1yD",
    "outputId": "46e2729b-8131-4580-c973-e5952c423146",
    "pycharm": {
     "name": "#%%\n"
    }
   },
   "outputs": [
    {
     "data": {
      "text/plain": [
       "['Onehot.pkl']"
      ]
     },
     "execution_count": 32,
     "metadata": {},
     "output_type": "execute_result"
    }
   ],
   "source": [
    "jb.dump(oneHot,'Onehot.pkl')"
   ]
  },
  {
   "cell_type": "code",
   "execution_count": null,
   "metadata": {
    "id": "pzBkP-W5-fkh",
    "pycharm": {
     "name": "#%%\n"
    }
   },
   "outputs": [],
   "source": [
    "daaa =pd.DataFrame(newData.toarray(),columns=oneHot.get_feature_names_out())"
   ]
  },
  {
   "cell_type": "code",
   "execution_count": null,
   "metadata": {
    "colab": {
     "base_uri": "https://localhost:8080/",
     "height": 488
    },
    "id": "zSTJZrLh_pNF",
    "outputId": "adac910a-73ee-41f2-c09f-d92feec66ab5",
    "pycharm": {
     "name": "#%%\n"
    }
   },
   "outputs": [
    {
     "data": {
      "text/html": [
       "\n",
       "  <div id=\"df-133fb55d-4c91-4f07-bd46-7d6adc52f9ca\">\n",
       "    <div class=\"colab-df-container\">\n",
       "      <div>\n",
       "<style scoped>\n",
       "    .dataframe tbody tr th:only-of-type {\n",
       "        vertical-align: middle;\n",
       "    }\n",
       "\n",
       "    .dataframe tbody tr th {\n",
       "        vertical-align: top;\n",
       "    }\n",
       "\n",
       "    .dataframe thead th {\n",
       "        text-align: right;\n",
       "    }\n",
       "</style>\n",
       "<table border=\"1\" class=\"dataframe\">\n",
       "  <thead>\n",
       "    <tr style=\"text-align: right;\">\n",
       "      <th></th>\n",
       "      <th>country_code_0</th>\n",
       "      <th>country_code_1</th>\n",
       "      <th>country_code_2</th>\n",
       "      <th>country_code_3</th>\n",
       "      <th>country_code_4</th>\n",
       "      <th>country_code_5</th>\n",
       "      <th>country_code_6</th>\n",
       "      <th>country_code_7</th>\n",
       "      <th>country_code_8</th>\n",
       "      <th>country_code_9</th>\n",
       "      <th>...</th>\n",
       "      <th>FQ33_1.0</th>\n",
       "      <th>FQ33_2.0</th>\n",
       "      <th>FQ33_3.0</th>\n",
       "      <th>FQ33_4.0</th>\n",
       "      <th>FQ34_1.0</th>\n",
       "      <th>FQ34_2.0</th>\n",
       "      <th>FQ34_3.0</th>\n",
       "      <th>FQ34_4.0</th>\n",
       "      <th>FQ37_0</th>\n",
       "      <th>FQ37_1</th>\n",
       "    </tr>\n",
       "  </thead>\n",
       "  <tbody>\n",
       "    <tr>\n",
       "      <th>0</th>\n",
       "      <td>0.0</td>\n",
       "      <td>1.0</td>\n",
       "      <td>0.0</td>\n",
       "      <td>0.0</td>\n",
       "      <td>0.0</td>\n",
       "      <td>0.0</td>\n",
       "      <td>0.0</td>\n",
       "      <td>0.0</td>\n",
       "      <td>0.0</td>\n",
       "      <td>0.0</td>\n",
       "      <td>...</td>\n",
       "      <td>1.0</td>\n",
       "      <td>0.0</td>\n",
       "      <td>0.0</td>\n",
       "      <td>0.0</td>\n",
       "      <td>1.0</td>\n",
       "      <td>0.0</td>\n",
       "      <td>0.0</td>\n",
       "      <td>0.0</td>\n",
       "      <td>1.0</td>\n",
       "      <td>0.0</td>\n",
       "    </tr>\n",
       "    <tr>\n",
       "      <th>1</th>\n",
       "      <td>0.0</td>\n",
       "      <td>0.0</td>\n",
       "      <td>0.0</td>\n",
       "      <td>0.0</td>\n",
       "      <td>0.0</td>\n",
       "      <td>0.0</td>\n",
       "      <td>0.0</td>\n",
       "      <td>0.0</td>\n",
       "      <td>0.0</td>\n",
       "      <td>0.0</td>\n",
       "      <td>...</td>\n",
       "      <td>1.0</td>\n",
       "      <td>0.0</td>\n",
       "      <td>0.0</td>\n",
       "      <td>0.0</td>\n",
       "      <td>0.0</td>\n",
       "      <td>1.0</td>\n",
       "      <td>0.0</td>\n",
       "      <td>0.0</td>\n",
       "      <td>1.0</td>\n",
       "      <td>0.0</td>\n",
       "    </tr>\n",
       "    <tr>\n",
       "      <th>2</th>\n",
       "      <td>0.0</td>\n",
       "      <td>0.0</td>\n",
       "      <td>0.0</td>\n",
       "      <td>0.0</td>\n",
       "      <td>0.0</td>\n",
       "      <td>0.0</td>\n",
       "      <td>0.0</td>\n",
       "      <td>0.0</td>\n",
       "      <td>0.0</td>\n",
       "      <td>0.0</td>\n",
       "      <td>...</td>\n",
       "      <td>0.0</td>\n",
       "      <td>1.0</td>\n",
       "      <td>0.0</td>\n",
       "      <td>0.0</td>\n",
       "      <td>1.0</td>\n",
       "      <td>0.0</td>\n",
       "      <td>0.0</td>\n",
       "      <td>0.0</td>\n",
       "      <td>0.0</td>\n",
       "      <td>1.0</td>\n",
       "    </tr>\n",
       "    <tr>\n",
       "      <th>3</th>\n",
       "      <td>0.0</td>\n",
       "      <td>0.0</td>\n",
       "      <td>0.0</td>\n",
       "      <td>0.0</td>\n",
       "      <td>0.0</td>\n",
       "      <td>0.0</td>\n",
       "      <td>0.0</td>\n",
       "      <td>0.0</td>\n",
       "      <td>0.0</td>\n",
       "      <td>0.0</td>\n",
       "      <td>...</td>\n",
       "      <td>1.0</td>\n",
       "      <td>0.0</td>\n",
       "      <td>0.0</td>\n",
       "      <td>0.0</td>\n",
       "      <td>1.0</td>\n",
       "      <td>0.0</td>\n",
       "      <td>0.0</td>\n",
       "      <td>0.0</td>\n",
       "      <td>0.0</td>\n",
       "      <td>1.0</td>\n",
       "    </tr>\n",
       "    <tr>\n",
       "      <th>4</th>\n",
       "      <td>0.0</td>\n",
       "      <td>0.0</td>\n",
       "      <td>0.0</td>\n",
       "      <td>0.0</td>\n",
       "      <td>0.0</td>\n",
       "      <td>0.0</td>\n",
       "      <td>0.0</td>\n",
       "      <td>0.0</td>\n",
       "      <td>0.0</td>\n",
       "      <td>0.0</td>\n",
       "      <td>...</td>\n",
       "      <td>1.0</td>\n",
       "      <td>0.0</td>\n",
       "      <td>0.0</td>\n",
       "      <td>0.0</td>\n",
       "      <td>1.0</td>\n",
       "      <td>0.0</td>\n",
       "      <td>0.0</td>\n",
       "      <td>0.0</td>\n",
       "      <td>0.0</td>\n",
       "      <td>1.0</td>\n",
       "    </tr>\n",
       "    <tr>\n",
       "      <th>...</th>\n",
       "      <td>...</td>\n",
       "      <td>...</td>\n",
       "      <td>...</td>\n",
       "      <td>...</td>\n",
       "      <td>...</td>\n",
       "      <td>...</td>\n",
       "      <td>...</td>\n",
       "      <td>...</td>\n",
       "      <td>...</td>\n",
       "      <td>...</td>\n",
       "      <td>...</td>\n",
       "      <td>...</td>\n",
       "      <td>...</td>\n",
       "      <td>...</td>\n",
       "      <td>...</td>\n",
       "      <td>...</td>\n",
       "      <td>...</td>\n",
       "      <td>...</td>\n",
       "      <td>...</td>\n",
       "      <td>...</td>\n",
       "      <td>...</td>\n",
       "    </tr>\n",
       "    <tr>\n",
       "      <th>108441</th>\n",
       "      <td>0.0</td>\n",
       "      <td>0.0</td>\n",
       "      <td>0.0</td>\n",
       "      <td>0.0</td>\n",
       "      <td>0.0</td>\n",
       "      <td>0.0</td>\n",
       "      <td>0.0</td>\n",
       "      <td>0.0</td>\n",
       "      <td>0.0</td>\n",
       "      <td>0.0</td>\n",
       "      <td>...</td>\n",
       "      <td>1.0</td>\n",
       "      <td>0.0</td>\n",
       "      <td>0.0</td>\n",
       "      <td>0.0</td>\n",
       "      <td>1.0</td>\n",
       "      <td>0.0</td>\n",
       "      <td>0.0</td>\n",
       "      <td>0.0</td>\n",
       "      <td>0.0</td>\n",
       "      <td>1.0</td>\n",
       "    </tr>\n",
       "    <tr>\n",
       "      <th>108442</th>\n",
       "      <td>0.0</td>\n",
       "      <td>0.0</td>\n",
       "      <td>0.0</td>\n",
       "      <td>0.0</td>\n",
       "      <td>0.0</td>\n",
       "      <td>0.0</td>\n",
       "      <td>0.0</td>\n",
       "      <td>0.0</td>\n",
       "      <td>0.0</td>\n",
       "      <td>0.0</td>\n",
       "      <td>...</td>\n",
       "      <td>1.0</td>\n",
       "      <td>0.0</td>\n",
       "      <td>0.0</td>\n",
       "      <td>0.0</td>\n",
       "      <td>1.0</td>\n",
       "      <td>0.0</td>\n",
       "      <td>0.0</td>\n",
       "      <td>0.0</td>\n",
       "      <td>0.0</td>\n",
       "      <td>1.0</td>\n",
       "    </tr>\n",
       "    <tr>\n",
       "      <th>108443</th>\n",
       "      <td>0.0</td>\n",
       "      <td>0.0</td>\n",
       "      <td>0.0</td>\n",
       "      <td>0.0</td>\n",
       "      <td>0.0</td>\n",
       "      <td>0.0</td>\n",
       "      <td>0.0</td>\n",
       "      <td>0.0</td>\n",
       "      <td>0.0</td>\n",
       "      <td>0.0</td>\n",
       "      <td>...</td>\n",
       "      <td>1.0</td>\n",
       "      <td>0.0</td>\n",
       "      <td>0.0</td>\n",
       "      <td>0.0</td>\n",
       "      <td>0.0</td>\n",
       "      <td>1.0</td>\n",
       "      <td>0.0</td>\n",
       "      <td>0.0</td>\n",
       "      <td>0.0</td>\n",
       "      <td>1.0</td>\n",
       "    </tr>\n",
       "    <tr>\n",
       "      <th>108444</th>\n",
       "      <td>0.0</td>\n",
       "      <td>0.0</td>\n",
       "      <td>0.0</td>\n",
       "      <td>0.0</td>\n",
       "      <td>0.0</td>\n",
       "      <td>0.0</td>\n",
       "      <td>0.0</td>\n",
       "      <td>0.0</td>\n",
       "      <td>0.0</td>\n",
       "      <td>0.0</td>\n",
       "      <td>...</td>\n",
       "      <td>1.0</td>\n",
       "      <td>0.0</td>\n",
       "      <td>0.0</td>\n",
       "      <td>0.0</td>\n",
       "      <td>1.0</td>\n",
       "      <td>0.0</td>\n",
       "      <td>0.0</td>\n",
       "      <td>0.0</td>\n",
       "      <td>0.0</td>\n",
       "      <td>1.0</td>\n",
       "    </tr>\n",
       "    <tr>\n",
       "      <th>108445</th>\n",
       "      <td>0.0</td>\n",
       "      <td>0.0</td>\n",
       "      <td>0.0</td>\n",
       "      <td>0.0</td>\n",
       "      <td>0.0</td>\n",
       "      <td>0.0</td>\n",
       "      <td>0.0</td>\n",
       "      <td>0.0</td>\n",
       "      <td>0.0</td>\n",
       "      <td>0.0</td>\n",
       "      <td>...</td>\n",
       "      <td>1.0</td>\n",
       "      <td>0.0</td>\n",
       "      <td>0.0</td>\n",
       "      <td>0.0</td>\n",
       "      <td>1.0</td>\n",
       "      <td>0.0</td>\n",
       "      <td>0.0</td>\n",
       "      <td>0.0</td>\n",
       "      <td>0.0</td>\n",
       "      <td>1.0</td>\n",
       "    </tr>\n",
       "  </tbody>\n",
       "</table>\n",
       "<p>108446 rows × 271 columns</p>\n",
       "</div>\n",
       "      <button class=\"colab-df-convert\" onclick=\"convertToInteractive('df-133fb55d-4c91-4f07-bd46-7d6adc52f9ca')\"\n",
       "              title=\"Convert this dataframe to an interactive table.\"\n",
       "              style=\"display:none;\">\n",
       "        \n",
       "  <svg xmlns=\"http://www.w3.org/2000/svg\" height=\"24px\"viewBox=\"0 0 24 24\"\n",
       "       width=\"24px\">\n",
       "    <path d=\"M0 0h24v24H0V0z\" fill=\"none\"/>\n",
       "    <path d=\"M18.56 5.44l.94 2.06.94-2.06 2.06-.94-2.06-.94-.94-2.06-.94 2.06-2.06.94zm-11 1L8.5 8.5l.94-2.06 2.06-.94-2.06-.94L8.5 2.5l-.94 2.06-2.06.94zm10 10l.94 2.06.94-2.06 2.06-.94-2.06-.94-.94-2.06-.94 2.06-2.06.94z\"/><path d=\"M17.41 7.96l-1.37-1.37c-.4-.4-.92-.59-1.43-.59-.52 0-1.04.2-1.43.59L10.3 9.45l-7.72 7.72c-.78.78-.78 2.05 0 2.83L4 21.41c.39.39.9.59 1.41.59.51 0 1.02-.2 1.41-.59l7.78-7.78 2.81-2.81c.8-.78.8-2.07 0-2.86zM5.41 20L4 18.59l7.72-7.72 1.47 1.35L5.41 20z\"/>\n",
       "  </svg>\n",
       "      </button>\n",
       "      \n",
       "  <style>\n",
       "    .colab-df-container {\n",
       "      display:flex;\n",
       "      flex-wrap:wrap;\n",
       "      gap: 12px;\n",
       "    }\n",
       "\n",
       "    .colab-df-convert {\n",
       "      background-color: #E8F0FE;\n",
       "      border: none;\n",
       "      border-radius: 50%;\n",
       "      cursor: pointer;\n",
       "      display: none;\n",
       "      fill: #1967D2;\n",
       "      height: 32px;\n",
       "      padding: 0 0 0 0;\n",
       "      width: 32px;\n",
       "    }\n",
       "\n",
       "    .colab-df-convert:hover {\n",
       "      background-color: #E2EBFA;\n",
       "      box-shadow: 0px 1px 2px rgba(60, 64, 67, 0.3), 0px 1px 3px 1px rgba(60, 64, 67, 0.15);\n",
       "      fill: #174EA6;\n",
       "    }\n",
       "\n",
       "    [theme=dark] .colab-df-convert {\n",
       "      background-color: #3B4455;\n",
       "      fill: #D2E3FC;\n",
       "    }\n",
       "\n",
       "    [theme=dark] .colab-df-convert:hover {\n",
       "      background-color: #434B5C;\n",
       "      box-shadow: 0px 1px 3px 1px rgba(0, 0, 0, 0.15);\n",
       "      filter: drop-shadow(0px 1px 2px rgba(0, 0, 0, 0.3));\n",
       "      fill: #FFFFFF;\n",
       "    }\n",
       "  </style>\n",
       "\n",
       "      <script>\n",
       "        const buttonEl =\n",
       "          document.querySelector('#df-133fb55d-4c91-4f07-bd46-7d6adc52f9ca button.colab-df-convert');\n",
       "        buttonEl.style.display =\n",
       "          google.colab.kernel.accessAllowed ? 'block' : 'none';\n",
       "\n",
       "        async function convertToInteractive(key) {\n",
       "          const element = document.querySelector('#df-133fb55d-4c91-4f07-bd46-7d6adc52f9ca');\n",
       "          const dataTable =\n",
       "            await google.colab.kernel.invokeFunction('convertToInteractive',\n",
       "                                                     [key], {});\n",
       "          if (!dataTable) return;\n",
       "\n",
       "          const docLinkHtml = 'Like what you see? Visit the ' +\n",
       "            '<a target=\"_blank\" href=https://colab.research.google.com/notebooks/data_table.ipynb>data table notebook</a>'\n",
       "            + ' to learn more about interactive tables.';\n",
       "          element.innerHTML = '';\n",
       "          dataTable['output_type'] = 'display_data';\n",
       "          await google.colab.output.renderOutput(dataTable, element);\n",
       "          const docLink = document.createElement('div');\n",
       "          docLink.innerHTML = docLinkHtml;\n",
       "          element.appendChild(docLink);\n",
       "        }\n",
       "      </script>\n",
       "    </div>\n",
       "  </div>\n",
       "  "
      ],
      "text/plain": [
       "        country_code_0  country_code_1  country_code_2  country_code_3  \\\n",
       "0                  0.0             1.0             0.0             0.0   \n",
       "1                  0.0             0.0             0.0             0.0   \n",
       "2                  0.0             0.0             0.0             0.0   \n",
       "3                  0.0             0.0             0.0             0.0   \n",
       "4                  0.0             0.0             0.0             0.0   \n",
       "...                ...             ...             ...             ...   \n",
       "108441             0.0             0.0             0.0             0.0   \n",
       "108442             0.0             0.0             0.0             0.0   \n",
       "108443             0.0             0.0             0.0             0.0   \n",
       "108444             0.0             0.0             0.0             0.0   \n",
       "108445             0.0             0.0             0.0             0.0   \n",
       "\n",
       "        country_code_4  country_code_5  country_code_6  country_code_7  \\\n",
       "0                  0.0             0.0             0.0             0.0   \n",
       "1                  0.0             0.0             0.0             0.0   \n",
       "2                  0.0             0.0             0.0             0.0   \n",
       "3                  0.0             0.0             0.0             0.0   \n",
       "4                  0.0             0.0             0.0             0.0   \n",
       "...                ...             ...             ...             ...   \n",
       "108441             0.0             0.0             0.0             0.0   \n",
       "108442             0.0             0.0             0.0             0.0   \n",
       "108443             0.0             0.0             0.0             0.0   \n",
       "108444             0.0             0.0             0.0             0.0   \n",
       "108445             0.0             0.0             0.0             0.0   \n",
       "\n",
       "        country_code_8  country_code_9  ...  FQ33_1.0  FQ33_2.0  FQ33_3.0  \\\n",
       "0                  0.0             0.0  ...       1.0       0.0       0.0   \n",
       "1                  0.0             0.0  ...       1.0       0.0       0.0   \n",
       "2                  0.0             0.0  ...       0.0       1.0       0.0   \n",
       "3                  0.0             0.0  ...       1.0       0.0       0.0   \n",
       "4                  0.0             0.0  ...       1.0       0.0       0.0   \n",
       "...                ...             ...  ...       ...       ...       ...   \n",
       "108441             0.0             0.0  ...       1.0       0.0       0.0   \n",
       "108442             0.0             0.0  ...       1.0       0.0       0.0   \n",
       "108443             0.0             0.0  ...       1.0       0.0       0.0   \n",
       "108444             0.0             0.0  ...       1.0       0.0       0.0   \n",
       "108445             0.0             0.0  ...       1.0       0.0       0.0   \n",
       "\n",
       "        FQ33_4.0  FQ34_1.0  FQ34_2.0  FQ34_3.0  FQ34_4.0  FQ37_0  FQ37_1  \n",
       "0            0.0       1.0       0.0       0.0       0.0     1.0     0.0  \n",
       "1            0.0       0.0       1.0       0.0       0.0     1.0     0.0  \n",
       "2            0.0       1.0       0.0       0.0       0.0     0.0     1.0  \n",
       "3            0.0       1.0       0.0       0.0       0.0     0.0     1.0  \n",
       "4            0.0       1.0       0.0       0.0       0.0     0.0     1.0  \n",
       "...          ...       ...       ...       ...       ...     ...     ...  \n",
       "108441       0.0       1.0       0.0       0.0       0.0     0.0     1.0  \n",
       "108442       0.0       1.0       0.0       0.0       0.0     0.0     1.0  \n",
       "108443       0.0       0.0       1.0       0.0       0.0     0.0     1.0  \n",
       "108444       0.0       1.0       0.0       0.0       0.0     0.0     1.0  \n",
       "108445       0.0       1.0       0.0       0.0       0.0     0.0     1.0  \n",
       "\n",
       "[108446 rows x 271 columns]"
      ]
     },
     "execution_count": 213,
     "metadata": {},
     "output_type": "execute_result"
    }
   ],
   "source": [
    "daaa"
   ]
  },
  {
   "cell_type": "code",
   "execution_count": null,
   "metadata": {
    "id": "3cgdyLWXAa90",
    "pycharm": {
     "name": "#%%\n"
    }
   },
   "outputs": [],
   "source": [
    "newDataFrame= pd.concat([daaa,data['age']],axis=1)"
   ]
  },
  {
   "cell_type": "code",
   "execution_count": null,
   "metadata": {
    "colab": {
     "base_uri": "https://localhost:8080/",
     "height": 488
    },
    "id": "O_IBM6O7Aoxz",
    "outputId": "7d085a68-5906-43f2-d904-428fa6923c4f",
    "pycharm": {
     "name": "#%%\n"
    }
   },
   "outputs": [
    {
     "data": {
      "text/html": [
       "\n",
       "  <div id=\"df-3a81e484-f4b5-4b91-8ff1-ebc01060b296\">\n",
       "    <div class=\"colab-df-container\">\n",
       "      <div>\n",
       "<style scoped>\n",
       "    .dataframe tbody tr th:only-of-type {\n",
       "        vertical-align: middle;\n",
       "    }\n",
       "\n",
       "    .dataframe tbody tr th {\n",
       "        vertical-align: top;\n",
       "    }\n",
       "\n",
       "    .dataframe thead th {\n",
       "        text-align: right;\n",
       "    }\n",
       "</style>\n",
       "<table border=\"1\" class=\"dataframe\">\n",
       "  <thead>\n",
       "    <tr style=\"text-align: right;\">\n",
       "      <th></th>\n",
       "      <th>country_code_0</th>\n",
       "      <th>country_code_1</th>\n",
       "      <th>country_code_2</th>\n",
       "      <th>country_code_3</th>\n",
       "      <th>country_code_4</th>\n",
       "      <th>country_code_5</th>\n",
       "      <th>country_code_6</th>\n",
       "      <th>country_code_7</th>\n",
       "      <th>country_code_8</th>\n",
       "      <th>country_code_9</th>\n",
       "      <th>...</th>\n",
       "      <th>FQ33_2.0</th>\n",
       "      <th>FQ33_3.0</th>\n",
       "      <th>FQ33_4.0</th>\n",
       "      <th>FQ34_1.0</th>\n",
       "      <th>FQ34_2.0</th>\n",
       "      <th>FQ34_3.0</th>\n",
       "      <th>FQ34_4.0</th>\n",
       "      <th>FQ37_0</th>\n",
       "      <th>FQ37_1</th>\n",
       "      <th>age</th>\n",
       "    </tr>\n",
       "  </thead>\n",
       "  <tbody>\n",
       "    <tr>\n",
       "      <th>0</th>\n",
       "      <td>0.0</td>\n",
       "      <td>1.0</td>\n",
       "      <td>0.0</td>\n",
       "      <td>0.0</td>\n",
       "      <td>0.0</td>\n",
       "      <td>0.0</td>\n",
       "      <td>0.0</td>\n",
       "      <td>0.0</td>\n",
       "      <td>0.0</td>\n",
       "      <td>0.0</td>\n",
       "      <td>...</td>\n",
       "      <td>0.0</td>\n",
       "      <td>0.0</td>\n",
       "      <td>0.0</td>\n",
       "      <td>1.0</td>\n",
       "      <td>0.0</td>\n",
       "      <td>0.0</td>\n",
       "      <td>0.0</td>\n",
       "      <td>1.0</td>\n",
       "      <td>0.0</td>\n",
       "      <td>0.238095</td>\n",
       "    </tr>\n",
       "    <tr>\n",
       "      <th>1</th>\n",
       "      <td>0.0</td>\n",
       "      <td>0.0</td>\n",
       "      <td>0.0</td>\n",
       "      <td>0.0</td>\n",
       "      <td>0.0</td>\n",
       "      <td>0.0</td>\n",
       "      <td>0.0</td>\n",
       "      <td>0.0</td>\n",
       "      <td>0.0</td>\n",
       "      <td>0.0</td>\n",
       "      <td>...</td>\n",
       "      <td>0.0</td>\n",
       "      <td>0.0</td>\n",
       "      <td>0.0</td>\n",
       "      <td>0.0</td>\n",
       "      <td>1.0</td>\n",
       "      <td>0.0</td>\n",
       "      <td>0.0</td>\n",
       "      <td>1.0</td>\n",
       "      <td>0.0</td>\n",
       "      <td>0.654762</td>\n",
       "    </tr>\n",
       "    <tr>\n",
       "      <th>2</th>\n",
       "      <td>0.0</td>\n",
       "      <td>0.0</td>\n",
       "      <td>0.0</td>\n",
       "      <td>0.0</td>\n",
       "      <td>0.0</td>\n",
       "      <td>0.0</td>\n",
       "      <td>0.0</td>\n",
       "      <td>0.0</td>\n",
       "      <td>0.0</td>\n",
       "      <td>0.0</td>\n",
       "      <td>...</td>\n",
       "      <td>1.0</td>\n",
       "      <td>0.0</td>\n",
       "      <td>0.0</td>\n",
       "      <td>1.0</td>\n",
       "      <td>0.0</td>\n",
       "      <td>0.0</td>\n",
       "      <td>0.0</td>\n",
       "      <td>0.0</td>\n",
       "      <td>1.0</td>\n",
       "      <td>0.083333</td>\n",
       "    </tr>\n",
       "    <tr>\n",
       "      <th>3</th>\n",
       "      <td>0.0</td>\n",
       "      <td>0.0</td>\n",
       "      <td>0.0</td>\n",
       "      <td>0.0</td>\n",
       "      <td>0.0</td>\n",
       "      <td>0.0</td>\n",
       "      <td>0.0</td>\n",
       "      <td>0.0</td>\n",
       "      <td>0.0</td>\n",
       "      <td>0.0</td>\n",
       "      <td>...</td>\n",
       "      <td>0.0</td>\n",
       "      <td>0.0</td>\n",
       "      <td>0.0</td>\n",
       "      <td>1.0</td>\n",
       "      <td>0.0</td>\n",
       "      <td>0.0</td>\n",
       "      <td>0.0</td>\n",
       "      <td>0.0</td>\n",
       "      <td>1.0</td>\n",
       "      <td>0.142857</td>\n",
       "    </tr>\n",
       "    <tr>\n",
       "      <th>4</th>\n",
       "      <td>0.0</td>\n",
       "      <td>0.0</td>\n",
       "      <td>0.0</td>\n",
       "      <td>0.0</td>\n",
       "      <td>0.0</td>\n",
       "      <td>0.0</td>\n",
       "      <td>0.0</td>\n",
       "      <td>0.0</td>\n",
       "      <td>0.0</td>\n",
       "      <td>0.0</td>\n",
       "      <td>...</td>\n",
       "      <td>0.0</td>\n",
       "      <td>0.0</td>\n",
       "      <td>0.0</td>\n",
       "      <td>1.0</td>\n",
       "      <td>0.0</td>\n",
       "      <td>0.0</td>\n",
       "      <td>0.0</td>\n",
       "      <td>0.0</td>\n",
       "      <td>1.0</td>\n",
       "      <td>0.761905</td>\n",
       "    </tr>\n",
       "    <tr>\n",
       "      <th>...</th>\n",
       "      <td>...</td>\n",
       "      <td>...</td>\n",
       "      <td>...</td>\n",
       "      <td>...</td>\n",
       "      <td>...</td>\n",
       "      <td>...</td>\n",
       "      <td>...</td>\n",
       "      <td>...</td>\n",
       "      <td>...</td>\n",
       "      <td>...</td>\n",
       "      <td>...</td>\n",
       "      <td>...</td>\n",
       "      <td>...</td>\n",
       "      <td>...</td>\n",
       "      <td>...</td>\n",
       "      <td>...</td>\n",
       "      <td>...</td>\n",
       "      <td>...</td>\n",
       "      <td>...</td>\n",
       "      <td>...</td>\n",
       "      <td>...</td>\n",
       "    </tr>\n",
       "    <tr>\n",
       "      <th>108441</th>\n",
       "      <td>0.0</td>\n",
       "      <td>0.0</td>\n",
       "      <td>0.0</td>\n",
       "      <td>0.0</td>\n",
       "      <td>0.0</td>\n",
       "      <td>0.0</td>\n",
       "      <td>0.0</td>\n",
       "      <td>0.0</td>\n",
       "      <td>0.0</td>\n",
       "      <td>0.0</td>\n",
       "      <td>...</td>\n",
       "      <td>0.0</td>\n",
       "      <td>0.0</td>\n",
       "      <td>0.0</td>\n",
       "      <td>1.0</td>\n",
       "      <td>0.0</td>\n",
       "      <td>0.0</td>\n",
       "      <td>0.0</td>\n",
       "      <td>0.0</td>\n",
       "      <td>1.0</td>\n",
       "      <td>0.095238</td>\n",
       "    </tr>\n",
       "    <tr>\n",
       "      <th>108442</th>\n",
       "      <td>0.0</td>\n",
       "      <td>0.0</td>\n",
       "      <td>0.0</td>\n",
       "      <td>0.0</td>\n",
       "      <td>0.0</td>\n",
       "      <td>0.0</td>\n",
       "      <td>0.0</td>\n",
       "      <td>0.0</td>\n",
       "      <td>0.0</td>\n",
       "      <td>0.0</td>\n",
       "      <td>...</td>\n",
       "      <td>0.0</td>\n",
       "      <td>0.0</td>\n",
       "      <td>0.0</td>\n",
       "      <td>1.0</td>\n",
       "      <td>0.0</td>\n",
       "      <td>0.0</td>\n",
       "      <td>0.0</td>\n",
       "      <td>0.0</td>\n",
       "      <td>1.0</td>\n",
       "      <td>0.535714</td>\n",
       "    </tr>\n",
       "    <tr>\n",
       "      <th>108443</th>\n",
       "      <td>0.0</td>\n",
       "      <td>0.0</td>\n",
       "      <td>0.0</td>\n",
       "      <td>0.0</td>\n",
       "      <td>0.0</td>\n",
       "      <td>0.0</td>\n",
       "      <td>0.0</td>\n",
       "      <td>0.0</td>\n",
       "      <td>0.0</td>\n",
       "      <td>0.0</td>\n",
       "      <td>...</td>\n",
       "      <td>0.0</td>\n",
       "      <td>0.0</td>\n",
       "      <td>0.0</td>\n",
       "      <td>0.0</td>\n",
       "      <td>1.0</td>\n",
       "      <td>0.0</td>\n",
       "      <td>0.0</td>\n",
       "      <td>0.0</td>\n",
       "      <td>1.0</td>\n",
       "      <td>0.523810</td>\n",
       "    </tr>\n",
       "    <tr>\n",
       "      <th>108444</th>\n",
       "      <td>0.0</td>\n",
       "      <td>0.0</td>\n",
       "      <td>0.0</td>\n",
       "      <td>0.0</td>\n",
       "      <td>0.0</td>\n",
       "      <td>0.0</td>\n",
       "      <td>0.0</td>\n",
       "      <td>0.0</td>\n",
       "      <td>0.0</td>\n",
       "      <td>0.0</td>\n",
       "      <td>...</td>\n",
       "      <td>0.0</td>\n",
       "      <td>0.0</td>\n",
       "      <td>0.0</td>\n",
       "      <td>1.0</td>\n",
       "      <td>0.0</td>\n",
       "      <td>0.0</td>\n",
       "      <td>0.0</td>\n",
       "      <td>0.0</td>\n",
       "      <td>1.0</td>\n",
       "      <td>0.761905</td>\n",
       "    </tr>\n",
       "    <tr>\n",
       "      <th>108445</th>\n",
       "      <td>0.0</td>\n",
       "      <td>0.0</td>\n",
       "      <td>0.0</td>\n",
       "      <td>0.0</td>\n",
       "      <td>0.0</td>\n",
       "      <td>0.0</td>\n",
       "      <td>0.0</td>\n",
       "      <td>0.0</td>\n",
       "      <td>0.0</td>\n",
       "      <td>0.0</td>\n",
       "      <td>...</td>\n",
       "      <td>0.0</td>\n",
       "      <td>0.0</td>\n",
       "      <td>0.0</td>\n",
       "      <td>1.0</td>\n",
       "      <td>0.0</td>\n",
       "      <td>0.0</td>\n",
       "      <td>0.0</td>\n",
       "      <td>0.0</td>\n",
       "      <td>1.0</td>\n",
       "      <td>0.702381</td>\n",
       "    </tr>\n",
       "  </tbody>\n",
       "</table>\n",
       "<p>108446 rows × 272 columns</p>\n",
       "</div>\n",
       "      <button class=\"colab-df-convert\" onclick=\"convertToInteractive('df-3a81e484-f4b5-4b91-8ff1-ebc01060b296')\"\n",
       "              title=\"Convert this dataframe to an interactive table.\"\n",
       "              style=\"display:none;\">\n",
       "        \n",
       "  <svg xmlns=\"http://www.w3.org/2000/svg\" height=\"24px\"viewBox=\"0 0 24 24\"\n",
       "       width=\"24px\">\n",
       "    <path d=\"M0 0h24v24H0V0z\" fill=\"none\"/>\n",
       "    <path d=\"M18.56 5.44l.94 2.06.94-2.06 2.06-.94-2.06-.94-.94-2.06-.94 2.06-2.06.94zm-11 1L8.5 8.5l.94-2.06 2.06-.94-2.06-.94L8.5 2.5l-.94 2.06-2.06.94zm10 10l.94 2.06.94-2.06 2.06-.94-2.06-.94-.94-2.06-.94 2.06-2.06.94z\"/><path d=\"M17.41 7.96l-1.37-1.37c-.4-.4-.92-.59-1.43-.59-.52 0-1.04.2-1.43.59L10.3 9.45l-7.72 7.72c-.78.78-.78 2.05 0 2.83L4 21.41c.39.39.9.59 1.41.59.51 0 1.02-.2 1.41-.59l7.78-7.78 2.81-2.81c.8-.78.8-2.07 0-2.86zM5.41 20L4 18.59l7.72-7.72 1.47 1.35L5.41 20z\"/>\n",
       "  </svg>\n",
       "      </button>\n",
       "      \n",
       "  <style>\n",
       "    .colab-df-container {\n",
       "      display:flex;\n",
       "      flex-wrap:wrap;\n",
       "      gap: 12px;\n",
       "    }\n",
       "\n",
       "    .colab-df-convert {\n",
       "      background-color: #E8F0FE;\n",
       "      border: none;\n",
       "      border-radius: 50%;\n",
       "      cursor: pointer;\n",
       "      display: none;\n",
       "      fill: #1967D2;\n",
       "      height: 32px;\n",
       "      padding: 0 0 0 0;\n",
       "      width: 32px;\n",
       "    }\n",
       "\n",
       "    .colab-df-convert:hover {\n",
       "      background-color: #E2EBFA;\n",
       "      box-shadow: 0px 1px 2px rgba(60, 64, 67, 0.3), 0px 1px 3px 1px rgba(60, 64, 67, 0.15);\n",
       "      fill: #174EA6;\n",
       "    }\n",
       "\n",
       "    [theme=dark] .colab-df-convert {\n",
       "      background-color: #3B4455;\n",
       "      fill: #D2E3FC;\n",
       "    }\n",
       "\n",
       "    [theme=dark] .colab-df-convert:hover {\n",
       "      background-color: #434B5C;\n",
       "      box-shadow: 0px 1px 3px 1px rgba(0, 0, 0, 0.15);\n",
       "      filter: drop-shadow(0px 1px 2px rgba(0, 0, 0, 0.3));\n",
       "      fill: #FFFFFF;\n",
       "    }\n",
       "  </style>\n",
       "\n",
       "      <script>\n",
       "        const buttonEl =\n",
       "          document.querySelector('#df-3a81e484-f4b5-4b91-8ff1-ebc01060b296 button.colab-df-convert');\n",
       "        buttonEl.style.display =\n",
       "          google.colab.kernel.accessAllowed ? 'block' : 'none';\n",
       "\n",
       "        async function convertToInteractive(key) {\n",
       "          const element = document.querySelector('#df-3a81e484-f4b5-4b91-8ff1-ebc01060b296');\n",
       "          const dataTable =\n",
       "            await google.colab.kernel.invokeFunction('convertToInteractive',\n",
       "                                                     [key], {});\n",
       "          if (!dataTable) return;\n",
       "\n",
       "          const docLinkHtml = 'Like what you see? Visit the ' +\n",
       "            '<a target=\"_blank\" href=https://colab.research.google.com/notebooks/data_table.ipynb>data table notebook</a>'\n",
       "            + ' to learn more about interactive tables.';\n",
       "          element.innerHTML = '';\n",
       "          dataTable['output_type'] = 'display_data';\n",
       "          await google.colab.output.renderOutput(dataTable, element);\n",
       "          const docLink = document.createElement('div');\n",
       "          docLink.innerHTML = docLinkHtml;\n",
       "          element.appendChild(docLink);\n",
       "        }\n",
       "      </script>\n",
       "    </div>\n",
       "  </div>\n",
       "  "
      ],
      "text/plain": [
       "        country_code_0  country_code_1  country_code_2  country_code_3  \\\n",
       "0                  0.0             1.0             0.0             0.0   \n",
       "1                  0.0             0.0             0.0             0.0   \n",
       "2                  0.0             0.0             0.0             0.0   \n",
       "3                  0.0             0.0             0.0             0.0   \n",
       "4                  0.0             0.0             0.0             0.0   \n",
       "...                ...             ...             ...             ...   \n",
       "108441             0.0             0.0             0.0             0.0   \n",
       "108442             0.0             0.0             0.0             0.0   \n",
       "108443             0.0             0.0             0.0             0.0   \n",
       "108444             0.0             0.0             0.0             0.0   \n",
       "108445             0.0             0.0             0.0             0.0   \n",
       "\n",
       "        country_code_4  country_code_5  country_code_6  country_code_7  \\\n",
       "0                  0.0             0.0             0.0             0.0   \n",
       "1                  0.0             0.0             0.0             0.0   \n",
       "2                  0.0             0.0             0.0             0.0   \n",
       "3                  0.0             0.0             0.0             0.0   \n",
       "4                  0.0             0.0             0.0             0.0   \n",
       "...                ...             ...             ...             ...   \n",
       "108441             0.0             0.0             0.0             0.0   \n",
       "108442             0.0             0.0             0.0             0.0   \n",
       "108443             0.0             0.0             0.0             0.0   \n",
       "108444             0.0             0.0             0.0             0.0   \n",
       "108445             0.0             0.0             0.0             0.0   \n",
       "\n",
       "        country_code_8  country_code_9  ...  FQ33_2.0  FQ33_3.0  FQ33_4.0  \\\n",
       "0                  0.0             0.0  ...       0.0       0.0       0.0   \n",
       "1                  0.0             0.0  ...       0.0       0.0       0.0   \n",
       "2                  0.0             0.0  ...       1.0       0.0       0.0   \n",
       "3                  0.0             0.0  ...       0.0       0.0       0.0   \n",
       "4                  0.0             0.0  ...       0.0       0.0       0.0   \n",
       "...                ...             ...  ...       ...       ...       ...   \n",
       "108441             0.0             0.0  ...       0.0       0.0       0.0   \n",
       "108442             0.0             0.0  ...       0.0       0.0       0.0   \n",
       "108443             0.0             0.0  ...       0.0       0.0       0.0   \n",
       "108444             0.0             0.0  ...       0.0       0.0       0.0   \n",
       "108445             0.0             0.0  ...       0.0       0.0       0.0   \n",
       "\n",
       "        FQ34_1.0  FQ34_2.0  FQ34_3.0  FQ34_4.0  FQ37_0  FQ37_1       age  \n",
       "0            1.0       0.0       0.0       0.0     1.0     0.0  0.238095  \n",
       "1            0.0       1.0       0.0       0.0     1.0     0.0  0.654762  \n",
       "2            1.0       0.0       0.0       0.0     0.0     1.0  0.083333  \n",
       "3            1.0       0.0       0.0       0.0     0.0     1.0  0.142857  \n",
       "4            1.0       0.0       0.0       0.0     0.0     1.0  0.761905  \n",
       "...          ...       ...       ...       ...     ...     ...       ...  \n",
       "108441       1.0       0.0       0.0       0.0     0.0     1.0  0.095238  \n",
       "108442       1.0       0.0       0.0       0.0     0.0     1.0  0.535714  \n",
       "108443       0.0       1.0       0.0       0.0     0.0     1.0  0.523810  \n",
       "108444       1.0       0.0       0.0       0.0     0.0     1.0  0.761905  \n",
       "108445       1.0       0.0       0.0       0.0     0.0     1.0  0.702381  \n",
       "\n",
       "[108446 rows x 272 columns]"
      ]
     },
     "execution_count": 216,
     "metadata": {},
     "output_type": "execute_result"
    }
   ],
   "source": [
    "newDataFrame"
   ]
  },
  {
   "cell_type": "markdown",
   "metadata": {
    "id": "T9hiid0JVft-",
    "pycharm": {
     "name": "#%% md\n"
    }
   },
   "source": [
    "**Encoding categorical features**"
   ]
  },
  {
   "cell_type": "code",
   "execution_count": 234,
   "metadata": {
    "colab": {
     "base_uri": "https://localhost:8080/"
    },
    "id": "oma24oJWEylL",
    "outputId": "34e2ecf8-69f5-4361-eb47-df8a10beae21",
    "pycharm": {
     "name": "#%%\n"
    }
   },
   "outputs": [
    {
     "data": {
      "text/plain": [
       "(108446, 273)"
      ]
     },
     "execution_count": 234,
     "metadata": {},
     "output_type": "execute_result"
    }
   ],
   "source": [
    "# convert categorical features to numerical features\n",
    "\n",
    "categorical_features = ['country_code','region','FQ1','FQ2','FQ3','FQ4','FQ6','FQ7','FQ8','FQ9','FQ10','FQ11','FQ12','FQ13','FQ14','FQ15','FQ16','FQ18','FQ19','FQ20','FQ21','FQ22','FQ23','FQ24','FQ25','FQ26','FQ29','FQ32','FQ33','FQ34','FQ37']\n",
    "\n",
    "# One Hot Encoding conversion\n",
    "data = pd.get_dummies(data, prefix_sep='_', columns = categorical_features)\n",
    "\n",
    "\n",
    "#show the shape of the data\n",
    "data.shape"
   ]
  },
  {
   "cell_type": "code",
   "execution_count": 235,
   "metadata": {
    "id": "KgR3xv9dEyqK",
    "pycharm": {
     "name": "#%%\n"
    }
   },
   "outputs": [],
   "source": [
    "features = data.copy()\n",
    "target=data['Target']"
   ]
  },
  {
   "cell_type": "code",
   "execution_count": 236,
   "metadata": {
    "colab": {
     "base_uri": "https://localhost:8080/"
    },
    "id": "IuDFRyuNWcWu",
    "outputId": "5c6b38cc-f5e1-4eff-ef71-902baa0d9ec5",
    "pycharm": {
     "name": "#%%\n"
    }
   },
   "outputs": [
    {
     "data": {
      "text/plain": [
       "Index(['age', 'Target', 'country_code_0', 'country_code_1', 'country_code_2',\n",
       "       'country_code_3', 'country_code_4', 'country_code_5', 'country_code_6',\n",
       "       'country_code_7',\n",
       "       ...\n",
       "       'FQ33_1.0', 'FQ33_2.0', 'FQ33_3.0', 'FQ33_4.0', 'FQ34_1.0', 'FQ34_2.0',\n",
       "       'FQ34_3.0', 'FQ34_4.0', 'FQ37_0', 'FQ37_1'],\n",
       "      dtype='object', length=273)"
      ]
     },
     "execution_count": 236,
     "metadata": {},
     "output_type": "execute_result"
    }
   ],
   "source": [
    "features.columns"
   ]
  },
  {
   "cell_type": "code",
   "execution_count": null,
   "metadata": {
    "id": "R34EIlQyXqE4",
    "pycharm": {
     "name": "#%%\n"
    }
   },
   "outputs": [],
   "source": [
    "from sklearn.feature_selection import SelectKBest\n",
    "from sklearn.feature_selection import chi2"
   ]
  },
  {
   "cell_type": "markdown",
   "metadata": {
    "id": "MxpZRgoAV0mZ",
    "pycharm": {
     "name": "#%% md\n"
    }
   },
   "source": [
    "**Finding the SelectKBest score for each feature**"
   ]
  },
  {
   "cell_type": "code",
   "execution_count": null,
   "metadata": {
    "colab": {
     "base_uri": "https://localhost:8080/"
    },
    "id": "-QkQ65neX7Px",
    "outputId": "a1ca813d-bc1f-471f-b999-01db98f781b4",
    "pycharm": {
     "name": "#%%\n"
    }
   },
   "outputs": [
    {
     "name": "stdout",
     "output_type": "stream",
     "text": [
      "             Features     score\n",
      "257          FQ29_4.0  8.329539\n",
      "33    country_code_32  6.769288\n",
      "6      country_code_5  6.578720\n",
      "123  country_code_122  4.678723\n",
      "244          FQ24_3.0  4.621377\n",
      "112  country_code_111  4.507903\n",
      "15    country_code_14  3.915369\n",
      "37    country_code_36  3.891652\n",
      "83    country_code_82  3.861448\n",
      "204            FQ14_3  3.648619\n",
      "225          FQ19_8.0  3.510142\n",
      "157             FQ1_4  3.411317\n",
      "31    country_code_30  3.178805\n",
      "34    country_code_33  3.155242\n",
      "115  country_code_114  3.020966\n",
      "20    country_code_19  2.981240\n",
      "107  country_code_106  2.947936\n",
      "121  country_code_120  2.928528\n",
      "79    country_code_78  2.906254\n",
      "111  country_code_110  2.892227\n"
     ]
    }
   ],
   "source": [
    "bestfeatures = SelectKBest(score_func=chi2, k=20)\n",
    "\n",
    "fit = bestfeatures.fit(features,target)\n",
    "\n",
    "scores = pd.DataFrame(fit.scores_)\n",
    "columns = pd.DataFrame(features.columns)\n",
    "\n",
    "featureScores = pd.concat([columns,scores],axis=1)\n",
    "\n",
    "featureScores.columns = ['Features','score'] \n",
    "\n",
    "#print 20 best features \n",
    "print(featureScores.nlargest(20,'score'))  "
   ]
  },
  {
   "cell_type": "markdown",
   "metadata": {
    "id": "e9PcdMKAV_9i",
    "pycharm": {
     "name": "#%% md\n"
    }
   },
   "source": [
    "**Finding Feature importance for each feature using ExtraTreesClassifier**"
   ]
  },
  {
   "cell_type": "code",
   "execution_count": 237,
   "metadata": {
    "colab": {
     "base_uri": "https://localhost:8080/",
     "height": 1000
    },
    "id": "wQF5bjdpt-Cf",
    "outputId": "9f59d0d6-0524-47ce-dfad-fbf579c5c999",
    "pycharm": {
     "name": "#%%\n"
    }
   },
   "outputs": [
    {
     "name": "stdout",
     "output_type": "stream",
     "text": [
      "[1.84574586e-03 9.48057142e-01 6.18092597e-05 1.22198852e-04\n",
      " 5.83281318e-05 5.77604524e-05 6.54628178e-05 6.83075603e-05\n",
      " 5.63364434e-05 4.49756828e-05 6.00409844e-05 5.40269617e-05\n",
      " 5.13537800e-05 7.42787992e-05 6.12709061e-05 5.23392196e-05\n",
      " 5.26871889e-05 6.34785507e-05 5.73417827e-05 5.39240670e-05\n",
      " 6.48584399e-05 4.20819972e-05 5.14602124e-05 6.50212605e-05\n",
      " 5.51163891e-05 5.47482314e-05 6.35596081e-05 5.02747208e-05\n",
      " 5.81941211e-05 4.64154069e-05 5.04750250e-05 6.46707355e-05\n",
      " 5.00962860e-05 5.26247756e-05 5.87794079e-05 9.70244605e-05\n",
      " 5.11731241e-05 5.17562113e-05 5.08053310e-05 6.16684215e-05\n",
      " 5.60854111e-05 7.17834562e-05 5.36784346e-05 4.78728918e-05\n",
      " 7.53164569e-05 5.77895311e-05 5.48695792e-05 1.45020646e-04\n",
      " 5.23708308e-05 6.40145083e-05 5.27143997e-05 6.11937146e-05\n",
      " 5.51662664e-05 7.46796642e-05 6.74664968e-05 7.40517640e-05\n",
      " 5.62725144e-05 6.89723922e-05 6.33537988e-05 4.75494063e-05\n",
      " 5.08545607e-05 5.72038541e-05 6.04637671e-05 5.03100921e-05\n",
      " 5.36317507e-05 6.09302816e-05 6.21363644e-05 5.85802822e-05\n",
      " 5.81836237e-05 5.91165100e-05 5.19267159e-05 5.50037063e-05\n",
      " 5.38586672e-05 5.20385555e-05 6.08573837e-05 5.81942461e-05\n",
      " 6.96838125e-05 6.77005097e-05 5.85977341e-05 4.96630376e-05\n",
      " 5.95153160e-05 5.28361726e-05 5.01633996e-05 5.48346717e-05\n",
      " 5.04398160e-05 6.34949838e-05 5.14001306e-05 7.24160602e-05\n",
      " 4.96609306e-05 4.98642893e-05 5.43447107e-05 6.12951203e-05\n",
      " 5.55224898e-05 5.35543121e-05 4.66947967e-05 6.02878585e-05\n",
      " 6.00342584e-05 5.01816790e-05 6.30175837e-05 5.52069253e-05\n",
      " 4.65713660e-05 5.41896409e-05 4.33255777e-05 5.56774339e-05\n",
      " 5.86722658e-05 4.14935456e-05 5.77528020e-05 5.08733700e-05\n",
      " 5.02847865e-05 5.74928724e-05 4.93589747e-05 5.40434263e-05\n",
      " 5.98448146e-05 5.61527954e-05 5.39194411e-05 5.44289549e-05\n",
      " 5.44688835e-05 6.14267145e-05 3.96347985e-05 6.31424856e-05\n",
      " 4.50443744e-05 6.27735541e-05 4.73674029e-05 5.18552980e-05\n",
      " 4.68009491e-05 6.73601376e-05 6.48672397e-05 5.33367274e-05\n",
      " 7.00069891e-05 5.32545829e-05 4.80654120e-05 6.17858031e-05\n",
      " 5.45908749e-05 6.34950149e-05 5.80206216e-05 4.75273898e-05\n",
      " 5.58457396e-05 6.92446162e-05 4.82550516e-05 5.80779096e-05\n",
      " 5.70958321e-05 6.32574722e-05 5.07495670e-05 5.90325122e-05\n",
      " 4.87784713e-05 5.64680592e-05 1.14443234e-04 5.16496871e-04\n",
      " 4.83961202e-04 5.70554672e-04 4.79645075e-04 7.20978305e-04\n",
      " 3.65709085e-04 5.21219061e-04 4.16832634e-04 8.09535636e-04\n",
      " 8.27329570e-04 1.06762296e-04 5.04493283e-05 1.80593319e-04\n",
      " 1.67649622e-04 4.04457251e-05 2.42538090e-05 4.87583060e-04\n",
      " 4.72638687e-04 2.06834791e-05 1.58312857e-05 6.55129760e-04\n",
      " 6.89655484e-04 1.40789958e-04 7.32676500e-05 5.28614340e-04\n",
      " 5.13467762e-04 4.71803164e-05 4.49789460e-05 4.09891463e-04\n",
      " 4.08287687e-04 4.22108197e-05 5.36921690e-05 4.03551776e-04\n",
      " 4.04208694e-04 9.74180152e-05 6.24801817e-05 6.67533441e-04\n",
      " 6.62507220e-04 1.02962304e-04 8.54184406e-05 6.67958255e-04\n",
      " 6.69457525e-04 8.59284421e-05 8.27346170e-05 4.58904623e-04\n",
      " 4.95928532e-04 1.05390309e-04 6.92671841e-05 3.95887539e-04\n",
      " 3.85194808e-04 6.03809500e-05 5.11958157e-05 4.75230995e-04\n",
      " 4.83259060e-04 7.41864159e-05 4.83888656e-05 3.71571904e-04\n",
      " 3.84578362e-04 7.64798574e-05 5.16564153e-05 5.19832877e-04\n",
      " 5.45607197e-04 8.75255535e-05 4.61812751e-05 6.59451065e-04\n",
      " 6.66331971e-04 7.89204149e-05 6.50588657e-05 8.69076494e-04\n",
      " 8.44759513e-04 2.58164788e-04 8.02755616e-05 8.34293923e-04\n",
      " 6.58118108e-04 5.84231104e-04 2.62796385e-04 1.81779798e-04\n",
      " 1.34582482e-04 6.09034806e-05 3.82764697e-05 5.42967433e-04\n",
      " 5.42030850e-04 6.56893283e-05 4.27343100e-05 6.39723057e-04\n",
      " 6.45294523e-04 8.99294082e-05 5.55174167e-05 8.18337148e-04\n",
      " 8.01398959e-04 8.21751782e-05 4.33579430e-05 8.00483318e-04\n",
      " 8.21694263e-04 7.24959088e-05 5.89550358e-05 4.68541506e-04\n",
      " 4.43587889e-04 3.67238379e-05 1.94852213e-05 5.73073993e-04\n",
      " 5.85777097e-04 8.41550991e-05 5.70973076e-05 4.39107272e-04\n",
      " 4.89887588e-04 8.45884420e-05 4.98202039e-05 5.10488526e-04\n",
      " 5.03032351e-04 5.61293172e-05 6.41410664e-05 4.25656200e-04\n",
      " 4.63968651e-04 6.77251049e-05 4.41754112e-05 6.19910018e-04\n",
      " 5.88856415e-04 2.90375406e-05 5.75666473e-05 3.50823565e-04\n",
      " 3.41055760e-04 3.20589559e-05 1.85285338e-05 8.51623985e-04\n",
      " 8.14753057e-04]\n"
     ]
    },
    {
     "data": {
      "image/png": "[encoded data removed]",
      "text/plain": [
       "<Figure size 1800x1800 with 1 Axes>"
      ]
     },
     "metadata": {},
     "output_type": "display_data"
    }
   ],
   "source": [
    "#create model for training \n",
    "model = ExtraTreesClassifier()\n",
    "model.fit(features,target)\n",
    "\n",
    "#use inbuilt class feature_importances of tree based classifiers\n",
    "print(model.feature_importances_) \n",
    "\n",
    "#plot graph of feature importances for better visualization\n",
    "feature_importances = pd.Series(model.feature_importances_, index=features.columns)\n",
    "\n",
    "# show the first 30 important features \n",
    "\n",
    "fig= plt.figure(figsize=(25,25))\n",
    "sns.set(font_scale = 3)\n",
    "feature_importances.nlargest(30).plot(kind='barh')\n",
    "plt.show() \n",
    "feature_importances.to_csv('importance22.csv')"
   ]
  },
  {
   "cell_type": "code",
   "execution_count": 228,
   "metadata": {
    "colab": {
     "base_uri": "https://localhost:8080/"
    },
    "id": "kNHwFd-RGNuu",
    "outputId": "4d58a3d3-6866-4b1b-8351-96d3625b4bb7",
    "pycharm": {
     "name": "#%%\n"
    }
   },
   "outputs": [
    {
     "name": "stdout",
     "output_type": "stream",
     "text": [
      "Index(['country_code_0', 'country_code_1', 'country_code_2', 'country_code_3',\n",
      "       'country_code_4', 'country_code_5', 'country_code_6', 'country_code_7',\n",
      "       'country_code_8', 'country_code_9',\n",
      "       ...\n",
      "       'FQ1_3', 'FQ1_4', 'FQ2_1.0', 'FQ2_2.0', 'FQ2_3.0', 'FQ2_4.0', 'FQ3_1.0',\n",
      "       'FQ3_2.0', 'FQ3_3.0', 'FQ3_4.0'],\n",
      "      dtype='object', length=165)\n"
     ]
    }
   ],
   "source": [
    "print(feature_importances.iloc[:165].index)"
   ]
  },
  {
   "cell_type": "code",
   "execution_count": 233,
   "metadata": {
    "id": "fcB9Y51_I0bd",
    "pycharm": {
     "name": "#%%\n"
    }
   },
   "outputs": [],
   "source": [
    "feature_importances.to_csv('importance1.csv')"
   ]
  },
  {
   "cell_type": "code",
   "execution_count": 230,
   "metadata": {
    "colab": {
     "base_uri": "https://localhost:8080/"
    },
    "id": "4MdUwjIXFKsn",
    "outputId": "fd02ea3a-132d-4acd-ca4c-cede3970626c",
    "pycharm": {
     "name": "#%%\n"
    }
   },
   "outputs": [
    {
     "data": {
      "text/plain": [
       "['Onehot2.pkl']"
      ]
     },
     "execution_count": 230,
     "metadata": {},
     "output_type": "execute_result"
    }
   ],
   "source": [
    "jb.dump(model,'Onehot2.pkl')"
   ]
  },
  {
   "cell_type": "code",
   "execution_count": null,
   "metadata": {
    "id": "V7Oglf1kVEnr",
    "pycharm": {
     "name": "#%%\n"
    }
   },
   "outputs": [],
   "source": [
    "from sklearn.ensemble import RandomForestClassifier as RFC\n",
    "from sklearn.model_selection import train_test_split as tts"
   ]
  },
  {
   "cell_type": "code",
   "execution_count": null,
   "metadata": {
    "id": "DF3P0rWLA2Ql",
    "pycharm": {
     "name": "#%%\n"
    }
   },
   "outputs": [],
   "source": [
    "X_train,X_test,y_train,y_test=tts(features,target,train_size=0.7,stratify=target)"
   ]
  },
  {
   "cell_type": "code",
   "execution_count": null,
   "metadata": {
    "id": "gqqXJYuCASjV",
    "pycharm": {
     "name": "#%%\n"
    }
   },
   "outputs": [],
   "source": [
    "from sklearn.metrics import f1_score\n",
    "from sklearn.metrics import accuracy_score"
   ]
  },
  {
   "cell_type": "markdown",
   "metadata": {
    "id": "usFVeQfhWrbR",
    "pycharm": {
     "name": "#%% md\n"
    }
   },
   "source": [
    "**Finding the optimal number of features to use**"
   ]
  },
  {
   "cell_type": "code",
   "execution_count": null,
   "metadata": {
    "id": "hPD6aUDJAk77",
    "pycharm": {
     "name": "#%%\n"
    }
   },
   "outputs": [],
   "source": [
    "#Finding the optimal number of features to use\n",
    "model=RFC()\n",
    "model.fit(X_train,y_train)\n",
    "y_predict = model.predict(X_test)\n",
    "score = f1_score(y_test,y_predict)\n",
    "\n",
    "accu = accuracy_score(y_test,y_predict)\n",
    "print(f'accuracy {accu}, f1_score {score}')\n",
    "from sklearn.metrics import confusion_matrix, ConfusionMatrixDisplay\n",
    "cm = confusion_matrix(y_test, y_predict)\n",
    "disp = ConfusionMatrixDisplay(confusion_matrix=cm,)\n",
    "disp.plot()"
   ]
  },
  {
   "cell_type": "code",
   "execution_count": null,
   "metadata": {
    "id": "Cl83RX5KJknG",
    "pycharm": {
     "name": "#%%\n"
    }
   },
   "outputs": [],
   "source": [
    "from imblearn.over_sampling import SMOTE\n",
    "oversample=SMOTE()"
   ]
  },
  {
   "cell_type": "code",
   "execution_count": null,
   "metadata": {
    "id": "GxV8nK9dTQSD",
    "pycharm": {
     "name": "#%%\n"
    }
   },
   "outputs": [],
   "source": [
    "X,y = oversample.fit_resample(features,target)"
   ]
  },
  {
   "cell_type": "markdown",
   "metadata": {
    "id": "Y4YmzyqOSojO",
    "pycharm": {
     "name": "#%% md\n"
    }
   },
   "source": []
  },
  {
   "cell_type": "markdown",
   "metadata": {
    "id": "vanyNdOISqox",
    "pycharm": {
     "name": "#%% md\n"
    }
   },
   "source": [
    "### The optimal number of columns after experimentation is 165 features\n",
    "###                    with f1_score of 0.23"
   ]
  },
  {
   "cell_type": "code",
   "execution_count": null,
   "metadata": {
    "colab": {
     "base_uri": "https://localhost:8080/"
    },
    "id": "OEumFUj0H3o_",
    "outputId": "1fb26d30-138d-4190-a07c-005d0c1e1f3a",
    "pycharm": {
     "name": "#%%\n"
    }
   },
   "outputs": [
    {
     "name": "stdout",
     "output_type": "stream",
     "text": [
      "Looking in indexes: https://pypi.org/simple, https://us-python.pkg.dev/colab-wheels/public/simple/\n",
      "Requirement already satisfied: lightgbm in /usr/local/lib/python3.7/dist-packages (2.2.3)\n",
      "Requirement already satisfied: scipy in /usr/local/lib/python3.7/dist-packages (from lightgbm) (1.7.3)\n",
      "Requirement already satisfied: numpy in /usr/local/lib/python3.7/dist-packages (from lightgbm) (1.21.6)\n",
      "Requirement already satisfied: scikit-learn in /usr/local/lib/python3.7/dist-packages (from lightgbm) (1.0.2)\n",
      "Requirement already satisfied: threadpoolctl>=2.0.0 in /usr/local/lib/python3.7/dist-packages (from scikit-learn->lightgbm) (3.1.0)\n",
      "Requirement already satisfied: joblib>=0.11 in /usr/local/lib/python3.7/dist-packages (from scikit-learn->lightgbm) (1.1.0)\n"
     ]
    }
   ],
   "source": [
    "!pip install lightgbm"
   ]
  },
  {
   "cell_type": "code",
   "execution_count": null,
   "metadata": {
    "colab": {
     "base_uri": "https://localhost:8080/"
    },
    "id": "jXFGwoXRJlUt",
    "outputId": "70dc97a5-1ef7-461a-813d-772885288a70",
    "pycharm": {
     "name": "#%%\n"
    }
   },
   "outputs": [
    {
     "name": "stdout",
     "output_type": "stream",
     "text": [
      "Looking in indexes: https://pypi.org/simple, https://us-python.pkg.dev/colab-wheels/public/simple/\n",
      "Requirement already satisfied: xgboost in /usr/local/lib/python3.7/dist-packages (0.90)\n",
      "Requirement already satisfied: scipy in /usr/local/lib/python3.7/dist-packages (from xgboost) (1.7.3)\n",
      "Requirement already satisfied: numpy in /usr/local/lib/python3.7/dist-packages (from xgboost) (1.21.6)\n"
     ]
    }
   ],
   "source": [
    "!pip install xgboost"
   ]
  },
  {
   "cell_type": "code",
   "execution_count": null,
   "metadata": {
    "colab": {
     "base_uri": "https://localhost:8080/"
    },
    "id": "-lHDuva6Jqb6",
    "outputId": "aa87f1b8-3477-44e6-b0f7-75066c08a1d4",
    "pycharm": {
     "name": "#%%\n"
    }
   },
   "outputs": [
    {
     "name": "stdout",
     "output_type": "stream",
     "text": [
      "Looking in indexes: https://pypi.org/simple, https://us-python.pkg.dev/colab-wheels/public/simple/\n",
      "Collecting catboost\n",
      "  Downloading catboost-1.0.6-cp37-none-manylinux1_x86_64.whl (76.6 MB)\n",
      "\u001B[K     |████████████████████████████████| 76.6 MB 57 kB/s \n",
      "\u001B[?25hRequirement already satisfied: pandas>=0.24.0 in /usr/local/lib/python3.7/dist-packages (from catboost) (1.3.5)\n",
      "Requirement already satisfied: scipy in /usr/local/lib/python3.7/dist-packages (from catboost) (1.7.3)\n",
      "Requirement already satisfied: numpy>=1.16.0 in /usr/local/lib/python3.7/dist-packages (from catboost) (1.21.6)\n",
      "Requirement already satisfied: plotly in /usr/local/lib/python3.7/dist-packages (from catboost) (5.5.0)\n",
      "Requirement already satisfied: six in /usr/local/lib/python3.7/dist-packages (from catboost) (1.15.0)\n",
      "Requirement already satisfied: matplotlib in /usr/local/lib/python3.7/dist-packages (from catboost) (3.2.2)\n",
      "Requirement already satisfied: graphviz in /usr/local/lib/python3.7/dist-packages (from catboost) (0.10.1)\n",
      "Requirement already satisfied: python-dateutil>=2.7.3 in /usr/local/lib/python3.7/dist-packages (from pandas>=0.24.0->catboost) (2.8.2)\n",
      "Requirement already satisfied: pytz>=2017.3 in /usr/local/lib/python3.7/dist-packages (from pandas>=0.24.0->catboost) (2022.2.1)\n",
      "Requirement already satisfied: pyparsing!=2.0.4,!=2.1.2,!=2.1.6,>=2.0.1 in /usr/local/lib/python3.7/dist-packages (from matplotlib->catboost) (3.0.9)\n",
      "Requirement already satisfied: kiwisolver>=1.0.1 in /usr/local/lib/python3.7/dist-packages (from matplotlib->catboost) (1.4.4)\n",
      "Requirement already satisfied: cycler>=0.10 in /usr/local/lib/python3.7/dist-packages (from matplotlib->catboost) (0.11.0)\n",
      "Requirement already satisfied: typing-extensions in /usr/local/lib/python3.7/dist-packages (from kiwisolver>=1.0.1->matplotlib->catboost) (4.1.1)\n",
      "Requirement already satisfied: tenacity>=6.2.0 in /usr/local/lib/python3.7/dist-packages (from plotly->catboost) (8.0.1)\n",
      "Installing collected packages: catboost\n",
      "Successfully installed catboost-1.0.6\n"
     ]
    }
   ],
   "source": [
    "!pip install catboost\n"
   ]
  },
  {
   "cell_type": "markdown",
   "metadata": {
    "id": "cVLJD5m1Uyht",
    "pycharm": {
     "name": "#%% md\n"
    }
   },
   "source": [
    "### Model selection"
   ]
  },
  {
   "cell_type": "code",
   "execution_count": null,
   "metadata": {
    "id": "oHgwGCtzKKu1",
    "pycharm": {
     "name": "#%%\n"
    }
   },
   "outputs": [],
   "source": [
    "from lightgbm import LGBMClassifier as LGBM\n",
    "from xgboost import XGBClassifier as XGB\n",
    "from catboost import CatBoostClassifier  as Cat\n",
    "from sklearn.ensemble import VotingClassifier as Voting, HistGradientBoostingClassifier as HistGrad\n",
    "from sklearn.model_selection import cross_val_score  as cvs\n",
    "from sklearn.metrics import f1_score\n",
    "from sklearn.metrics import make_scorer\n",
    "import numpy as np"
   ]
  },
  {
   "cell_type": "markdown",
   "metadata": {
    "id": "TLf_ZMGokGHL",
    "pycharm": {
     "name": "#%% md\n"
    }
   },
   "source": [
    "Determining Accuracy of the models"
   ]
  },
  {
   "cell_type": "code",
   "execution_count": null,
   "metadata": {
    "colab": {
     "base_uri": "https://localhost:8080/"
    },
    "id": "B11yEIceLo60",
    "outputId": "4c8346a0-d946-45ad-8f2c-2819c31f92a0",
    "pycharm": {
     "name": "#%%\n"
    }
   },
   "outputs": [
    {
     "name": "stdout",
     "output_type": "stream",
     "text": [
      "LGBMClassifier()  with score of 0.8049937817268991\n",
      "XGBClassifier(verbose=0)  with score of 0.6424536387098956\n",
      "<catboost.core.CatBoostClassifier object at 0x7f29d2cb0750>  with score of 0.8085627493679739\n",
      "VotingClassifier(estimators=[('rf', RandomForestClassifier()),\n",
      "                             ('LR', LogisticRegression())],\n",
      "                 verbose=0)  with score of 0.8017296382456706\n",
      "HistGradientBoostingClassifier()  with score of 0.8018248916620249\n"
     ]
    }
   ],
   "source": [
    "models=[LGBM(),XGB(verbose=0),Cat(verbose=0),Voting([('rf',RFC()),('LR',LR()),],verbose=0),HistGrad(verbose=0)]\n",
    "\n",
    "for model in models:\n",
    "  score = cvs(model,X[feature_importances.iloc[:165].index],y,cv=4)\n",
    "  print(f'{str(model)}  with score of {np.mean(score)}')"
   ]
  },
  {
   "cell_type": "code",
   "execution_count": null,
   "metadata": {
    "id": "BHoln0RCT_0X",
    "pycharm": {
     "name": "#%%\n"
    }
   },
   "outputs": [],
   "source": [
    "from sklearn.ensemble import RandomForestClassifier as RFC\n",
    "from sklearn.linear_model import LogisticRegression as LR"
   ]
  },
  {
   "cell_type": "code",
   "execution_count": null,
   "metadata": {
    "id": "IgAXiRS7ZVu-",
    "pycharm": {
     "name": "#%%\n"
    }
   },
   "outputs": [],
   "source": [
    "f1_scorer = make_scorer(f1_score)"
   ]
  },
  {
   "cell_type": "markdown",
   "metadata": {
    "id": "PT28MLjyj_ub",
    "pycharm": {
     "name": "#%% md\n"
    }
   },
   "source": [
    "Determining f1 score for each model"
   ]
  },
  {
   "cell_type": "code",
   "execution_count": null,
   "metadata": {
    "colab": {
     "base_uri": "https://localhost:8080/"
    },
    "id": "QKwtWFQNWkhc",
    "outputId": "b94a11d9-f6df-486e-d6df-0d0ec2cf950f",
    "pycharm": {
     "name": "#%%\n"
    }
   },
   "outputs": [
    {
     "name": "stdout",
     "output_type": "stream",
     "text": [
      "LGBMClassifier()  with score of 0.6573387534091778\n",
      "XGBClassifier(verbose=0)  with score of 0.5099648814226696\n",
      "<catboost.core.CatBoostClassifier object at 0x7f29d2c291d0>  with score of 0.6611781220649107\n",
      "VotingClassifier(estimators=[('rf', RandomForestClassifier()),\n",
      "                             ('LR', LogisticRegression())],\n",
      "                 verbose=0)  with score of 0.6534200216953064\n",
      "HistGradientBoostingClassifier()  with score of 0.6541195306081851\n"
     ]
    }
   ],
   "source": [
    "models=[LGBM(),XGB(verbose=0),Cat(verbose=0),Voting([('rf',RFC()),('LR',LR()),],verbose=0),HistGrad(verbose=0)]\n",
    "\n",
    "for model in models:\n",
    "  score = cvs(model,X[feature_importances.iloc[:165].index],y,scoring=f1_scorer,cv=4)\n",
    "  print(f'{str(model)}  with score of {np.mean(score)}')"
   ]
  },
  {
   "cell_type": "markdown",
   "metadata": {
    "id": "XyuxrxgPj36D",
    "pycharm": {
     "name": "#%% md\n"
    }
   },
   "source": [
    "Test Voting classifier for the best models above"
   ]
  },
  {
   "cell_type": "code",
   "execution_count": null,
   "metadata": {
    "colab": {
     "base_uri": "https://localhost:8080/"
    },
    "id": "R8gqhwu_f9yL",
    "outputId": "369083d4-aec5-4970-ee8e-065804747a43",
    "pycharm": {
     "name": "#%%\n"
    }
   },
   "outputs": [
    {
     "name": "stdout",
     "output_type": "stream",
     "text": [
      "VotingClassifier(estimators=[('lgbm', LGBMClassifier()),\n",
      "                             ('LR',\n",
      "                              <catboost.core.CatBoostClassifier object at 0x7f29d4089390>)],\n",
      "                 verbose=0)  with f1_score of 0.6573181788643429 and with accuracy of0.8052859066679503\n"
     ]
    }
   ],
   "source": [
    "model = Voting([('lgbm',LGBM()),('LR',Cat(verbose=0)),],verbose=0)\n",
    "accuracy = cvs(model,X[feature_importances.iloc[:165].index],y,cv=4)\n",
    "score = cvs(model,X[feature_importances.iloc[:165].index],y,scoring=f1_scorer,cv=4)\n",
    "print(f'{str(model)}  with f1_score of {np.mean(score)} and with accuracy of{np.mean(accuracy)}')"
   ]
  },
  {
   "cell_type": "markdown",
   "metadata": {
    "id": "qEqszWFejrla",
    "pycharm": {
     "name": "#%% md\n"
    }
   },
   "source": []
  },
  {
   "cell_type": "markdown",
   "metadata": {
    "id": "Zk1Mb_4ijOzw",
    "pycharm": {
     "name": "#%% md\n"
    }
   },
   "source": [
    "###  The best algorithm to use is CatBoostClassifier with an accuracy of 80.8% and f1 score of 0.66 "
   ]
  },
  {
   "cell_type": "code",
   "execution_count": null,
   "metadata": {
    "id": "P8LdV5SUpnmk",
    "pycharm": {
     "name": "#%%\n"
    }
   },
   "outputs": [],
   "source": [
    "import joblib"
   ]
  },
  {
   "cell_type": "code",
   "execution_count": null,
   "metadata": {
    "id": "OFeFQ1O5jNyI",
    "pycharm": {
     "name": "#%%\n"
    }
   },
   "outputs": [],
   "source": [
    "model=Cat(verbose=0)\n"
   ]
  },
  {
   "cell_type": "code",
   "execution_count": null,
   "metadata": {
    "colab": {
     "base_uri": "https://localhost:8080/"
    },
    "id": "hkhMaTnzZ8vE",
    "outputId": "0ced4306-d9d7-4d1a-ef86-e7e5b65553a6",
    "pycharm": {
     "name": "#%%\n"
    }
   },
   "outputs": [
    {
     "data": {
      "text/plain": [
       "<catboost.core.CatBoostClassifier at 0x7f29d407a050>"
      ]
     },
     "execution_count": 84,
     "metadata": {},
     "output_type": "execute_result"
    }
   ],
   "source": [
    "model.fit(X[feature_importances.iloc[:165].index],y)"
   ]
  },
  {
   "cell_type": "code",
   "execution_count": null,
   "metadata": {
    "colab": {
     "base_uri": "https://localhost:8080/"
    },
    "id": "CV0STU6irFZB",
    "outputId": "ae9540b0-8a39-40df-ca8e-bfc032e79f65",
    "pycharm": {
     "name": "#%%\n"
    }
   },
   "outputs": [
    {
     "data": {
      "text/plain": [
       "['mobileModel.sav']"
      ]
     },
     "execution_count": 85,
     "metadata": {},
     "output_type": "execute_result"
    }
   ],
   "source": [
    "joblib.dump(model,'mobileModel.sav')"
   ]
  },
  {
   "cell_type": "code",
   "execution_count": null,
   "metadata": {
    "id": "L2T4U-IvrnE0",
    "pycharm": {
     "name": "#%%\n"
    }
   },
   "outputs": [],
   "source": [
    "model1=joblib.load('mobileModel.sav')"
   ]
  },
  {
   "cell_type": "code",
   "execution_count": null,
   "metadata": {
    "colab": {
     "base_uri": "https://localhost:8080/"
    },
    "id": "iW70dEQWr_jC",
    "outputId": "63200a10-6b89-4e33-9e0f-b92506fe0bdf",
    "pycharm": {
     "name": "#%%\n"
    }
   },
   "outputs": [
    {
     "data": {
      "text/plain": [
       "<catboost.core.CatBoostClassifier at 0x7f29d2c0ff90>"
      ]
     },
     "execution_count": 87,
     "metadata": {},
     "output_type": "execute_result"
    }
   ],
   "source": [
    "model1"
   ]
  },
  {
   "cell_type": "code",
   "execution_count": null,
   "metadata": {
    "colab": {
     "base_uri": "https://localhost:8080/"
    },
    "id": "wJb4c4aDsG0n",
    "outputId": "b1395d0a-5eea-4a6f-be41-253d6917e4a1",
    "pycharm": {
     "name": "#%%\n"
    }
   },
   "outputs": [
    {
     "name": "stdout",
     "output_type": "stream",
     "text": [
      "/content\n"
     ]
    }
   ],
   "source": [
    "!pwd"
   ]
  }
 ],
 "metadata": {
  "colab": {
   "collapsed_sections": [],
   "name": "modelling.ipynb",
   "provenance": []
  },
  "kernelspec": {
   "display_name": "Python 3",
   "language": "python",
   "name": "python3"
  },
  "language_info": {
   "codemirror_mode": {
    "name": "ipython",
    "version": 3
   },
   "file_extension": ".py",
   "mimetype": "text/x-python",
   "name": "python",
   "nbconvert_exporter": "python",
   "pygments_lexer": "ipython3",
   "version": "3.8.8"
  }
 },
 "nbformat": 4,
 "nbformat_minor": 4
}